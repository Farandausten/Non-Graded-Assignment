{
 "cells": [
  {
   "cell_type": "code",
   "execution_count": 1,
   "metadata": {},
   "outputs": [],
   "source": [
    "import pandas as pd\n",
    "import numpy as np\n",
    "import matplotlib.pyplot as plt\n",
    "import seaborn as sns\n",
    "\n",
    "%matplotlib inline"
   ]
  },
  {
   "cell_type": "markdown",
   "metadata": {},
   "source": [
    "## This week we learn about 5 important things: \n",
    "1. **What is Machine Learning**\n",
    "2. **Model Training Procedure**\n",
    "\n",
    "Gradient descent etc.\n",
    "\n",
    "3. **Classification & Regression**\n",
    "\n",
    "How the problem differs, the performance metric, and appropriate preprocessing\n",
    "\n",
    "4. **Linear Model, Logistic Regression, & its Hyperparameter**\n",
    "\n",
    "Mathematical model, regularization, and when to use which\n",
    "\n",
    "5. **Support Vector Machine & its Hyperparameter**\n",
    "\n",
    "Kernel, soft-margin, and its application to regression or classification"
   ]
  },
  {
   "cell_type": "code",
   "execution_count": null,
   "metadata": {},
   "outputs": [],
   "source": [
    "pipeline"
   ]
  },
  {
   "cell_type": "markdown",
   "metadata": {},
   "source": [
    "# ML Landscape"
   ]
  },
  {
   "cell_type": "markdown",
   "metadata": {},
   "source": [
    "*Machine  Learning  is  the  field  of  study  that  gives computers the ability to learn without being explicitly programmed.*\n",
    "\n",
    "— Arthur Samuel, 1959"
   ]
  },
  {
   "cell_type": "markdown",
   "metadata": {},
   "source": [
    "In Data Science, we can use machine learning to construct a predictive model. Simply put, we give the model a set of input data and the model will give as an output. By machine learning, we can get our machine to automatically fit a model that give the most appropriate output by learning from set of data that we have previously give."
   ]
  },
  {
   "cell_type": "markdown",
   "metadata": {},
   "source": [
    "Imagine we have a set of house price data from 2014-05 to 2015-02 as follows"
   ]
  },
  {
   "cell_type": "code",
   "execution_count": 2,
   "metadata": {},
   "outputs": [
    {
     "data": {
      "text/html": [
       "<div>\n",
       "<style scoped>\n",
       "    .dataframe tbody tr th:only-of-type {\n",
       "        vertical-align: middle;\n",
       "    }\n",
       "\n",
       "    .dataframe tbody tr th {\n",
       "        vertical-align: top;\n",
       "    }\n",
       "\n",
       "    .dataframe thead th {\n",
       "        text-align: right;\n",
       "    }\n",
       "</style>\n",
       "<table border=\"1\" class=\"dataframe\">\n",
       "  <thead>\n",
       "    <tr style=\"text-align: right;\">\n",
       "      <th></th>\n",
       "      <th>id</th>\n",
       "      <th>date</th>\n",
       "      <th>sqft_living</th>\n",
       "      <th>sqft_lot</th>\n",
       "      <th>sqft_above</th>\n",
       "      <th>sqft_basement</th>\n",
       "      <th>floors</th>\n",
       "      <th>bedrooms</th>\n",
       "      <th>bathrooms</th>\n",
       "      <th>condition</th>\n",
       "      <th>grade</th>\n",
       "      <th>price</th>\n",
       "    </tr>\n",
       "  </thead>\n",
       "  <tbody>\n",
       "    <tr>\n",
       "      <th>8892</th>\n",
       "      <td>1245003160</td>\n",
       "      <td>20140502</td>\n",
       "      <td>2200</td>\n",
       "      <td>11250</td>\n",
       "      <td>1300</td>\n",
       "      <td>900</td>\n",
       "      <td>1.5</td>\n",
       "      <td>4</td>\n",
       "      <td>2.25</td>\n",
       "      <td>5</td>\n",
       "      <td>7</td>\n",
       "      <td>698000.0</td>\n",
       "    </tr>\n",
       "    <tr>\n",
       "      <th>172</th>\n",
       "      <td>1999700045</td>\n",
       "      <td>20140502</td>\n",
       "      <td>1340</td>\n",
       "      <td>7912</td>\n",
       "      <td>1340</td>\n",
       "      <td>0</td>\n",
       "      <td>1.5</td>\n",
       "      <td>3</td>\n",
       "      <td>1.50</td>\n",
       "      <td>3</td>\n",
       "      <td>7</td>\n",
       "      <td>313000.0</td>\n",
       "    </tr>\n",
       "    <tr>\n",
       "      <th>19830</th>\n",
       "      <td>9267200226</td>\n",
       "      <td>20140502</td>\n",
       "      <td>1770</td>\n",
       "      <td>1235</td>\n",
       "      <td>1600</td>\n",
       "      <td>170</td>\n",
       "      <td>3.0</td>\n",
       "      <td>3</td>\n",
       "      <td>2.50</td>\n",
       "      <td>3</td>\n",
       "      <td>8</td>\n",
       "      <td>436110.0</td>\n",
       "    </tr>\n",
       "    <tr>\n",
       "      <th>502</th>\n",
       "      <td>5467900070</td>\n",
       "      <td>20140502</td>\n",
       "      <td>1930</td>\n",
       "      <td>11947</td>\n",
       "      <td>1930</td>\n",
       "      <td>0</td>\n",
       "      <td>1.0</td>\n",
       "      <td>3</td>\n",
       "      <td>2.00</td>\n",
       "      <td>4</td>\n",
       "      <td>8</td>\n",
       "      <td>342000.0</td>\n",
       "    </tr>\n",
       "    <tr>\n",
       "      <th>1041</th>\n",
       "      <td>7197300105</td>\n",
       "      <td>20140502</td>\n",
       "      <td>1940</td>\n",
       "      <td>10500</td>\n",
       "      <td>1140</td>\n",
       "      <td>800</td>\n",
       "      <td>1.0</td>\n",
       "      <td>4</td>\n",
       "      <td>2.50</td>\n",
       "      <td>4</td>\n",
       "      <td>7</td>\n",
       "      <td>550000.0</td>\n",
       "    </tr>\n",
       "    <tr>\n",
       "      <th>...</th>\n",
       "      <td>...</td>\n",
       "      <td>...</td>\n",
       "      <td>...</td>\n",
       "      <td>...</td>\n",
       "      <td>...</td>\n",
       "      <td>...</td>\n",
       "      <td>...</td>\n",
       "      <td>...</td>\n",
       "      <td>...</td>\n",
       "      <td>...</td>\n",
       "      <td>...</td>\n",
       "      <td>...</td>\n",
       "    </tr>\n",
       "    <tr>\n",
       "      <th>5214</th>\n",
       "      <td>3303980680</td>\n",
       "      <td>20150228</td>\n",
       "      <td>3430</td>\n",
       "      <td>13609</td>\n",
       "      <td>3430</td>\n",
       "      <td>0</td>\n",
       "      <td>2.0</td>\n",
       "      <td>4</td>\n",
       "      <td>3.50</td>\n",
       "      <td>3</td>\n",
       "      <td>11</td>\n",
       "      <td>997000.0</td>\n",
       "    </tr>\n",
       "    <tr>\n",
       "      <th>21306</th>\n",
       "      <td>1862400541</td>\n",
       "      <td>20150228</td>\n",
       "      <td>1810</td>\n",
       "      <td>1585</td>\n",
       "      <td>1810</td>\n",
       "      <td>0</td>\n",
       "      <td>3.0</td>\n",
       "      <td>3</td>\n",
       "      <td>2.50</td>\n",
       "      <td>3</td>\n",
       "      <td>7</td>\n",
       "      <td>579950.0</td>\n",
       "    </tr>\n",
       "    <tr>\n",
       "      <th>308</th>\n",
       "      <td>7171200445</td>\n",
       "      <td>20150228</td>\n",
       "      <td>1010</td>\n",
       "      <td>5000</td>\n",
       "      <td>1010</td>\n",
       "      <td>0</td>\n",
       "      <td>1.5</td>\n",
       "      <td>2</td>\n",
       "      <td>1.00</td>\n",
       "      <td>4</td>\n",
       "      <td>6</td>\n",
       "      <td>550700.0</td>\n",
       "    </tr>\n",
       "    <tr>\n",
       "      <th>2750</th>\n",
       "      <td>2408600160</td>\n",
       "      <td>20150228</td>\n",
       "      <td>1252</td>\n",
       "      <td>25002</td>\n",
       "      <td>992</td>\n",
       "      <td>260</td>\n",
       "      <td>1.0</td>\n",
       "      <td>4</td>\n",
       "      <td>2.50</td>\n",
       "      <td>3</td>\n",
       "      <td>8</td>\n",
       "      <td>352000.0</td>\n",
       "    </tr>\n",
       "    <tr>\n",
       "      <th>14760</th>\n",
       "      <td>5412200180</td>\n",
       "      <td>20150228</td>\n",
       "      <td>1840</td>\n",
       "      <td>6214</td>\n",
       "      <td>1270</td>\n",
       "      <td>570</td>\n",
       "      <td>1.0</td>\n",
       "      <td>3</td>\n",
       "      <td>2.25</td>\n",
       "      <td>4</td>\n",
       "      <td>7</td>\n",
       "      <td>285000.0</td>\n",
       "    </tr>\n",
       "  </tbody>\n",
       "</table>\n",
       "<p>16861 rows × 12 columns</p>\n",
       "</div>"
      ],
      "text/plain": [
       "               id      date  sqft_living  sqft_lot  sqft_above  sqft_basement  \\\n",
       "8892   1245003160  20140502         2200     11250        1300            900   \n",
       "172    1999700045  20140502         1340      7912        1340              0   \n",
       "19830  9267200226  20140502         1770      1235        1600            170   \n",
       "502    5467900070  20140502         1930     11947        1930              0   \n",
       "1041   7197300105  20140502         1940     10500        1140            800   \n",
       "...           ...       ...          ...       ...         ...            ...   \n",
       "5214   3303980680  20150228         3430     13609        3430              0   \n",
       "21306  1862400541  20150228         1810      1585        1810              0   \n",
       "308    7171200445  20150228         1010      5000        1010              0   \n",
       "2750   2408600160  20150228         1252     25002         992            260   \n",
       "14760  5412200180  20150228         1840      6214        1270            570   \n",
       "\n",
       "       floors  bedrooms  bathrooms  condition  grade     price  \n",
       "8892      1.5         4       2.25          5      7  698000.0  \n",
       "172       1.5         3       1.50          3      7  313000.0  \n",
       "19830     3.0         3       2.50          3      8  436110.0  \n",
       "502       1.0         3       2.00          4      8  342000.0  \n",
       "1041      1.0         4       2.50          4      7  550000.0  \n",
       "...       ...       ...        ...        ...    ...       ...  \n",
       "5214      2.0         4       3.50          3     11  997000.0  \n",
       "21306     3.0         3       2.50          3      7  579950.0  \n",
       "308       1.5         2       1.00          4      6  550700.0  \n",
       "2750      1.0         4       2.50          3      8  352000.0  \n",
       "14760     1.0         3       2.25          4      7  285000.0  \n",
       "\n",
       "[16861 rows x 12 columns]"
      ]
     },
     "execution_count": 2,
     "metadata": {},
     "output_type": "execute_result"
    }
   ],
   "source": [
    "id_cols = ['id','date']\n",
    "feature_cols = ['sqft_living','sqft_lot','sqft_above','sqft_basement'\n",
    "                ,'floors','bedrooms','bathrooms','condition','grade']\n",
    "target_cols = ['price']\n",
    "df=pd.read_csv('data/kc_house_data.csv',usecols=id_cols+feature_cols+target_cols)\n",
    "df=df[id_cols+feature_cols+target_cols]\n",
    "df['date']=df['date'].astype(str).apply(lambda x:x[0:8])\n",
    "df_train = df[df['date']<'201503'].sort_values(['date'])\n",
    "df_train"
   ]
  },
  {
   "cell_type": "markdown",
   "metadata": {},
   "source": [
    "Then, we are given a set of house data on 2015-03 onwards as follows, unfortunately we are unable to get the price data for these data"
   ]
  },
  {
   "cell_type": "code",
   "execution_count": 3,
   "metadata": {},
   "outputs": [
    {
     "data": {
      "text/html": [
       "<div>\n",
       "<style scoped>\n",
       "    .dataframe tbody tr th:only-of-type {\n",
       "        vertical-align: middle;\n",
       "    }\n",
       "\n",
       "    .dataframe tbody tr th {\n",
       "        vertical-align: top;\n",
       "    }\n",
       "\n",
       "    .dataframe thead th {\n",
       "        text-align: right;\n",
       "    }\n",
       "</style>\n",
       "<table border=\"1\" class=\"dataframe\">\n",
       "  <thead>\n",
       "    <tr style=\"text-align: right;\">\n",
       "      <th></th>\n",
       "      <th>id</th>\n",
       "      <th>date</th>\n",
       "      <th>sqft_living</th>\n",
       "      <th>sqft_lot</th>\n",
       "      <th>sqft_above</th>\n",
       "      <th>sqft_basement</th>\n",
       "      <th>floors</th>\n",
       "      <th>bedrooms</th>\n",
       "      <th>bathrooms</th>\n",
       "      <th>condition</th>\n",
       "      <th>grade</th>\n",
       "    </tr>\n",
       "  </thead>\n",
       "  <tbody>\n",
       "    <tr>\n",
       "      <th>12313</th>\n",
       "      <td>7519001275</td>\n",
       "      <td>20150301</td>\n",
       "      <td>1510</td>\n",
       "      <td>5200</td>\n",
       "      <td>860</td>\n",
       "      <td>650</td>\n",
       "      <td>1.0</td>\n",
       "      <td>3</td>\n",
       "      <td>1.75</td>\n",
       "      <td>4</td>\n",
       "      <td>7</td>\n",
       "    </tr>\n",
       "    <tr>\n",
       "      <th>19176</th>\n",
       "      <td>9191201325</td>\n",
       "      <td>20150301</td>\n",
       "      <td>2040</td>\n",
       "      <td>2750</td>\n",
       "      <td>1260</td>\n",
       "      <td>780</td>\n",
       "      <td>1.5</td>\n",
       "      <td>4</td>\n",
       "      <td>1.75</td>\n",
       "      <td>4</td>\n",
       "      <td>6</td>\n",
       "    </tr>\n",
       "    <tr>\n",
       "      <th>9015</th>\n",
       "      <td>7518500301</td>\n",
       "      <td>20150301</td>\n",
       "      <td>1180</td>\n",
       "      <td>2250</td>\n",
       "      <td>1180</td>\n",
       "      <td>0</td>\n",
       "      <td>1.5</td>\n",
       "      <td>3</td>\n",
       "      <td>1.00</td>\n",
       "      <td>3</td>\n",
       "      <td>7</td>\n",
       "    </tr>\n",
       "    <tr>\n",
       "      <th>18100</th>\n",
       "      <td>9191201385</td>\n",
       "      <td>20150301</td>\n",
       "      <td>1640</td>\n",
       "      <td>3400</td>\n",
       "      <td>930</td>\n",
       "      <td>710</td>\n",
       "      <td>1.0</td>\n",
       "      <td>3</td>\n",
       "      <td>1.75</td>\n",
       "      <td>4</td>\n",
       "      <td>7</td>\n",
       "    </tr>\n",
       "    <tr>\n",
       "      <th>19344</th>\n",
       "      <td>2114700090</td>\n",
       "      <td>20150301</td>\n",
       "      <td>720</td>\n",
       "      <td>5040</td>\n",
       "      <td>720</td>\n",
       "      <td>0</td>\n",
       "      <td>1.0</td>\n",
       "      <td>2</td>\n",
       "      <td>0.75</td>\n",
       "      <td>3</td>\n",
       "      <td>4</td>\n",
       "    </tr>\n",
       "    <tr>\n",
       "      <th>...</th>\n",
       "      <td>...</td>\n",
       "      <td>...</td>\n",
       "      <td>...</td>\n",
       "      <td>...</td>\n",
       "      <td>...</td>\n",
       "      <td>...</td>\n",
       "      <td>...</td>\n",
       "      <td>...</td>\n",
       "      <td>...</td>\n",
       "      <td>...</td>\n",
       "      <td>...</td>\n",
       "    </tr>\n",
       "    <tr>\n",
       "      <th>20472</th>\n",
       "      <td>5057100110</td>\n",
       "      <td>20150514</td>\n",
       "      <td>3223</td>\n",
       "      <td>6371</td>\n",
       "      <td>3223</td>\n",
       "      <td>0</td>\n",
       "      <td>2.0</td>\n",
       "      <td>5</td>\n",
       "      <td>3.00</td>\n",
       "      <td>3</td>\n",
       "      <td>9</td>\n",
       "    </tr>\n",
       "    <tr>\n",
       "      <th>6197</th>\n",
       "      <td>9178601660</td>\n",
       "      <td>20150514</td>\n",
       "      <td>3320</td>\n",
       "      <td>5354</td>\n",
       "      <td>3320</td>\n",
       "      <td>0</td>\n",
       "      <td>2.0</td>\n",
       "      <td>5</td>\n",
       "      <td>3.00</td>\n",
       "      <td>3</td>\n",
       "      <td>9</td>\n",
       "    </tr>\n",
       "    <tr>\n",
       "      <th>5637</th>\n",
       "      <td>7923600250</td>\n",
       "      <td>20150515</td>\n",
       "      <td>1870</td>\n",
       "      <td>7344</td>\n",
       "      <td>1870</td>\n",
       "      <td>0</td>\n",
       "      <td>1.5</td>\n",
       "      <td>5</td>\n",
       "      <td>2.00</td>\n",
       "      <td>3</td>\n",
       "      <td>7</td>\n",
       "    </tr>\n",
       "    <tr>\n",
       "      <th>13053</th>\n",
       "      <td>5101400871</td>\n",
       "      <td>20150524</td>\n",
       "      <td>1390</td>\n",
       "      <td>6670</td>\n",
       "      <td>720</td>\n",
       "      <td>670</td>\n",
       "      <td>1.0</td>\n",
       "      <td>2</td>\n",
       "      <td>1.75</td>\n",
       "      <td>3</td>\n",
       "      <td>6</td>\n",
       "    </tr>\n",
       "    <tr>\n",
       "      <th>16594</th>\n",
       "      <td>9106000005</td>\n",
       "      <td>20150527</td>\n",
       "      <td>3750</td>\n",
       "      <td>5000</td>\n",
       "      <td>2440</td>\n",
       "      <td>1310</td>\n",
       "      <td>2.0</td>\n",
       "      <td>4</td>\n",
       "      <td>2.25</td>\n",
       "      <td>5</td>\n",
       "      <td>8</td>\n",
       "    </tr>\n",
       "  </tbody>\n",
       "</table>\n",
       "<p>4752 rows × 11 columns</p>\n",
       "</div>"
      ],
      "text/plain": [
       "               id      date  sqft_living  sqft_lot  sqft_above  sqft_basement  \\\n",
       "12313  7519001275  20150301         1510      5200         860            650   \n",
       "19176  9191201325  20150301         2040      2750        1260            780   \n",
       "9015   7518500301  20150301         1180      2250        1180              0   \n",
       "18100  9191201385  20150301         1640      3400         930            710   \n",
       "19344  2114700090  20150301          720      5040         720              0   \n",
       "...           ...       ...          ...       ...         ...            ...   \n",
       "20472  5057100110  20150514         3223      6371        3223              0   \n",
       "6197   9178601660  20150514         3320      5354        3320              0   \n",
       "5637   7923600250  20150515         1870      7344        1870              0   \n",
       "13053  5101400871  20150524         1390      6670         720            670   \n",
       "16594  9106000005  20150527         3750      5000        2440           1310   \n",
       "\n",
       "       floors  bedrooms  bathrooms  condition  grade  \n",
       "12313     1.0         3       1.75          4      7  \n",
       "19176     1.5         4       1.75          4      6  \n",
       "9015      1.5         3       1.00          3      7  \n",
       "18100     1.0         3       1.75          4      7  \n",
       "19344     1.0         2       0.75          3      4  \n",
       "...       ...       ...        ...        ...    ...  \n",
       "20472     2.0         5       3.00          3      9  \n",
       "6197      2.0         5       3.00          3      9  \n",
       "5637      1.5         5       2.00          3      7  \n",
       "13053     1.0         2       1.75          3      6  \n",
       "16594     2.0         4       2.25          5      8  \n",
       "\n",
       "[4752 rows x 11 columns]"
      ]
     },
     "execution_count": 3,
     "metadata": {},
     "output_type": "execute_result"
    }
   ],
   "source": [
    "df_test = df[df['date']>='201503'].sort_values(['date'])[id_cols+feature_cols]\n",
    "df_test"
   ]
  },
  {
   "cell_type": "markdown",
   "metadata": {},
   "source": [
    "With the help of Machine Learning, we can build a model, program, or algorithm to estimate the right price for the new data we have.\n",
    "\n",
    "Based on the output type, we can classify machine learning into two type, classification or regression machine. Classification means we are predicting classes and regression means we are predicting quantities. In the house price example, we need to make a regression model."
   ]
  },
  {
   "cell_type": "markdown",
   "metadata": {},
   "source": [
    "## Linear Regression Model"
   ]
  },
  {
   "cell_type": "markdown",
   "metadata": {},
   "source": [
    "There are five assumptions associated with a linear regression model:\n",
    "\n",
    "- Linear relationship: The relationship between X and the mean of Y is linear.\n",
    "- Multivariate normality: For any fixed value of X, Y is normally distributed.\n",
    "- No or little multicollinearity: Observations are independent of each other.\n",
    "- No auto-correlation: The residuals are independent from each other.\n",
    "- Homoscedasticity: The variance of residual is the same for any value of X.\n",
    "\n",
    "If any of these assumptions is violated (i.e., if there are nonlinear relationships between dependent and independent variables or the errors exhibit correlation, heteroscedasticity, or non-normality), then the forecasts, confidence intervals, and scientific insights yielded by a regression model may be (at best) **inefficient** or (at worst) seriously **biased or misleading**"
   ]
  },
  {
   "cell_type": "markdown",
   "metadata": {},
   "source": [
    "# Regression"
   ]
  },
  {
   "cell_type": "code",
   "execution_count": 4,
   "metadata": {},
   "outputs": [
    {
     "data": {
      "text/html": [
       "<div>\n",
       "<style scoped>\n",
       "    .dataframe tbody tr th:only-of-type {\n",
       "        vertical-align: middle;\n",
       "    }\n",
       "\n",
       "    .dataframe tbody tr th {\n",
       "        vertical-align: top;\n",
       "    }\n",
       "\n",
       "    .dataframe thead th {\n",
       "        text-align: right;\n",
       "    }\n",
       "</style>\n",
       "<table border=\"1\" class=\"dataframe\">\n",
       "  <thead>\n",
       "    <tr style=\"text-align: right;\">\n",
       "      <th></th>\n",
       "      <th>id</th>\n",
       "      <th>sqft_living</th>\n",
       "      <th>sqft_lot</th>\n",
       "      <th>sqft_above</th>\n",
       "      <th>sqft_basement</th>\n",
       "      <th>floors</th>\n",
       "      <th>bedrooms</th>\n",
       "      <th>bathrooms</th>\n",
       "      <th>condition</th>\n",
       "      <th>grade</th>\n",
       "      <th>price</th>\n",
       "    </tr>\n",
       "  </thead>\n",
       "  <tbody>\n",
       "    <tr>\n",
       "      <th>count</th>\n",
       "      <td>1.686100e+04</td>\n",
       "      <td>16861.000000</td>\n",
       "      <td>1.686100e+04</td>\n",
       "      <td>16861.000000</td>\n",
       "      <td>16861.000000</td>\n",
       "      <td>16861.000000</td>\n",
       "      <td>16861.000000</td>\n",
       "      <td>16861.000000</td>\n",
       "      <td>16861.000000</td>\n",
       "      <td>16861.000000</td>\n",
       "      <td>1.686100e+04</td>\n",
       "    </tr>\n",
       "    <tr>\n",
       "      <th>mean</th>\n",
       "      <td>4.563955e+09</td>\n",
       "      <td>2091.076627</td>\n",
       "      <td>1.502738e+04</td>\n",
       "      <td>1797.127454</td>\n",
       "      <td>293.949173</td>\n",
       "      <td>1.498636</td>\n",
       "      <td>3.375007</td>\n",
       "      <td>2.123792</td>\n",
       "      <td>3.423285</td>\n",
       "      <td>7.669830</td>\n",
       "      <td>5.360867e+05</td>\n",
       "    </tr>\n",
       "    <tr>\n",
       "      <th>std</th>\n",
       "      <td>2.874015e+09</td>\n",
       "      <td>928.258847</td>\n",
       "      <td>3.899894e+04</td>\n",
       "      <td>836.358189</td>\n",
       "      <td>446.580507</td>\n",
       "      <td>0.541541</td>\n",
       "      <td>0.937673</td>\n",
       "      <td>0.773627</td>\n",
       "      <td>0.661786</td>\n",
       "      <td>1.179474</td>\n",
       "      <td>3.660370e+05</td>\n",
       "    </tr>\n",
       "    <tr>\n",
       "      <th>min</th>\n",
       "      <td>1.000102e+06</td>\n",
       "      <td>290.000000</td>\n",
       "      <td>5.200000e+02</td>\n",
       "      <td>290.000000</td>\n",
       "      <td>0.000000</td>\n",
       "      <td>1.000000</td>\n",
       "      <td>0.000000</td>\n",
       "      <td>0.000000</td>\n",
       "      <td>1.000000</td>\n",
       "      <td>1.000000</td>\n",
       "      <td>7.500000e+04</td>\n",
       "    </tr>\n",
       "    <tr>\n",
       "      <th>25%</th>\n",
       "      <td>2.113701e+09</td>\n",
       "      <td>1430.000000</td>\n",
       "      <td>5.075000e+03</td>\n",
       "      <td>1200.000000</td>\n",
       "      <td>0.000000</td>\n",
       "      <td>1.000000</td>\n",
       "      <td>3.000000</td>\n",
       "      <td>1.750000</td>\n",
       "      <td>3.000000</td>\n",
       "      <td>7.000000</td>\n",
       "      <td>3.199900e+05</td>\n",
       "    </tr>\n",
       "    <tr>\n",
       "      <th>50%</th>\n",
       "      <td>3.904901e+09</td>\n",
       "      <td>1920.000000</td>\n",
       "      <td>7.650000e+03</td>\n",
       "      <td>1570.000000</td>\n",
       "      <td>0.000000</td>\n",
       "      <td>1.500000</td>\n",
       "      <td>3.000000</td>\n",
       "      <td>2.250000</td>\n",
       "      <td>3.000000</td>\n",
       "      <td>7.000000</td>\n",
       "      <td>4.490000e+05</td>\n",
       "    </tr>\n",
       "    <tr>\n",
       "      <th>75%</th>\n",
       "      <td>7.299601e+09</td>\n",
       "      <td>2560.000000</td>\n",
       "      <td>1.076600e+04</td>\n",
       "      <td>2230.000000</td>\n",
       "      <td>570.000000</td>\n",
       "      <td>2.000000</td>\n",
       "      <td>4.000000</td>\n",
       "      <td>2.500000</td>\n",
       "      <td>4.000000</td>\n",
       "      <td>8.000000</td>\n",
       "      <td>6.400000e+05</td>\n",
       "    </tr>\n",
       "    <tr>\n",
       "      <th>max</th>\n",
       "      <td>9.900000e+09</td>\n",
       "      <td>13540.000000</td>\n",
       "      <td>1.074218e+06</td>\n",
       "      <td>9410.000000</td>\n",
       "      <td>4820.000000</td>\n",
       "      <td>3.500000</td>\n",
       "      <td>33.000000</td>\n",
       "      <td>8.000000</td>\n",
       "      <td>5.000000</td>\n",
       "      <td>13.000000</td>\n",
       "      <td>7.700000e+06</td>\n",
       "    </tr>\n",
       "  </tbody>\n",
       "</table>\n",
       "</div>"
      ],
      "text/plain": [
       "                 id   sqft_living      sqft_lot    sqft_above  sqft_basement  \\\n",
       "count  1.686100e+04  16861.000000  1.686100e+04  16861.000000   16861.000000   \n",
       "mean   4.563955e+09   2091.076627  1.502738e+04   1797.127454     293.949173   \n",
       "std    2.874015e+09    928.258847  3.899894e+04    836.358189     446.580507   \n",
       "min    1.000102e+06    290.000000  5.200000e+02    290.000000       0.000000   \n",
       "25%    2.113701e+09   1430.000000  5.075000e+03   1200.000000       0.000000   \n",
       "50%    3.904901e+09   1920.000000  7.650000e+03   1570.000000       0.000000   \n",
       "75%    7.299601e+09   2560.000000  1.076600e+04   2230.000000     570.000000   \n",
       "max    9.900000e+09  13540.000000  1.074218e+06   9410.000000    4820.000000   \n",
       "\n",
       "             floors      bedrooms     bathrooms     condition         grade  \\\n",
       "count  16861.000000  16861.000000  16861.000000  16861.000000  16861.000000   \n",
       "mean       1.498636      3.375007      2.123792      3.423285      7.669830   \n",
       "std        0.541541      0.937673      0.773627      0.661786      1.179474   \n",
       "min        1.000000      0.000000      0.000000      1.000000      1.000000   \n",
       "25%        1.000000      3.000000      1.750000      3.000000      7.000000   \n",
       "50%        1.500000      3.000000      2.250000      3.000000      7.000000   \n",
       "75%        2.000000      4.000000      2.500000      4.000000      8.000000   \n",
       "max        3.500000     33.000000      8.000000      5.000000     13.000000   \n",
       "\n",
       "              price  \n",
       "count  1.686100e+04  \n",
       "mean   5.360867e+05  \n",
       "std    3.660370e+05  \n",
       "min    7.500000e+04  \n",
       "25%    3.199900e+05  \n",
       "50%    4.490000e+05  \n",
       "75%    6.400000e+05  \n",
       "max    7.700000e+06  "
      ]
     },
     "execution_count": 4,
     "metadata": {},
     "output_type": "execute_result"
    }
   ],
   "source": [
    "df_train.describe()"
   ]
  },
  {
   "cell_type": "code",
   "execution_count": 21,
   "metadata": {},
   "outputs": [],
   "source": [
    "X = df_train[feature_cols]\n",
    "y = df_train['price']"
   ]
  },
  {
   "cell_type": "code",
   "execution_count": 162,
   "metadata": {},
   "outputs": [
    {
     "data": {
      "text/plain": [
       "<AxesSubplot:xlabel='sqft_living', ylabel='price'>"
      ]
     },
     "execution_count": 162,
     "metadata": {},
     "output_type": "execute_result"
    },
    {
     "data": {
      "image/png": "[encoded data removed]",
      "text/plain": [
       "<Figure size 432x288 with 1 Axes>"
      ]
     },
     "metadata": {
      "needs_background": "light"
     },
     "output_type": "display_data"
    }
   ],
   "source": [
    "sns.scatterplot(data=df_train,x='sqft_living',y='price')"
   ]
  },
  {
   "cell_type": "markdown",
   "metadata": {},
   "source": [
    "After we explore the data enough, we can decide which features we want to use on our model. It is also a common practice to add other features that is previously not on the dataset by manipulating one or more column values. This practice is called Feature Engineering"
   ]
  },
  {
   "cell_type": "markdown",
   "metadata": {},
   "source": [
    "Handling Autocorrelated features"
   ]
  },
  {
   "cell_type": "code",
   "execution_count": 22,
   "metadata": {},
   "outputs": [
    {
     "name": "stdout",
     "output_type": "stream",
     "text": [
      "8\n"
     ]
    },
    {
     "data": {
      "text/html": [
       "<div>\n",
       "<style scoped>\n",
       "    .dataframe tbody tr th:only-of-type {\n",
       "        vertical-align: middle;\n",
       "    }\n",
       "\n",
       "    .dataframe tbody tr th {\n",
       "        vertical-align: top;\n",
       "    }\n",
       "\n",
       "    .dataframe thead th {\n",
       "        text-align: right;\n",
       "    }\n",
       "</style>\n",
       "<table border=\"1\" class=\"dataframe\">\n",
       "  <thead>\n",
       "    <tr style=\"text-align: right;\">\n",
       "      <th></th>\n",
       "      <th>id</th>\n",
       "      <th>sqft_living</th>\n",
       "      <th>sqft_lot</th>\n",
       "      <th>sqft_above</th>\n",
       "      <th>sqft_basement</th>\n",
       "      <th>floors</th>\n",
       "      <th>bedrooms</th>\n",
       "      <th>bathrooms</th>\n",
       "      <th>condition</th>\n",
       "      <th>grade</th>\n",
       "      <th>price</th>\n",
       "    </tr>\n",
       "  </thead>\n",
       "  <tbody>\n",
       "    <tr>\n",
       "      <th>id</th>\n",
       "      <td>1.000000</td>\n",
       "      <td>-0.015356</td>\n",
       "      <td>-0.131430</td>\n",
       "      <td>-0.013953</td>\n",
       "      <td>-0.005787</td>\n",
       "      <td>0.014866</td>\n",
       "      <td>-0.002344</td>\n",
       "      <td>0.002408</td>\n",
       "      <td>-0.023910</td>\n",
       "      <td>0.004013</td>\n",
       "      <td>-0.019328</td>\n",
       "    </tr>\n",
       "    <tr>\n",
       "      <th>sqft_living</th>\n",
       "      <td>-0.015356</td>\n",
       "      <td>1.000000</td>\n",
       "      <td>0.183479</td>\n",
       "      <td>0.876997</td>\n",
       "      <td>0.436148</td>\n",
       "      <td>0.352634</td>\n",
       "      <td>0.570534</td>\n",
       "      <td>0.753648</td>\n",
       "      <td>-0.059068</td>\n",
       "      <td>0.762366</td>\n",
       "      <td>0.709065</td>\n",
       "    </tr>\n",
       "    <tr>\n",
       "      <th>sqft_lot</th>\n",
       "      <td>-0.131430</td>\n",
       "      <td>0.183479</td>\n",
       "      <td>1.000000</td>\n",
       "      <td>0.192232</td>\n",
       "      <td>0.021366</td>\n",
       "      <td>-0.000726</td>\n",
       "      <td>0.034365</td>\n",
       "      <td>0.092202</td>\n",
       "      <td>-0.008855</td>\n",
       "      <td>0.122094</td>\n",
       "      <td>0.090345</td>\n",
       "    </tr>\n",
       "    <tr>\n",
       "      <th>sqft_above</th>\n",
       "      <td>-0.013953</td>\n",
       "      <td>0.876997</td>\n",
       "      <td>0.192232</td>\n",
       "      <td>1.000000</td>\n",
       "      <td>-0.049886</td>\n",
       "      <td>0.522859</td>\n",
       "      <td>0.473018</td>\n",
       "      <td>0.685740</td>\n",
       "      <td>-0.161167</td>\n",
       "      <td>0.756599</td>\n",
       "      <td>0.614526</td>\n",
       "    </tr>\n",
       "    <tr>\n",
       "      <th>sqft_basement</th>\n",
       "      <td>-0.005787</td>\n",
       "      <td>0.436148</td>\n",
       "      <td>0.021366</td>\n",
       "      <td>-0.049886</td>\n",
       "      <td>1.000000</td>\n",
       "      <td>-0.246230</td>\n",
       "      <td>0.300037</td>\n",
       "      <td>0.282269</td>\n",
       "      <td>0.179055</td>\n",
       "      <td>0.167685</td>\n",
       "      <td>0.322969</td>\n",
       "    </tr>\n",
       "    <tr>\n",
       "      <th>floors</th>\n",
       "      <td>0.014866</td>\n",
       "      <td>0.352634</td>\n",
       "      <td>-0.000726</td>\n",
       "      <td>0.522859</td>\n",
       "      <td>-0.246230</td>\n",
       "      <td>1.000000</td>\n",
       "      <td>0.173411</td>\n",
       "      <td>0.500509</td>\n",
       "      <td>-0.266993</td>\n",
       "      <td>0.459271</td>\n",
       "      <td>0.262166</td>\n",
       "    </tr>\n",
       "    <tr>\n",
       "      <th>bedrooms</th>\n",
       "      <td>-0.002344</td>\n",
       "      <td>0.570534</td>\n",
       "      <td>0.034365</td>\n",
       "      <td>0.473018</td>\n",
       "      <td>0.300037</td>\n",
       "      <td>0.173411</td>\n",
       "      <td>1.000000</td>\n",
       "      <td>0.513108</td>\n",
       "      <td>0.029398</td>\n",
       "      <td>0.353400</td>\n",
       "      <td>0.305040</td>\n",
       "    </tr>\n",
       "    <tr>\n",
       "      <th>bathrooms</th>\n",
       "      <td>0.002408</td>\n",
       "      <td>0.753648</td>\n",
       "      <td>0.092202</td>\n",
       "      <td>0.685740</td>\n",
       "      <td>0.282269</td>\n",
       "      <td>0.500509</td>\n",
       "      <td>0.513108</td>\n",
       "      <td>1.000000</td>\n",
       "      <td>-0.124654</td>\n",
       "      <td>0.663398</td>\n",
       "      <td>0.529698</td>\n",
       "    </tr>\n",
       "    <tr>\n",
       "      <th>condition</th>\n",
       "      <td>-0.023910</td>\n",
       "      <td>-0.059068</td>\n",
       "      <td>-0.008855</td>\n",
       "      <td>-0.161167</td>\n",
       "      <td>0.179055</td>\n",
       "      <td>-0.266993</td>\n",
       "      <td>0.029398</td>\n",
       "      <td>-0.124654</td>\n",
       "      <td>1.000000</td>\n",
       "      <td>-0.147609</td>\n",
       "      <td>0.037563</td>\n",
       "    </tr>\n",
       "    <tr>\n",
       "      <th>grade</th>\n",
       "      <td>0.004013</td>\n",
       "      <td>0.762366</td>\n",
       "      <td>0.122094</td>\n",
       "      <td>0.756599</td>\n",
       "      <td>0.167685</td>\n",
       "      <td>0.459271</td>\n",
       "      <td>0.353400</td>\n",
       "      <td>0.663398</td>\n",
       "      <td>-0.147609</td>\n",
       "      <td>1.000000</td>\n",
       "      <td>0.671793</td>\n",
       "    </tr>\n",
       "    <tr>\n",
       "      <th>price</th>\n",
       "      <td>-0.019328</td>\n",
       "      <td>0.709065</td>\n",
       "      <td>0.090345</td>\n",
       "      <td>0.614526</td>\n",
       "      <td>0.322969</td>\n",
       "      <td>0.262166</td>\n",
       "      <td>0.305040</td>\n",
       "      <td>0.529698</td>\n",
       "      <td>0.037563</td>\n",
       "      <td>0.671793</td>\n",
       "      <td>1.000000</td>\n",
       "    </tr>\n",
       "  </tbody>\n",
       "</table>\n",
       "</div>"
      ],
      "text/plain": [
       "                     id  sqft_living  sqft_lot  sqft_above  sqft_basement  \\\n",
       "id             1.000000    -0.015356 -0.131430   -0.013953      -0.005787   \n",
       "sqft_living   -0.015356     1.000000  0.183479    0.876997       0.436148   \n",
       "sqft_lot      -0.131430     0.183479  1.000000    0.192232       0.021366   \n",
       "sqft_above    -0.013953     0.876997  0.192232    1.000000      -0.049886   \n",
       "sqft_basement -0.005787     0.436148  0.021366   -0.049886       1.000000   \n",
       "floors         0.014866     0.352634 -0.000726    0.522859      -0.246230   \n",
       "bedrooms      -0.002344     0.570534  0.034365    0.473018       0.300037   \n",
       "bathrooms      0.002408     0.753648  0.092202    0.685740       0.282269   \n",
       "condition     -0.023910    -0.059068 -0.008855   -0.161167       0.179055   \n",
       "grade          0.004013     0.762366  0.122094    0.756599       0.167685   \n",
       "price         -0.019328     0.709065  0.090345    0.614526       0.322969   \n",
       "\n",
       "                 floors  bedrooms  bathrooms  condition     grade     price  \n",
       "id             0.014866 -0.002344   0.002408  -0.023910  0.004013 -0.019328  \n",
       "sqft_living    0.352634  0.570534   0.753648  -0.059068  0.762366  0.709065  \n",
       "sqft_lot      -0.000726  0.034365   0.092202  -0.008855  0.122094  0.090345  \n",
       "sqft_above     0.522859  0.473018   0.685740  -0.161167  0.756599  0.614526  \n",
       "sqft_basement -0.246230  0.300037   0.282269   0.179055  0.167685  0.322969  \n",
       "floors         1.000000  0.173411   0.500509  -0.266993  0.459271  0.262166  \n",
       "bedrooms       0.173411  1.000000   0.513108   0.029398  0.353400  0.305040  \n",
       "bathrooms      0.500509  0.513108   1.000000  -0.124654  0.663398  0.529698  \n",
       "condition     -0.266993  0.029398  -0.124654   1.000000 -0.147609  0.037563  \n",
       "grade          0.459271  0.353400   0.663398  -0.147609  1.000000  0.671793  \n",
       "price          0.262166  0.305040   0.529698   0.037563  0.671793  1.000000  "
      ]
     },
     "execution_count": 22,
     "metadata": {},
     "output_type": "execute_result"
    }
   ],
   "source": [
    "#Checking Autocorrelation\n",
    "print(np.abs((X.corr())>0.7).agg('sum').sum()-len(X.columns))\n",
    "df_train.corr()"
   ]
  },
  {
   "cell_type": "code",
   "execution_count": 23,
   "metadata": {},
   "outputs": [
    {
     "name": "stderr",
     "output_type": "stream",
     "text": [
      "<ipython-input-23-6ab4279a1f68>:1: SettingWithCopyWarning: \n",
      "A value is trying to be set on a copy of a slice from a DataFrame.\n",
      "Try using .loc[row_indexer,col_indexer] = value instead\n",
      "\n",
      "See the caveats in the documentation: https://pandas.pydata.org/pandas-docs/stable/user_guide/indexing.html#returning-a-view-versus-a-copy\n",
      "  X['sqft_living_per_lot'] = X['sqft_living']/X['sqft_lot']\n",
      "<ipython-input-23-6ab4279a1f68>:2: SettingWithCopyWarning: \n",
      "A value is trying to be set on a copy of a slice from a DataFrame.\n",
      "Try using .loc[row_indexer,col_indexer] = value instead\n",
      "\n",
      "See the caveats in the documentation: https://pandas.pydata.org/pandas-docs/stable/user_guide/indexing.html#returning-a-view-versus-a-copy\n",
      "  X['sqft_above_per_floors'] = X['sqft_above']/X['floors']\n"
     ]
    }
   ],
   "source": [
    "X['sqft_living_per_lot'] = X['sqft_living']/X['sqft_lot']\n",
    "X['sqft_above_per_floors'] = X['sqft_above']/X['floors']"
   ]
  },
  {
   "cell_type": "code",
   "execution_count": 24,
   "metadata": {},
   "outputs": [
    {
     "name": "stdout",
     "output_type": "stream",
     "text": [
      "0\n"
     ]
    },
    {
     "data": {
      "text/html": [
       "<div>\n",
       "<style scoped>\n",
       "    .dataframe tbody tr th:only-of-type {\n",
       "        vertical-align: middle;\n",
       "    }\n",
       "\n",
       "    .dataframe tbody tr th {\n",
       "        vertical-align: top;\n",
       "    }\n",
       "\n",
       "    .dataframe thead th {\n",
       "        text-align: right;\n",
       "    }\n",
       "</style>\n",
       "<table border=\"1\" class=\"dataframe\">\n",
       "  <thead>\n",
       "    <tr style=\"text-align: right;\">\n",
       "      <th></th>\n",
       "      <th>sqft_living</th>\n",
       "      <th>sqft_living_per_lot</th>\n",
       "      <th>sqft_above_per_floors</th>\n",
       "      <th>sqft_basement</th>\n",
       "      <th>floors</th>\n",
       "      <th>bedrooms</th>\n",
       "      <th>condition</th>\n",
       "    </tr>\n",
       "  </thead>\n",
       "  <tbody>\n",
       "    <tr>\n",
       "      <th>sqft_living</th>\n",
       "      <td>1.000000</td>\n",
       "      <td>0.074869</td>\n",
       "      <td>0.661617</td>\n",
       "      <td>0.436148</td>\n",
       "      <td>0.352634</td>\n",
       "      <td>0.570534</td>\n",
       "      <td>-0.059068</td>\n",
       "    </tr>\n",
       "    <tr>\n",
       "      <th>sqft_living_per_lot</th>\n",
       "      <td>0.074869</td>\n",
       "      <td>1.000000</td>\n",
       "      <td>-0.323535</td>\n",
       "      <td>0.064562</td>\n",
       "      <td>0.552523</td>\n",
       "      <td>0.027531</td>\n",
       "      <td>-0.156499</td>\n",
       "    </tr>\n",
       "    <tr>\n",
       "      <th>sqft_above_per_floors</th>\n",
       "      <td>0.661617</td>\n",
       "      <td>-0.323535</td>\n",
       "      <td>1.000000</td>\n",
       "      <td>0.180110</td>\n",
       "      <td>-0.246448</td>\n",
       "      <td>0.381658</td>\n",
       "      <td>0.049490</td>\n",
       "    </tr>\n",
       "    <tr>\n",
       "      <th>sqft_basement</th>\n",
       "      <td>0.436148</td>\n",
       "      <td>0.064562</td>\n",
       "      <td>0.180110</td>\n",
       "      <td>1.000000</td>\n",
       "      <td>-0.246230</td>\n",
       "      <td>0.300037</td>\n",
       "      <td>0.179055</td>\n",
       "    </tr>\n",
       "    <tr>\n",
       "      <th>floors</th>\n",
       "      <td>0.352634</td>\n",
       "      <td>0.552523</td>\n",
       "      <td>-0.246448</td>\n",
       "      <td>-0.246230</td>\n",
       "      <td>1.000000</td>\n",
       "      <td>0.173411</td>\n",
       "      <td>-0.266993</td>\n",
       "    </tr>\n",
       "    <tr>\n",
       "      <th>bedrooms</th>\n",
       "      <td>0.570534</td>\n",
       "      <td>0.027531</td>\n",
       "      <td>0.381658</td>\n",
       "      <td>0.300037</td>\n",
       "      <td>0.173411</td>\n",
       "      <td>1.000000</td>\n",
       "      <td>0.029398</td>\n",
       "    </tr>\n",
       "    <tr>\n",
       "      <th>condition</th>\n",
       "      <td>-0.059068</td>\n",
       "      <td>-0.156499</td>\n",
       "      <td>0.049490</td>\n",
       "      <td>0.179055</td>\n",
       "      <td>-0.266993</td>\n",
       "      <td>0.029398</td>\n",
       "      <td>1.000000</td>\n",
       "    </tr>\n",
       "  </tbody>\n",
       "</table>\n",
       "</div>"
      ],
      "text/plain": [
       "                       sqft_living  sqft_living_per_lot  \\\n",
       "sqft_living               1.000000             0.074869   \n",
       "sqft_living_per_lot       0.074869             1.000000   \n",
       "sqft_above_per_floors     0.661617            -0.323535   \n",
       "sqft_basement             0.436148             0.064562   \n",
       "floors                    0.352634             0.552523   \n",
       "bedrooms                  0.570534             0.027531   \n",
       "condition                -0.059068            -0.156499   \n",
       "\n",
       "                       sqft_above_per_floors  sqft_basement    floors  \\\n",
       "sqft_living                         0.661617       0.436148  0.352634   \n",
       "sqft_living_per_lot                -0.323535       0.064562  0.552523   \n",
       "sqft_above_per_floors               1.000000       0.180110 -0.246448   \n",
       "sqft_basement                       0.180110       1.000000 -0.246230   \n",
       "floors                             -0.246448      -0.246230  1.000000   \n",
       "bedrooms                            0.381658       0.300037  0.173411   \n",
       "condition                           0.049490       0.179055 -0.266993   \n",
       "\n",
       "                       bedrooms  condition  \n",
       "sqft_living            0.570534  -0.059068  \n",
       "sqft_living_per_lot    0.027531  -0.156499  \n",
       "sqft_above_per_floors  0.381658   0.049490  \n",
       "sqft_basement          0.300037   0.179055  \n",
       "floors                 0.173411  -0.266993  \n",
       "bedrooms               1.000000   0.029398  \n",
       "condition              0.029398   1.000000  "
      ]
     },
     "execution_count": 24,
     "metadata": {},
     "output_type": "execute_result"
    }
   ],
   "source": [
    "final_feature_cols = ['sqft_living','sqft_living_per_lot','sqft_above_per_floors','sqft_basement'\n",
    "                ,'floors','bedrooms','condition']\n",
    "X = X[final_feature_cols]\n",
    "#Checking Multicorrelation\n",
    "print((np.abs(X.corr())>0.7).agg('sum').sum()-len(X.columns))\n",
    "X.corr()"
   ]
  },
  {
   "cell_type": "code",
   "execution_count": 36,
   "metadata": {},
   "outputs": [
    {
     "name": "stdout",
     "output_type": "stream",
     "text": [
      "(13488, 7)\n",
      "(3373, 7)\n"
     ]
    }
   ],
   "source": [
    "from sklearn.model_selection import train_test_split\n",
    "X_train = X[:int(len(df_train)*0.8)]\n",
    "X_val = X[int(len(df_train)*0.8):]\n",
    "y_train = y[:int(len(df_train)*0.8)]\n",
    "y_val = y[int(len(df_train)*0.8):]\n",
    "print(X_train.shape)\n",
    "print(X_val.shape)"
   ]
  },
  {
   "cell_type": "markdown",
   "metadata": {},
   "source": [
    "Standardization"
   ]
  },
  {
   "cell_type": "code",
   "execution_count": 37,
   "metadata": {},
   "outputs": [
    {
     "data": {
      "text/plain": [
       "StandardScaler()"
      ]
     },
     "execution_count": 37,
     "metadata": {},
     "output_type": "execute_result"
    }
   ],
   "source": [
    "from sklearn.preprocessing import StandardScaler,normalize\n",
    "scaler = StandardScaler()\n",
    "scaler.fit(X_train)"
   ]
  },
  {
   "cell_type": "code",
   "execution_count": 39,
   "metadata": {},
   "outputs": [],
   "source": [
    "def z_scoring(arrays):\n",
    "    arr_mean = arrays.mean()\n",
    "    arr_std = arrays.std()\n",
    "    arr_rst = (arrays-arr_mean)/arr_std\n",
    "    return arr_rst,arr_mean,arr_std\n",
    "\n",
    "def restore_z_score(arrays,arr_mean,arr_std):\n",
    "    return arrays*arr_std+arr_mean"
   ]
  },
  {
   "cell_type": "code",
   "execution_count": 40,
   "metadata": {},
   "outputs": [],
   "source": [
    "X_train_trf = scaler.transform(X_train) \n",
    "y_train_trf,y_mean,y_std = z_scoring(y_train)"
   ]
  },
  {
   "cell_type": "markdown",
   "metadata": {},
   "source": [
    "Model Zoo"
   ]
  },
  {
   "cell_type": "markdown",
   "metadata": {},
   "source": [
    "In machine learning we have many options of models to choose from. So far, we have learn two possible model for regression; Linear regression and SVM. Both of the models may be extended, e.g. adding polynomial feature to linear regression or embedding kernel to SVM."
   ]
  },
  {
   "cell_type": "code",
   "execution_count": 41,
   "metadata": {},
   "outputs": [],
   "source": [
    "from sklearn.linear_model import LinearRegression,Ridge,Lasso,ElasticNet,SGDRegressor\n",
    "from sklearn.svm import SVR\n",
    "\n",
    "models_dict={}\n",
    "\n",
    "# Vanilla Linear Regression\n",
    "models_dict[\"LinReg\"]= LinearRegression()\n",
    "# Ridge Regression\n",
    "models_dict[\"Ridge\"] = Ridge()\n",
    "# Lasso Regression\n",
    "models_dict[\"Lasso\"] = Lasso()\n",
    "# ElasticNet Regression (Combination of L1 and L2)\n",
    "models_dict[\"ElasticNet\"] = ElasticNet()\n",
    "# SGD regressor\n",
    "models_dict[\"SGD_LinReg\"] = SGDRegressor()\n",
    "# Linear SVR\n",
    "models_dict[\"SVR\"] = SVR(kernel='linear',C=1)\n",
    "# RBF SVR\n",
    "models_dict[\"SVR_rbf\"] = SVR(kernel='rbf',C=1)\n",
    "# Poly SVR\n",
    "models_dict[\"SVR_poly\"] = SVR(kernel='poly',C=1)\n",
    "# RBF SVR with less regularization\n",
    "models_dict[\"SVR_rbf_lessreg\"]= SVR(kernel='rbf',C=10)\n",
    "# RBF SVR with high regularization\n",
    "models_dict[\"SVR_rbf_highreg\"]= SVR(kernel='rbf',C=0.1)"
   ]
  },
  {
   "cell_type": "code",
   "execution_count": 42,
   "metadata": {},
   "outputs": [
    {
     "name": "stdout",
     "output_type": "stream",
     "text": [
      "Training model LinReg\n",
      "Wall time: 3.99 ms\n",
      "Training model Ridge\n",
      "Wall time: 2 ms\n",
      "Training model Lasso\n",
      "Wall time: 999 µs\n",
      "Training model ElasticNet\n",
      "Wall time: 994 µs\n",
      "Training model SGD_LinReg\n",
      "Wall time: 12 ms\n",
      "Training model SVR\n",
      "Wall time: 8.52 s\n",
      "Training model SVR_rbf\n",
      "Wall time: 4.9 s\n",
      "Training model SVR_poly\n",
      "Wall time: 17.9 s\n",
      "Training model SVR_rbf_lessreg\n",
      "Wall time: 7.89 s\n",
      "Training model SVR_rbf_highreg\n",
      "Wall time: 4.24 s\n"
     ]
    }
   ],
   "source": [
    "for model_name, model in models_dict.items():\n",
    "    print(\"Training model {0}\".format(model_name))\n",
    "    %time model.fit(X_train_trf, y_train_trf)"
   ]
  },
  {
   "cell_type": "markdown",
   "metadata": {},
   "source": [
    "Model Inference"
   ]
  },
  {
   "cell_type": "code",
   "execution_count": 43,
   "metadata": {},
   "outputs": [],
   "source": [
    "X_val_trf = scaler.transform(X_val) "
   ]
  },
  {
   "cell_type": "code",
   "execution_count": 90,
   "metadata": {},
   "outputs": [
    {
     "name": "stdout",
     "output_type": "stream",
     "text": [
      "Inferencing model LinReg\n",
      "elapsed time: 0.00\n",
      "Inferencing model Ridge\n",
      "elapsed time: 0.00\n",
      "Inferencing model Lasso\n",
      "elapsed time: 0.00\n",
      "Inferencing model ElasticNet\n",
      "elapsed time: 0.00\n",
      "Inferencing model SGD_LinReg\n",
      "elapsed time: 0.00\n",
      "Inferencing model SVR\n",
      "elapsed time: 1.10\n",
      "Inferencing model SVR_rbf\n",
      "elapsed time: 2.68\n",
      "Inferencing model SVR_poly\n",
      "elapsed time: 1.49\n",
      "Inferencing model SVR_rbf_lessreg\n",
      "elapsed time: 2.82\n",
      "Inferencing model SVR_rbf_highreg\n",
      "elapsed time: 2.74\n"
     ]
    }
   ],
   "source": [
    "from sklearn.metrics import mean_absolute_error,mean_squared_error,r2_score\n",
    "import time\n",
    "prediction_results_train=[]\n",
    "prediction_results_val=[]\n",
    "\n",
    "\n",
    "for model_name, model in models_dict.items():\n",
    "    \n",
    "    t = time.time()\n",
    "    print(\"Inferencing model {0}\".format(model_name))\n",
    "    model_pred = model.predict(X_val_trf)\n",
    "    \n",
    "    prediction = restore_z_score(model_pred,y_mean,y_std)\n",
    "    \n",
    "    prediction_results_val.append(prediction)\n",
    "    \n",
    "    \n",
    "    \n",
    "    model_pred = model.predict(X_train_trf)\n",
    "    prediction = restore_z_score(model_pred,y_mean,y_std)\n",
    "    prediction_results_train.append(prediction)\n",
    "    \n",
    "    print(\"elapsed time: {0:.2f}\".format(time.time() - t))"
   ]
  },
  {
   "cell_type": "markdown",
   "metadata": {},
   "source": [
    "Error Evaluation"
   ]
  },
  {
   "cell_type": "code",
   "execution_count": 192,
   "metadata": {},
   "outputs": [
    {
     "data": {
      "text/plain": [
       "13488"
      ]
     },
     "execution_count": 192,
     "metadata": {},
     "output_type": "execute_result"
    }
   ],
   "source": [
    "len(y_pred)"
   ]
  },
  {
   "cell_type": "code",
   "execution_count": 193,
   "metadata": {},
   "outputs": [],
   "source": [
    "mae_errors_val = []\n",
    "rmses_val = []\n",
    "for y_pred in prediction_results_val:\n",
    "    mae_errors_val.append(mean_absolute_error(y_val, y_pred))\n",
    "    rmses_val.append(np.sqrt(mean_squared_error(y_val,y_pred)))\n",
    "\n",
    "mae_errors_train = []\n",
    "rmses_train = []\n",
    "for y_pred in prediction_results_train:\n",
    "    mae_errors_train.append(mean_absolute_error(y_train, y_pred))\n",
    "    rmses_train.append(np.sqrt(mean_squared_error(y_train,y_pred)))"
   ]
  },
  {
   "cell_type": "code",
   "execution_count": 194,
   "metadata": {},
   "outputs": [
    {
     "name": "stdout",
     "output_type": "stream",
     "text": [
      "6\n"
     ]
    }
   ],
   "source": [
    "print(np.argmin(mae_errors))\n",
    "d = {'model':models_dict.keys(),'MAE_train': mae_errors_train, 'RMSE_train': rmses_train,\n",
    "     'MAE_val': mae_errors_val, 'RMSE_val': rmses_val}\n",
    "df_results = pd.DataFrame(data=d)\n",
    "df_results['MAE_diff']=df_results['MAE_train']-df_results['MAE_val']\n",
    "df_results['RMSE_diff']=df_results['RMSE_train']-df_results['RMSE_val']"
   ]
  },
  {
   "cell_type": "code",
   "execution_count": null,
   "metadata": {},
   "outputs": [],
   "source": []
  },
  {
   "cell_type": "code",
   "execution_count": 195,
   "metadata": {},
   "outputs": [
    {
     "data": {
      "text/html": [
       "<div>\n",
       "<style scoped>\n",
       "    .dataframe tbody tr th:only-of-type {\n",
       "        vertical-align: middle;\n",
       "    }\n",
       "\n",
       "    .dataframe tbody tr th {\n",
       "        vertical-align: top;\n",
       "    }\n",
       "\n",
       "    .dataframe thead th {\n",
       "        text-align: right;\n",
       "    }\n",
       "</style>\n",
       "<table border=\"1\" class=\"dataframe\">\n",
       "  <thead>\n",
       "    <tr style=\"text-align: right;\">\n",
       "      <th></th>\n",
       "      <th>model</th>\n",
       "      <th>MAE_train</th>\n",
       "      <th>RMSE_train</th>\n",
       "      <th>MAE_val</th>\n",
       "      <th>RMSE_val</th>\n",
       "      <th>MAE_diff</th>\n",
       "      <th>RMSE_diff</th>\n",
       "    </tr>\n",
       "  </thead>\n",
       "  <tbody>\n",
       "    <tr>\n",
       "      <th>6</th>\n",
       "      <td>SVR_rbf</td>\n",
       "      <td>290848.256246</td>\n",
       "      <td>447190.690255</td>\n",
       "      <td>146794.933868</td>\n",
       "      <td>232505.437113</td>\n",
       "      <td>144053.322377</td>\n",
       "      <td>214685.253141</td>\n",
       "    </tr>\n",
       "    <tr>\n",
       "      <th>8</th>\n",
       "      <td>SVR_rbf_lessreg</td>\n",
       "      <td>132188.094994</td>\n",
       "      <td>212187.280885</td>\n",
       "      <td>147361.015445</td>\n",
       "      <td>234503.632801</td>\n",
       "      <td>-15172.920450</td>\n",
       "      <td>-22316.351916</td>\n",
       "    </tr>\n",
       "    <tr>\n",
       "      <th>9</th>\n",
       "      <td>SVR_rbf_highreg</td>\n",
       "      <td>146987.622385</td>\n",
       "      <td>266480.350808</td>\n",
       "      <td>150521.120776</td>\n",
       "      <td>242873.573688</td>\n",
       "      <td>-3533.498391</td>\n",
       "      <td>23606.777120</td>\n",
       "    </tr>\n",
       "    <tr>\n",
       "      <th>5</th>\n",
       "      <td>SVR</td>\n",
       "      <td>155863.044249</td>\n",
       "      <td>260034.861647</td>\n",
       "      <td>158624.631311</td>\n",
       "      <td>248332.255257</td>\n",
       "      <td>-2761.587062</td>\n",
       "      <td>11702.606389</td>\n",
       "    </tr>\n",
       "    <tr>\n",
       "      <th>7</th>\n",
       "      <td>SVR_poly</td>\n",
       "      <td>155224.679180</td>\n",
       "      <td>254265.879835</td>\n",
       "      <td>162918.877537</td>\n",
       "      <td>271312.321630</td>\n",
       "      <td>-7694.198357</td>\n",
       "      <td>-17046.441795</td>\n",
       "    </tr>\n",
       "    <tr>\n",
       "      <th>1</th>\n",
       "      <td>Ridge</td>\n",
       "      <td>162540.028892</td>\n",
       "      <td>251182.066359</td>\n",
       "      <td>167145.520905</td>\n",
       "      <td>245088.083552</td>\n",
       "      <td>-4605.492013</td>\n",
       "      <td>6093.982807</td>\n",
       "    </tr>\n",
       "    <tr>\n",
       "      <th>0</th>\n",
       "      <td>LinReg</td>\n",
       "      <td>162546.261997</td>\n",
       "      <td>251182.036772</td>\n",
       "      <td>167152.700673</td>\n",
       "      <td>245095.380934</td>\n",
       "      <td>-4606.438676</td>\n",
       "      <td>6086.655838</td>\n",
       "    </tr>\n",
       "    <tr>\n",
       "      <th>4</th>\n",
       "      <td>SGD_LinReg</td>\n",
       "      <td>176252.299907</td>\n",
       "      <td>257570.145373</td>\n",
       "      <td>181795.734906</td>\n",
       "      <td>254712.302302</td>\n",
       "      <td>-5543.434998</td>\n",
       "      <td>2857.843071</td>\n",
       "    </tr>\n",
       "    <tr>\n",
       "      <th>3</th>\n",
       "      <td>ElasticNet</td>\n",
       "      <td>207321.481190</td>\n",
       "      <td>334599.110954</td>\n",
       "      <td>209389.467722</td>\n",
       "      <td>316742.705564</td>\n",
       "      <td>-2067.986533</td>\n",
       "      <td>17856.405390</td>\n",
       "    </tr>\n",
       "    <tr>\n",
       "      <th>2</th>\n",
       "      <td>Lasso</td>\n",
       "      <td>233437.214309</td>\n",
       "      <td>369829.432740</td>\n",
       "      <td>234712.381517</td>\n",
       "      <td>350521.335145</td>\n",
       "      <td>-1275.167208</td>\n",
       "      <td>19308.097594</td>\n",
       "    </tr>\n",
       "  </tbody>\n",
       "</table>\n",
       "</div>"
      ],
      "text/plain": [
       "             model      MAE_train     RMSE_train        MAE_val  \\\n",
       "6          SVR_rbf  290848.256246  447190.690255  146794.933868   \n",
       "8  SVR_rbf_lessreg  132188.094994  212187.280885  147361.015445   \n",
       "9  SVR_rbf_highreg  146987.622385  266480.350808  150521.120776   \n",
       "5              SVR  155863.044249  260034.861647  158624.631311   \n",
       "7         SVR_poly  155224.679180  254265.879835  162918.877537   \n",
       "1            Ridge  162540.028892  251182.066359  167145.520905   \n",
       "0           LinReg  162546.261997  251182.036772  167152.700673   \n",
       "4       SGD_LinReg  176252.299907  257570.145373  181795.734906   \n",
       "3       ElasticNet  207321.481190  334599.110954  209389.467722   \n",
       "2            Lasso  233437.214309  369829.432740  234712.381517   \n",
       "\n",
       "        RMSE_val       MAE_diff      RMSE_diff  \n",
       "6  232505.437113  144053.322377  214685.253141  \n",
       "8  234503.632801  -15172.920450  -22316.351916  \n",
       "9  242873.573688   -3533.498391   23606.777120  \n",
       "5  248332.255257   -2761.587062   11702.606389  \n",
       "7  271312.321630   -7694.198357  -17046.441795  \n",
       "1  245088.083552   -4605.492013    6093.982807  \n",
       "0  245095.380934   -4606.438676    6086.655838  \n",
       "4  254712.302302   -5543.434998    2857.843071  \n",
       "3  316742.705564   -2067.986533   17856.405390  \n",
       "2  350521.335145   -1275.167208   19308.097594  "
      ]
     },
     "execution_count": 195,
     "metadata": {},
     "output_type": "execute_result"
    }
   ],
   "source": [
    "df_results.sort_values('MAE_val')"
   ]
  },
  {
   "cell_type": "code",
   "execution_count": 153,
   "metadata": {},
   "outputs": [],
   "source": [
    "id_train = df_train[:int(len(df_train)*0.8)][id_cols]\n",
    "id_val = df_train[int(len(df_train)*0.8):][id_cols]"
   ]
  },
  {
   "cell_type": "code",
   "execution_count": 154,
   "metadata": {},
   "outputs": [
    {
     "data": {
      "text/plain": [
       "<matplotlib.collections.PathCollection at 0x230b6a5b820>"
      ]
     },
     "execution_count": 154,
     "metadata": {},
     "output_type": "execute_result"
    },
    {
     "data": {
      "image/png": "[encoded data removed]",
      "text/plain": [
       "<Figure size 432x288 with 1 Axes>"
      ]
     },
     "metadata": {
      "needs_background": "light"
     },
     "output_type": "display_data"
    }
   ],
   "source": [
    "plt.scatter(id_val['date'],y_val)\n",
    "plt.scatter(id_val['date'],prediction_results_val[6])"
   ]
  },
  {
   "cell_type": "code",
   "execution_count": 155,
   "metadata": {},
   "outputs": [
    {
     "data": {
      "text/plain": [
       "<matplotlib.collections.PathCollection at 0x230b6b5e7f0>"
      ]
     },
     "execution_count": 155,
     "metadata": {},
     "output_type": "execute_result"
    },
    {
     "data": {
      "image/png": "[encoded data removed]",
      "text/plain": [
       "<Figure size 432x288 with 1 Axes>"
      ]
     },
     "metadata": {
      "needs_background": "light"
     },
     "output_type": "display_data"
    }
   ],
   "source": [
    "plt.scatter(list(range(len(y_val))),y_val-prediction_results_val[6])"
   ]
  },
  {
   "cell_type": "markdown",
   "metadata": {},
   "source": [
    "Deeper Analysis"
   ]
  },
  {
   "cell_type": "code",
   "execution_count": 183,
   "metadata": {},
   "outputs": [
    {
     "data": {
      "text/plain": [
       "['sqft_living',\n",
       " 'sqft_living_per_lot',\n",
       " 'sqft_above_per_floors',\n",
       " 'sqft_basement',\n",
       " 'floors',\n",
       " 'bedrooms',\n",
       " 'condition']"
      ]
     },
     "execution_count": 183,
     "metadata": {},
     "output_type": "execute_result"
    }
   ],
   "source": [
    "final_feature_cols"
   ]
  },
  {
   "cell_type": "code",
   "execution_count": 184,
   "metadata": {},
   "outputs": [
    {
     "data": {
      "text/plain": [
       "array([[ 0.74169804,  0.10785361, -0.08595948, -0.06229138, -0.08406345,\n",
       "        -0.12682245,  0.08740899]])"
      ]
     },
     "execution_count": 184,
     "metadata": {},
     "output_type": "execute_result"
    }
   ],
   "source": [
    "models_dict['SVR'].coef_"
   ]
  },
  {
   "cell_type": "code",
   "execution_count": 158,
   "metadata": {},
   "outputs": [
    {
     "data": {
      "text/plain": [
       "8892     139574.439934\n",
       "172       14906.430020\n",
       "19830    107755.147422\n",
       "502      132721.008625\n",
       "1041     103772.934114\n",
       "             ...      \n",
       "2587      20585.392110\n",
       "1426      32113.250673\n",
       "9699      10653.066782\n",
       "18007     56824.977200\n",
       "20943    171994.576718\n",
       "Name: price, Length: 13488, dtype: float64"
      ]
     },
     "execution_count": 158,
     "metadata": {},
     "output_type": "execute_result"
    }
   ],
   "source": [
    "mae_datas = np.abs(y_train-prediction_results_train[5])\n",
    "mae_datas"
   ]
  },
  {
   "cell_type": "code",
   "execution_count": 159,
   "metadata": {},
   "outputs": [
    {
     "data": {
      "text/plain": [
       "155863.0442489597"
      ]
     },
     "execution_count": 159,
     "metadata": {},
     "output_type": "execute_result"
    }
   ],
   "source": [
    "mae_datas.mean()"
   ]
  },
  {
   "cell_type": "code",
   "execution_count": 180,
   "metadata": {},
   "outputs": [
    {
     "data": {
      "text/plain": [
       "array([4721486.81292797, 4643104.67211273, 4526078.13381039,\n",
       "       3379697.35682038, 3226373.32514365])"
      ]
     },
     "execution_count": 180,
     "metadata": {},
     "output_type": "execute_result"
    }
   ],
   "source": [
    "np.sort(mae_datas)[::-1][:5]"
   ]
  },
  {
   "cell_type": "code",
   "execution_count": 172,
   "metadata": {},
   "outputs": [
    {
     "name": "stderr",
     "output_type": "stream",
     "text": [
      "<ipython-input-172-dbde650f28fe>:2: SettingWithCopyWarning: \n",
      "A value is trying to be set on a copy of a slice from a DataFrame.\n",
      "Try using .loc[row_indexer,col_indexer] = value instead\n",
      "\n",
      "See the caveats in the documentation: https://pandas.pydata.org/pandas-docs/stable/user_guide/indexing.html#returning-a-view-versus-a-copy\n",
      "  df_sample['predicted'] =prediction_results_train[5][mae_datas.argsort()[-5:][::-1].tolist()].astype(int)\n"
     ]
    }
   ],
   "source": [
    "df_sample = df_train.iloc[mae_datas.argsort()[-5:][::-1].tolist()]\n",
    "df_sample['predicted'] =prediction_results_train[5][mae_datas.argsort()[-5:][::-1].tolist()].astype(int)"
   ]
  },
  {
   "cell_type": "code",
   "execution_count": 173,
   "metadata": {},
   "outputs": [
    {
     "data": {
      "text/html": [
       "<div>\n",
       "<style scoped>\n",
       "    .dataframe tbody tr th:only-of-type {\n",
       "        vertical-align: middle;\n",
       "    }\n",
       "\n",
       "    .dataframe tbody tr th {\n",
       "        vertical-align: top;\n",
       "    }\n",
       "\n",
       "    .dataframe thead th {\n",
       "        text-align: right;\n",
       "    }\n",
       "</style>\n",
       "<table border=\"1\" class=\"dataframe\">\n",
       "  <thead>\n",
       "    <tr style=\"text-align: right;\">\n",
       "      <th></th>\n",
       "      <th>id</th>\n",
       "      <th>date</th>\n",
       "      <th>sqft_living</th>\n",
       "      <th>sqft_lot</th>\n",
       "      <th>sqft_above</th>\n",
       "      <th>sqft_basement</th>\n",
       "      <th>floors</th>\n",
       "      <th>bedrooms</th>\n",
       "      <th>bathrooms</th>\n",
       "      <th>condition</th>\n",
       "      <th>grade</th>\n",
       "      <th>price</th>\n",
       "      <th>predicted</th>\n",
       "    </tr>\n",
       "  </thead>\n",
       "  <tbody>\n",
       "    <tr>\n",
       "      <th>7252</th>\n",
       "      <td>6762700020</td>\n",
       "      <td>20141013</td>\n",
       "      <td>12050</td>\n",
       "      <td>27600</td>\n",
       "      <td>8570</td>\n",
       "      <td>3480</td>\n",
       "      <td>2.5</td>\n",
       "      <td>6</td>\n",
       "      <td>8.00</td>\n",
       "      <td>4</td>\n",
       "      <td>13</td>\n",
       "      <td>7700000.0</td>\n",
       "      <td>2978513</td>\n",
       "    </tr>\n",
       "    <tr>\n",
       "      <th>3914</th>\n",
       "      <td>9808700762</td>\n",
       "      <td>20140611</td>\n",
       "      <td>10040</td>\n",
       "      <td>37325</td>\n",
       "      <td>7680</td>\n",
       "      <td>2360</td>\n",
       "      <td>2.0</td>\n",
       "      <td>5</td>\n",
       "      <td>4.50</td>\n",
       "      <td>3</td>\n",
       "      <td>11</td>\n",
       "      <td>7062500.0</td>\n",
       "      <td>2419395</td>\n",
       "    </tr>\n",
       "    <tr>\n",
       "      <th>9254</th>\n",
       "      <td>9208900037</td>\n",
       "      <td>20140919</td>\n",
       "      <td>9890</td>\n",
       "      <td>31374</td>\n",
       "      <td>8860</td>\n",
       "      <td>1030</td>\n",
       "      <td>2.0</td>\n",
       "      <td>6</td>\n",
       "      <td>7.75</td>\n",
       "      <td>3</td>\n",
       "      <td>13</td>\n",
       "      <td>6885000.0</td>\n",
       "      <td>2358921</td>\n",
       "    </tr>\n",
       "    <tr>\n",
       "      <th>4411</th>\n",
       "      <td>2470100110</td>\n",
       "      <td>20140804</td>\n",
       "      <td>9200</td>\n",
       "      <td>35069</td>\n",
       "      <td>6200</td>\n",
       "      <td>3000</td>\n",
       "      <td>2.0</td>\n",
       "      <td>5</td>\n",
       "      <td>5.75</td>\n",
       "      <td>3</td>\n",
       "      <td>13</td>\n",
       "      <td>5570000.0</td>\n",
       "      <td>2190302</td>\n",
       "    </tr>\n",
       "    <tr>\n",
       "      <th>1164</th>\n",
       "      <td>1247600105</td>\n",
       "      <td>20141020</td>\n",
       "      <td>8010</td>\n",
       "      <td>45517</td>\n",
       "      <td>5990</td>\n",
       "      <td>2020</td>\n",
       "      <td>2.0</td>\n",
       "      <td>5</td>\n",
       "      <td>5.25</td>\n",
       "      <td>3</td>\n",
       "      <td>12</td>\n",
       "      <td>5110800.0</td>\n",
       "      <td>1884426</td>\n",
       "    </tr>\n",
       "  </tbody>\n",
       "</table>\n",
       "</div>"
      ],
      "text/plain": [
       "              id      date  sqft_living  sqft_lot  sqft_above  sqft_basement  \\\n",
       "7252  6762700020  20141013        12050     27600        8570           3480   \n",
       "3914  9808700762  20140611        10040     37325        7680           2360   \n",
       "9254  9208900037  20140919         9890     31374        8860           1030   \n",
       "4411  2470100110  20140804         9200     35069        6200           3000   \n",
       "1164  1247600105  20141020         8010     45517        5990           2020   \n",
       "\n",
       "      floors  bedrooms  bathrooms  condition  grade      price  predicted  \n",
       "7252     2.5         6       8.00          4     13  7700000.0    2978513  \n",
       "3914     2.0         5       4.50          3     11  7062500.0    2419395  \n",
       "9254     2.0         6       7.75          3     13  6885000.0    2358921  \n",
       "4411     2.0         5       5.75          3     13  5570000.0    2190302  \n",
       "1164     2.0         5       5.25          3     12  5110800.0    1884426  "
      ]
     },
     "execution_count": 173,
     "metadata": {},
     "output_type": "execute_result"
    }
   ],
   "source": [
    "df_sample"
   ]
  },
  {
   "cell_type": "code",
   "execution_count": 166,
   "metadata": {},
   "outputs": [
    {
     "data": {
      "text/plain": [
       "8892     698000.0\n",
       "172      313000.0\n",
       "19830    436110.0\n",
       "502      342000.0\n",
       "1041     550000.0\n",
       "           ...   \n",
       "2587     265000.0\n",
       "1426     350000.0\n",
       "9699     390000.0\n",
       "18007    458000.0\n",
       "20943    294500.0\n",
       "Name: price, Length: 13488, dtype: float64"
      ]
     },
     "execution_count": 166,
     "metadata": {},
     "output_type": "execute_result"
    }
   ],
   "source": [
    "y_train"
   ]
  },
  {
   "cell_type": "code",
   "execution_count": 161,
   "metadata": {},
   "outputs": [
    {
     "data": {
      "text/html": [
       "<div>\n",
       "<style scoped>\n",
       "    .dataframe tbody tr th:only-of-type {\n",
       "        vertical-align: middle;\n",
       "    }\n",
       "\n",
       "    .dataframe tbody tr th {\n",
       "        vertical-align: top;\n",
       "    }\n",
       "\n",
       "    .dataframe thead th {\n",
       "        text-align: right;\n",
       "    }\n",
       "</style>\n",
       "<table border=\"1\" class=\"dataframe\">\n",
       "  <thead>\n",
       "    <tr style=\"text-align: right;\">\n",
       "      <th></th>\n",
       "      <th>id</th>\n",
       "      <th>date</th>\n",
       "      <th>sqft_living</th>\n",
       "      <th>sqft_lot</th>\n",
       "      <th>sqft_above</th>\n",
       "      <th>sqft_basement</th>\n",
       "      <th>floors</th>\n",
       "      <th>bedrooms</th>\n",
       "      <th>bathrooms</th>\n",
       "      <th>condition</th>\n",
       "      <th>grade</th>\n",
       "      <th>price</th>\n",
       "    </tr>\n",
       "  </thead>\n",
       "  <tbody>\n",
       "    <tr>\n",
       "      <th>3914</th>\n",
       "      <td>9808700762</td>\n",
       "      <td>20140611</td>\n",
       "      <td>10040</td>\n",
       "      <td>37325</td>\n",
       "      <td>7680</td>\n",
       "      <td>2360</td>\n",
       "      <td>2.0</td>\n",
       "      <td>5</td>\n",
       "      <td>4.50</td>\n",
       "      <td>3</td>\n",
       "      <td>11</td>\n",
       "      <td>7062500.0</td>\n",
       "    </tr>\n",
       "    <tr>\n",
       "      <th>14556</th>\n",
       "      <td>2303900035</td>\n",
       "      <td>20140611</td>\n",
       "      <td>8670</td>\n",
       "      <td>64033</td>\n",
       "      <td>6120</td>\n",
       "      <td>2550</td>\n",
       "      <td>2.0</td>\n",
       "      <td>5</td>\n",
       "      <td>6.25</td>\n",
       "      <td>3</td>\n",
       "      <td>13</td>\n",
       "      <td>2888000.0</td>\n",
       "    </tr>\n",
       "    <tr>\n",
       "      <th>8092</th>\n",
       "      <td>1924059029</td>\n",
       "      <td>20140617</td>\n",
       "      <td>9640</td>\n",
       "      <td>13068</td>\n",
       "      <td>4820</td>\n",
       "      <td>4820</td>\n",
       "      <td>1.0</td>\n",
       "      <td>5</td>\n",
       "      <td>6.75</td>\n",
       "      <td>3</td>\n",
       "      <td>12</td>\n",
       "      <td>4668000.0</td>\n",
       "    </tr>\n",
       "    <tr>\n",
       "      <th>18302</th>\n",
       "      <td>6072800246</td>\n",
       "      <td>20140702</td>\n",
       "      <td>8020</td>\n",
       "      <td>21738</td>\n",
       "      <td>8020</td>\n",
       "      <td>0</td>\n",
       "      <td>2.0</td>\n",
       "      <td>5</td>\n",
       "      <td>6.25</td>\n",
       "      <td>3</td>\n",
       "      <td>11</td>\n",
       "      <td>3300000.0</td>\n",
       "    </tr>\n",
       "    <tr>\n",
       "      <th>4411</th>\n",
       "      <td>2470100110</td>\n",
       "      <td>20140804</td>\n",
       "      <td>9200</td>\n",
       "      <td>35069</td>\n",
       "      <td>6200</td>\n",
       "      <td>3000</td>\n",
       "      <td>2.0</td>\n",
       "      <td>5</td>\n",
       "      <td>5.75</td>\n",
       "      <td>3</td>\n",
       "      <td>13</td>\n",
       "      <td>5570000.0</td>\n",
       "    </tr>\n",
       "    <tr>\n",
       "      <th>9254</th>\n",
       "      <td>9208900037</td>\n",
       "      <td>20140919</td>\n",
       "      <td>9890</td>\n",
       "      <td>31374</td>\n",
       "      <td>8860</td>\n",
       "      <td>1030</td>\n",
       "      <td>2.0</td>\n",
       "      <td>6</td>\n",
       "      <td>7.75</td>\n",
       "      <td>3</td>\n",
       "      <td>13</td>\n",
       "      <td>6885000.0</td>\n",
       "    </tr>\n",
       "    <tr>\n",
       "      <th>1164</th>\n",
       "      <td>1247600105</td>\n",
       "      <td>20141020</td>\n",
       "      <td>8010</td>\n",
       "      <td>45517</td>\n",
       "      <td>5990</td>\n",
       "      <td>2020</td>\n",
       "      <td>2.0</td>\n",
       "      <td>5</td>\n",
       "      <td>5.25</td>\n",
       "      <td>3</td>\n",
       "      <td>12</td>\n",
       "      <td>5110800.0</td>\n",
       "    </tr>\n",
       "  </tbody>\n",
       "</table>\n",
       "</div>"
      ],
      "text/plain": [
       "               id      date  sqft_living  sqft_lot  sqft_above  sqft_basement  \\\n",
       "3914   9808700762  20140611        10040     37325        7680           2360   \n",
       "14556  2303900035  20140611         8670     64033        6120           2550   \n",
       "8092   1924059029  20140617         9640     13068        4820           4820   \n",
       "18302  6072800246  20140702         8020     21738        8020              0   \n",
       "4411   2470100110  20140804         9200     35069        6200           3000   \n",
       "9254   9208900037  20140919         9890     31374        8860           1030   \n",
       "1164   1247600105  20141020         8010     45517        5990           2020   \n",
       "\n",
       "       floors  bedrooms  bathrooms  condition  grade      price  \n",
       "3914      2.0         5       4.50          3     11  7062500.0  \n",
       "14556     2.0         5       6.25          3     13  2888000.0  \n",
       "8092      1.0         5       6.75          3     12  4668000.0  \n",
       "18302     2.0         5       6.25          3     11  3300000.0  \n",
       "4411      2.0         5       5.75          3     13  5570000.0  \n",
       "9254      2.0         6       7.75          3     13  6885000.0  \n",
       "1164      2.0         5       5.25          3     12  5110800.0  "
      ]
     },
     "execution_count": 161,
     "metadata": {},
     "output_type": "execute_result"
    }
   ],
   "source": [
    "df_train[(df_train['sqft_living']<= 12000) &(df_train['sqft_living']>= 8000)]"
   ]
  },
  {
   "cell_type": "markdown",
   "metadata": {},
   "source": [
    "Sign of different fit between square foot living and price."
   ]
  },
  {
   "cell_type": "code",
   "execution_count": 187,
   "metadata": {},
   "outputs": [
    {
     "data": {
      "text/plain": [
       "<AxesSubplot:xlabel='sqft_living', ylabel='price'>"
      ]
     },
     "execution_count": 187,
     "metadata": {},
     "output_type": "execute_result"
    },
    {
     "data": {
      "image/png": "[encoded data removed]",
      "text/plain": [
       "<Figure size 432x288 with 1 Axes>"
      ]
     },
     "metadata": {
      "needs_background": "light"
     },
     "output_type": "display_data"
    }
   ],
   "source": [
    "sns.scatterplot(data=df_train,x='sqft_living',y='price')"
   ]
  },
  {
   "cell_type": "code",
   "execution_count": 191,
   "metadata": {},
   "outputs": [
    {
     "data": {
      "text/html": [
       "<div>\n",
       "<style scoped>\n",
       "    .dataframe tbody tr th:only-of-type {\n",
       "        vertical-align: middle;\n",
       "    }\n",
       "\n",
       "    .dataframe tbody tr th {\n",
       "        vertical-align: top;\n",
       "    }\n",
       "\n",
       "    .dataframe thead th {\n",
       "        text-align: right;\n",
       "    }\n",
       "</style>\n",
       "<table border=\"1\" class=\"dataframe\">\n",
       "  <thead>\n",
       "    <tr style=\"text-align: right;\">\n",
       "      <th></th>\n",
       "      <th>model</th>\n",
       "      <th>MAE_train</th>\n",
       "      <th>RMSE_train</th>\n",
       "      <th>MAE_val</th>\n",
       "      <th>RMSE_val</th>\n",
       "      <th>MAE_diff</th>\n",
       "      <th>RMSE_diff</th>\n",
       "    </tr>\n",
       "  </thead>\n",
       "  <tbody>\n",
       "    <tr>\n",
       "      <th>5</th>\n",
       "      <td>SVR</td>\n",
       "      <td>155863.044249</td>\n",
       "      <td>260034.861647</td>\n",
       "      <td>158624.631311</td>\n",
       "      <td>248332.255257</td>\n",
       "      <td>-2761.587062</td>\n",
       "      <td>11702.606389</td>\n",
       "    </tr>\n",
       "    <tr>\n",
       "      <th>7</th>\n",
       "      <td>SVR_poly</td>\n",
       "      <td>155224.679180</td>\n",
       "      <td>254265.879835</td>\n",
       "      <td>162918.877537</td>\n",
       "      <td>271312.321630</td>\n",
       "      <td>-7694.198357</td>\n",
       "      <td>-17046.441795</td>\n",
       "    </tr>\n",
       "  </tbody>\n",
       "</table>\n",
       "</div>"
      ],
      "text/plain": [
       "      model      MAE_train     RMSE_train        MAE_val       RMSE_val  \\\n",
       "5       SVR  155863.044249  260034.861647  158624.631311  248332.255257   \n",
       "7  SVR_poly  155224.679180  254265.879835  162918.877537  271312.321630   \n",
       "\n",
       "      MAE_diff     RMSE_diff  \n",
       "5 -2761.587062  11702.606389  \n",
       "7 -7694.198357 -17046.441795  "
      ]
     },
     "execution_count": 191,
     "metadata": {},
     "output_type": "execute_result"
    }
   ],
   "source": [
    "df_results[df_results['model'].isin(['SVR','SVR_poly'])]"
   ]
  },
  {
   "cell_type": "markdown",
   "metadata": {},
   "source": [
    "Eventhough the SVR Poly captured the outlier data, we need to be cautious due to it shows sign of overfitting based on its MAE.\n",
    "\n",
    "Secondly, we also see how MAE and RMSE may show different behaviour due to RMSE attractivity to outliers."
   ]
  },
  {
   "cell_type": "code",
   "execution_count": null,
   "metadata": {},
   "outputs": [],
   "source": []
  },
  {
   "cell_type": "markdown",
   "metadata": {},
   "source": [
    "In machine learning we have many options of models to choose from. So far, we have learn two possible model for regression; Linear regression and SVM. Both of the models may be extended, e.g. adding polynomial feature to linear regression or embedding kernel to SVM."
   ]
  },
  {
   "cell_type": "markdown",
   "metadata": {},
   "source": [
    "# Classification"
   ]
  },
  {
   "cell_type": "markdown",
   "metadata": {},
   "source": [
    "## Data Preparation"
   ]
  },
  {
   "cell_type": "code",
   "execution_count": 327,
   "metadata": {},
   "outputs": [],
   "source": [
    "df=pd.read_csv('data/aug_train.csv')"
   ]
  },
  {
   "cell_type": "code",
   "execution_count": 326,
   "metadata": {},
   "outputs": [
    {
     "data": {
      "text/html": [
       "<div>\n",
       "<style scoped>\n",
       "    .dataframe tbody tr th:only-of-type {\n",
       "        vertical-align: middle;\n",
       "    }\n",
       "\n",
       "    .dataframe tbody tr th {\n",
       "        vertical-align: top;\n",
       "    }\n",
       "\n",
       "    .dataframe thead th {\n",
       "        text-align: right;\n",
       "    }\n",
       "</style>\n",
       "<table border=\"1\" class=\"dataframe\">\n",
       "  <thead>\n",
       "    <tr style=\"text-align: right;\">\n",
       "      <th></th>\n",
       "      <th>id</th>\n",
       "      <th>sqft_living</th>\n",
       "      <th>floors</th>\n",
       "      <th>price</th>\n",
       "    </tr>\n",
       "  </thead>\n",
       "  <tbody>\n",
       "    <tr>\n",
       "      <th>0</th>\n",
       "      <td>7129300520</td>\n",
       "      <td>1180</td>\n",
       "      <td>1.0</td>\n",
       "      <td>221900.0</td>\n",
       "    </tr>\n",
       "    <tr>\n",
       "      <th>1</th>\n",
       "      <td>6414100192</td>\n",
       "      <td>2570</td>\n",
       "      <td>2.0</td>\n",
       "      <td>538000.0</td>\n",
       "    </tr>\n",
       "    <tr>\n",
       "      <th>2</th>\n",
       "      <td>5631500400</td>\n",
       "      <td>770</td>\n",
       "      <td>1.0</td>\n",
       "      <td>180000.0</td>\n",
       "    </tr>\n",
       "    <tr>\n",
       "      <th>3</th>\n",
       "      <td>2487200875</td>\n",
       "      <td>1960</td>\n",
       "      <td>1.0</td>\n",
       "      <td>604000.0</td>\n",
       "    </tr>\n",
       "    <tr>\n",
       "      <th>4</th>\n",
       "      <td>1954400510</td>\n",
       "      <td>1680</td>\n",
       "      <td>1.0</td>\n",
       "      <td>510000.0</td>\n",
       "    </tr>\n",
       "  </tbody>\n",
       "</table>\n",
       "</div>"
      ],
      "text/plain": [
       "           id  sqft_living  floors     price\n",
       "0  7129300520         1180     1.0  221900.0\n",
       "1  6414100192         2570     2.0  538000.0\n",
       "2  5631500400          770     1.0  180000.0\n",
       "3  2487200875         1960     1.0  604000.0\n",
       "4  1954400510         1680     1.0  510000.0"
      ]
     },
     "execution_count": 326,
     "metadata": {},
     "output_type": "execute_result"
    }
   ],
   "source": [
    "df.head(5)"
   ]
  },
  {
   "cell_type": "code",
   "execution_count": 320,
   "metadata": {},
   "outputs": [
    {
     "data": {
      "text/plain": [
       "Index(['id', 'date', 'price', 'bedrooms', 'bathrooms', 'sqft_living',\n",
       "       'sqft_lot', 'floors', 'waterfront', 'view', 'condition', 'grade',\n",
       "       'sqft_above', 'sqft_basement', 'yr_built', 'yr_renovated', 'zipcode',\n",
       "       'lat', 'long', 'sqft_living15', 'sqft_lot15'],\n",
       "      dtype='object')"
      ]
     },
     "execution_count": 320,
     "metadata": {},
     "output_type": "execute_result"
    }
   ],
   "source": [
    "df.columns"
   ]
  },
  {
   "cell_type": "code",
   "execution_count": 299,
   "metadata": {
    "scrolled": true
   },
   "outputs": [
    {
     "name": "stdout",
     "output_type": "stream",
     "text": [
      "(19158, 14)\n"
     ]
    }
   ],
   "source": [
    "print(df.shape)"
   ]
  },
  {
   "cell_type": "markdown",
   "metadata": {},
   "source": [
    "### Data Transformation"
   ]
  },
  {
   "cell_type": "markdown",
   "metadata": {},
   "source": [
    "Transform relevant experience"
   ]
  },
  {
   "cell_type": "code",
   "execution_count": 300,
   "metadata": {},
   "outputs": [],
   "source": [
    "df['num_rel_exp']=df['relevent_experience']=='Has relevent experience'"
   ]
  },
  {
   "cell_type": "code",
   "execution_count": 301,
   "metadata": {},
   "outputs": [],
   "source": [
    "df_new = df\n",
    "#feature_cols = ['city_development_index','num_rel_exp','training_hours']+list(new_job_dmy.columns.values)\n",
    "feature_cols = ['city_development_index','num_rel_exp','training_hours']\n",
    "#df_train = df_new[['city_development_index','num_rel_exp','training_hours','target']+list(new_job_dmy.columns.values)]\n",
    "df_train = df_new\n",
    "X = df_train[feature_cols]\n",
    "y = df_train['target']"
   ]
  },
  {
   "cell_type": "markdown",
   "metadata": {},
   "source": [
    "### Split data"
   ]
  },
  {
   "cell_type": "code",
   "execution_count": 308,
   "metadata": {},
   "outputs": [],
   "source": [
    "from sklearn.model_selection import train_test_split\n",
    "X_train, X_test, y_train, y_test = train_test_split(X, y, test_size=0.1, random_state=69, stratify=y)"
   ]
  },
  {
   "cell_type": "code",
   "execution_count": 309,
   "metadata": {},
   "outputs": [],
   "source": [
    "from sklearn.model_selection import train_test_split\n",
    "X_train, X_val, y_train, y_val = train_test_split(X_train, y_train, test_size=2/9, random_state=69, stratify=y_train)"
   ]
  },
  {
   "cell_type": "code",
   "execution_count": 310,
   "metadata": {},
   "outputs": [
    {
     "data": {
      "text/plain": [
       "(13410, 3)"
      ]
     },
     "execution_count": 310,
     "metadata": {},
     "output_type": "execute_result"
    }
   ],
   "source": [
    "X_train.shape"
   ]
  },
  {
   "cell_type": "code",
   "execution_count": 311,
   "metadata": {},
   "outputs": [
    {
     "data": {
      "text/plain": [
       "(3832, 3)"
      ]
     },
     "execution_count": 311,
     "metadata": {},
     "output_type": "execute_result"
    }
   ],
   "source": [
    "X_val.shape"
   ]
  },
  {
   "cell_type": "code",
   "execution_count": 312,
   "metadata": {},
   "outputs": [
    {
     "data": {
      "text/plain": [
       "(1916, 3)"
      ]
     },
     "execution_count": 312,
     "metadata": {},
     "output_type": "execute_result"
    }
   ],
   "source": [
    "X_test.shape"
   ]
  },
  {
   "cell_type": "code",
   "execution_count": 314,
   "metadata": {},
   "outputs": [
    {
     "data": {
      "text/plain": [
       "0.2000208790061593"
      ]
     },
     "execution_count": 314,
     "metadata": {},
     "output_type": "execute_result"
    }
   ],
   "source": [
    "3832/len(X)"
   ]
  },
  {
   "cell_type": "code",
   "execution_count": 315,
   "metadata": {},
   "outputs": [
    {
     "data": {
      "text/plain": [
       "0.6999686814907611"
      ]
     },
     "execution_count": 315,
     "metadata": {},
     "output_type": "execute_result"
    }
   ],
   "source": [
    "13410/len(X)"
   ]
  },
  {
   "cell_type": "markdown",
   "metadata": {},
   "source": [
    "## Modelling"
   ]
  },
  {
   "cell_type": "markdown",
   "metadata": {},
   "source": [
    "### Scale your data"
   ]
  },
  {
   "cell_type": "code",
   "execution_count": 233,
   "metadata": {},
   "outputs": [],
   "source": [
    "scaler = StandardScaler()\n",
    "scaler.fit(X_train)\n",
    "X_train_trf = scaler.transform(X_train) "
   ]
  },
  {
   "cell_type": "code",
   "execution_count": 237,
   "metadata": {},
   "outputs": [
    {
     "data": {
      "text/html": [
       "<div>\n",
       "<style scoped>\n",
       "    .dataframe tbody tr th:only-of-type {\n",
       "        vertical-align: middle;\n",
       "    }\n",
       "\n",
       "    .dataframe tbody tr th {\n",
       "        vertical-align: top;\n",
       "    }\n",
       "\n",
       "    .dataframe thead th {\n",
       "        text-align: right;\n",
       "    }\n",
       "</style>\n",
       "<table border=\"1\" class=\"dataframe\">\n",
       "  <thead>\n",
       "    <tr style=\"text-align: right;\">\n",
       "      <th></th>\n",
       "      <th>city_development_index</th>\n",
       "      <th>num_rel_exp</th>\n",
       "      <th>training_hours</th>\n",
       "    </tr>\n",
       "  </thead>\n",
       "  <tbody>\n",
       "    <tr>\n",
       "      <th>2923</th>\n",
       "      <td>0.920</td>\n",
       "      <td>False</td>\n",
       "      <td>103</td>\n",
       "    </tr>\n",
       "    <tr>\n",
       "      <th>12489</th>\n",
       "      <td>0.926</td>\n",
       "      <td>True</td>\n",
       "      <td>84</td>\n",
       "    </tr>\n",
       "    <tr>\n",
       "      <th>4275</th>\n",
       "      <td>0.920</td>\n",
       "      <td>False</td>\n",
       "      <td>52</td>\n",
       "    </tr>\n",
       "    <tr>\n",
       "      <th>18788</th>\n",
       "      <td>0.920</td>\n",
       "      <td>True</td>\n",
       "      <td>142</td>\n",
       "    </tr>\n",
       "    <tr>\n",
       "      <th>3026</th>\n",
       "      <td>0.884</td>\n",
       "      <td>False</td>\n",
       "      <td>18</td>\n",
       "    </tr>\n",
       "    <tr>\n",
       "      <th>...</th>\n",
       "      <td>...</td>\n",
       "      <td>...</td>\n",
       "      <td>...</td>\n",
       "    </tr>\n",
       "    <tr>\n",
       "      <th>429</th>\n",
       "      <td>0.624</td>\n",
       "      <td>False</td>\n",
       "      <td>72</td>\n",
       "    </tr>\n",
       "    <tr>\n",
       "      <th>18649</th>\n",
       "      <td>0.555</td>\n",
       "      <td>True</td>\n",
       "      <td>2</td>\n",
       "    </tr>\n",
       "    <tr>\n",
       "      <th>2743</th>\n",
       "      <td>0.804</td>\n",
       "      <td>False</td>\n",
       "      <td>54</td>\n",
       "    </tr>\n",
       "    <tr>\n",
       "      <th>18804</th>\n",
       "      <td>0.925</td>\n",
       "      <td>True</td>\n",
       "      <td>73</td>\n",
       "    </tr>\n",
       "    <tr>\n",
       "      <th>18293</th>\n",
       "      <td>0.698</td>\n",
       "      <td>True</td>\n",
       "      <td>43</td>\n",
       "    </tr>\n",
       "  </tbody>\n",
       "</table>\n",
       "<p>15326 rows × 3 columns</p>\n",
       "</div>"
      ],
      "text/plain": [
       "       city_development_index  num_rel_exp  training_hours\n",
       "2923                    0.920        False             103\n",
       "12489                   0.926         True              84\n",
       "4275                    0.920        False              52\n",
       "18788                   0.920         True             142\n",
       "3026                    0.884        False              18\n",
       "...                       ...          ...             ...\n",
       "429                     0.624        False              72\n",
       "18649                   0.555         True               2\n",
       "2743                    0.804        False              54\n",
       "18804                   0.925         True              73\n",
       "18293                   0.698         True              43\n",
       "\n",
       "[15326 rows x 3 columns]"
      ]
     },
     "execution_count": 237,
     "metadata": {},
     "output_type": "execute_result"
    }
   ],
   "source": [
    "X_train"
   ]
  },
  {
   "cell_type": "code",
   "execution_count": 234,
   "metadata": {},
   "outputs": [
    {
     "data": {
      "text/plain": [
       "array([[ 0.73536231, -1.59255304,  0.62133613],\n",
       "       [ 0.78417509,  0.62792257,  0.30625994],\n",
       "       [ 0.73536231, -1.59255304, -0.2243947 ],\n",
       "       ...,\n",
       "       [-0.20835141, -1.59255304, -0.19122879],\n",
       "       [ 0.77603962,  0.62792257,  0.1238474 ],\n",
       "       [-1.07071049,  0.62792257, -0.37364132]])"
      ]
     },
     "execution_count": 234,
     "metadata": {},
     "output_type": "execute_result"
    }
   ],
   "source": [
    "X_train_trf"
   ]
  },
  {
   "cell_type": "markdown",
   "metadata": {},
   "source": [
    "### Create model and train"
   ]
  },
  {
   "cell_type": "code",
   "execution_count": 241,
   "metadata": {},
   "outputs": [
    {
     "name": "stdout",
     "output_type": "stream",
     "text": [
      "Wall time: 10.5 ms\n"
     ]
    },
    {
     "data": {
      "text/plain": [
       "LogisticRegression(random_state=69)"
      ]
     },
     "execution_count": 241,
     "metadata": {},
     "output_type": "execute_result"
    }
   ],
   "source": [
    "model_lr = LogisticRegression(solver=\"lbfgs\", random_state=69)\n",
    "%time model_lr.fit(X_train_trf, y_train)"
   ]
  },
  {
   "cell_type": "code",
   "execution_count": 239,
   "metadata": {},
   "outputs": [
    {
     "name": "stdout",
     "output_type": "stream",
     "text": [
      "Wall time: 1.73 s\n"
     ]
    },
    {
     "data": {
      "text/plain": [
       "SVC(C=1, kernel='linear', random_state=69)"
      ]
     },
     "execution_count": 239,
     "metadata": {},
     "output_type": "execute_result"
    }
   ],
   "source": [
    "from sklearn.svm import SVC\n",
    "model_svc_linear = SVC(kernel='linear', random_state=69,C=1)\n",
    "%time model_svc_linear.fit(X_train_trf, y_train)"
   ]
  },
  {
   "cell_type": "markdown",
   "metadata": {},
   "source": [
    "Model berikutnya menggunakan kernel RBF, untuk melihat pengaruh kernel tersebut pada akurasi dibanding tanpa kernel (linear)"
   ]
  },
  {
   "cell_type": "code",
   "execution_count": 123,
   "metadata": {},
   "outputs": [
    {
     "name": "stdout",
     "output_type": "stream",
     "text": [
      "Wall time: 4.71 s\n"
     ]
    },
    {
     "data": {
      "text/plain": [
       "SVC(C=1, random_state=69)"
      ]
     },
     "execution_count": 123,
     "metadata": {},
     "output_type": "execute_result"
    }
   ],
   "source": [
    "from sklearn.svm import SVC\n",
    "model_svc = SVC(kernel='rbf', random_state=69,C=1)\n",
    "%time model_svc.fit(X_train_trf, y_train)"
   ]
  },
  {
   "cell_type": "code",
   "execution_count": 116,
   "metadata": {},
   "outputs": [
    {
     "name": "stdout",
     "output_type": "stream",
     "text": [
      "Wall time: 3.39 s\n"
     ]
    },
    {
     "data": {
      "text/plain": [
       "SVC(C=0.1, random_state=69)"
      ]
     },
     "execution_count": 116,
     "metadata": {},
     "output_type": "execute_result"
    }
   ],
   "source": [
    "from sklearn.svm import SVC\n",
    "model_svc_2 = SVC(kernel='rbf', random_state=69,C=0.1)\n",
    "%time model_svc_2.fit(X_train_trf, y_train)"
   ]
  },
  {
   "cell_type": "code",
   "execution_count": 103,
   "metadata": {},
   "outputs": [
    {
     "name": "stdout",
     "output_type": "stream",
     "text": [
      "Wall time: 18.8 s\n"
     ]
    },
    {
     "data": {
      "text/plain": [
       "SVC(C=20, random_state=69)"
      ]
     },
     "execution_count": 103,
     "metadata": {},
     "output_type": "execute_result"
    }
   ],
   "source": [
    "from sklearn.svm import SVC\n",
    "model_svc_3 = SVC(kernel='rbf', random_state=69,C=20)\n",
    "%time model_svc_3.fit(X_train_trf, y_train)"
   ]
  },
  {
   "cell_type": "code",
   "execution_count": 242,
   "metadata": {},
   "outputs": [
    {
     "name": "stdout",
     "output_type": "stream",
     "text": [
      "Wall time: 15.2 s\n"
     ]
    },
    {
     "data": {
      "text/plain": [
       "SVC(C=1, degree=4, kernel='poly', random_state=69)"
      ]
     },
     "execution_count": 242,
     "metadata": {},
     "output_type": "execute_result"
    }
   ],
   "source": [
    "from sklearn.svm import SVC\n",
    "model_svc_poly = SVC(kernel='poly',degree=4, random_state=69,C=1)\n",
    "%time model_svc_poly.fit(X_train_trf, y_train)"
   ]
  },
  {
   "cell_type": "markdown",
   "metadata": {},
   "source": [
    "## Model Analysis"
   ]
  },
  {
   "cell_type": "markdown",
   "metadata": {},
   "source": [
    "### Performance Evaluation"
   ]
  },
  {
   "cell_type": "code",
   "execution_count": 110,
   "metadata": {},
   "outputs": [],
   "source": [
    "X_val_trf = scaler.transform(X_val) "
   ]
  },
  {
   "cell_type": "code",
   "execution_count": 124,
   "metadata": {},
   "outputs": [
    {
     "name": "stdout",
     "output_type": "stream",
     "text": [
      "Wall time: 362 ms\n",
      "              precision    recall  f1-score   support\n",
      "\n",
      "         0.0       0.83      0.90      0.87      2877\n",
      "         1.0       0.61      0.45      0.52       955\n",
      "\n",
      "    accuracy                           0.79      3832\n",
      "   macro avg       0.72      0.68      0.69      3832\n",
      "weighted avg       0.78      0.79      0.78      3832\n",
      "\n"
     ]
    }
   ],
   "source": [
    "%time y_val_predict = model_svc.predict(X_val_trf)\n",
    "from sklearn.metrics import classification_report\n",
    "print(classification_report(y_val, y_val_predict))"
   ]
  },
  {
   "cell_type": "code",
   "execution_count": 244,
   "metadata": {},
   "outputs": [
    {
     "name": "stdout",
     "output_type": "stream",
     "text": [
      "Wall time: 157 ms\n",
      "              precision    recall  f1-score   support\n",
      "\n",
      "         0.0       0.75      1.00      0.86      2877\n",
      "         1.0       0.00      0.00      0.00       955\n",
      "\n",
      "    accuracy                           0.75      3832\n",
      "   macro avg       0.38      0.50      0.43      3832\n",
      "weighted avg       0.56      0.75      0.64      3832\n",
      "\n"
     ]
    },
    {
     "name": "stderr",
     "output_type": "stream",
     "text": [
      "C:\\Users\\madin\\anaconda3\\lib\\site-packages\\sklearn\\metrics\\_classification.py:1221: UndefinedMetricWarning: Precision and F-score are ill-defined and being set to 0.0 in labels with no predicted samples. Use `zero_division` parameter to control this behavior.\n",
      "  _warn_prf(average, modifier, msg_start, len(result))\n"
     ]
    }
   ],
   "source": [
    "%time y_val_predict = model_svc_linear.predict(X_val_trf)\n",
    "from sklearn.metrics import classification_report\n",
    "print(classification_report(y_val, y_val_predict))"
   ]
  },
  {
   "cell_type": "code",
   "execution_count": 243,
   "metadata": {},
   "outputs": [
    {
     "name": "stdout",
     "output_type": "stream",
     "text": [
      "Wall time: 997 µs\n",
      "              precision    recall  f1-score   support\n",
      "\n",
      "         0.0       0.78      0.95      0.86      2877\n",
      "         1.0       0.58      0.22      0.32       955\n",
      "\n",
      "    accuracy                           0.77      3832\n",
      "   macro avg       0.68      0.58      0.59      3832\n",
      "weighted avg       0.73      0.77      0.72      3832\n",
      "\n"
     ]
    }
   ],
   "source": [
    "%time y_val_predict = model_lr.predict(X_val_trf)\n",
    "from sklearn.metrics import classification_report\n",
    "print(classification_report(y_val, y_val_predict))"
   ]
  },
  {
   "cell_type": "code",
   "execution_count": 117,
   "metadata": {},
   "outputs": [
    {
     "name": "stdout",
     "output_type": "stream",
     "text": [
      "Wall time: 373 ms\n",
      "              precision    recall  f1-score   support\n",
      "\n",
      "         0.0       0.82      0.91      0.87      2877\n",
      "         1.0       0.61      0.41      0.49       955\n",
      "\n",
      "    accuracy                           0.79      3832\n",
      "   macro avg       0.72      0.66      0.68      3832\n",
      "weighted avg       0.77      0.79      0.77      3832\n",
      "\n"
     ]
    }
   ],
   "source": [
    "%time y_val_predict = model_svc_2.predict(X_val_trf)\n",
    "from sklearn.metrics import classification_report\n",
    "print(classification_report(y_val, y_val_predict))"
   ]
  },
  {
   "cell_type": "code",
   "execution_count": 114,
   "metadata": {},
   "outputs": [
    {
     "name": "stdout",
     "output_type": "stream",
     "text": [
      "Wall time: 358 ms\n",
      "              precision    recall  f1-score   support\n",
      "\n",
      "         0.0       0.83      0.90      0.86      2877\n",
      "         1.0       0.60      0.45      0.51       955\n",
      "\n",
      "    accuracy                           0.79      3832\n",
      "   macro avg       0.72      0.68      0.69      3832\n",
      "weighted avg       0.77      0.79      0.78      3832\n",
      "\n"
     ]
    }
   ],
   "source": [
    "%time y_val_predict = model_svc_3.predict(X_val_trf)\n",
    "from sklearn.metrics import classification_report\n",
    "print(classification_report(y_val, y_val_predict))"
   ]
  },
  {
   "cell_type": "code",
   "execution_count": 115,
   "metadata": {},
   "outputs": [
    {
     "name": "stdout",
     "output_type": "stream",
     "text": [
      "Wall time: 200 ms\n",
      "              precision    recall  f1-score   support\n",
      "\n",
      "         0.0       0.77      0.98      0.86      2877\n",
      "         1.0       0.61      0.10      0.17       955\n",
      "\n",
      "    accuracy                           0.76      3832\n",
      "   macro avg       0.69      0.54      0.52      3832\n",
      "weighted avg       0.73      0.76      0.69      3832\n",
      "\n"
     ]
    }
   ],
   "source": [
    "%time y_val_predict = model_svc_poly.predict(X_val_trf)\n",
    "from sklearn.metrics import classification_report\n",
    "print(classification_report(y_val, y_val_predict))"
   ]
  },
  {
   "cell_type": "markdown",
   "metadata": {},
   "source": [
    "ROC Curve"
   ]
  },
  {
   "cell_type": "code",
   "execution_count": 125,
   "metadata": {},
   "outputs": [],
   "source": [
    "def plot_roc_curve(fpr, tpr, label=None):\n",
    "    plt.plot(fpr, tpr, linewidth=2, label=label)\n",
    "    plt.plot([0, 1], [0, 1], 'k--') # dashed diagonal\n",
    "    plt.axis([0, 1, 0, 1])                                    # Not shown in the book\n",
    "    plt.xlabel('False Positive Rate (Fall-Out)', fontsize=16) # Not shown\n",
    "    plt.ylabel('True Positive Rate (Recall)', fontsize=16)    # Not shown\n",
    "    plt.grid(True)                                            # Not shown"
   ]
  },
  {
   "cell_type": "code",
   "execution_count": 130,
   "metadata": {},
   "outputs": [],
   "source": [
    "from sklearn.model_selection import cross_val_predict"
   ]
  },
  {
   "cell_type": "code",
   "execution_count": 138,
   "metadata": {},
   "outputs": [],
   "source": [
    "from sklearn.metrics import roc_curve,auc"
   ]
  },
  {
   "cell_type": "code",
   "execution_count": 145,
   "metadata": {},
   "outputs": [
    {
     "data": {
      "text/plain": [
       "array([-0.76070663, -1.07449444, -1.00030628, ..., -1.06423916,\n",
       "       -0.2445434 , -1.02545245])"
      ]
     },
     "execution_count": 145,
     "metadata": {},
     "output_type": "execute_result"
    }
   ],
   "source": []
  },
  {
   "cell_type": "code",
   "execution_count": 147,
   "metadata": {},
   "outputs": [
    {
     "data": {
      "text/plain": [
       "<matplotlib.legend.Legend at 0x1cd23bf4610>"
      ]
     },
     "execution_count": 147,
     "metadata": {},
     "output_type": "execute_result"
    },
    {
     "data": {
      "image/png": "[encoded data removed]",
      "text/plain": [
       "<Figure size 576x432 with 1 Axes>"
      ]
     },
     "metadata": {
      "needs_background": "light"
     },
     "output_type": "display_data"
    }
   ],
   "source": [
    "plt.figure(figsize=(8, 6))                                    # Not shown\n",
    "plt.axis([0, 1, 0, 1])                                    # Not shown in the book\n",
    "plt.xlabel('False Positive Rate (Fall-Out)', fontsize=16) # Not shown\n",
    "plt.ylabel('True Positive Rate (Recall)', fontsize=16)    # Not shown\n",
    "plt.grid(True)                                            # Not shown\n",
    "plt.plot([0, 1], [0, 1], 'k--') # dashed diagonal\n",
    "labels=['LogReg','SVM','SVM C=0.1', 'SVM C=20','SVM Poly']\n",
    "for idx,model in enumerate([model_lr,model_svc,model_svc_2,model_svc_3,model_svc_poly]):\n",
    "    y_scores = model.decision_function(X_val_trf)\n",
    "    fpr, tpr, thresholds = roc_curve(y_val, y_scores)\n",
    "    roc_auc = auc(fpr, tpr)\n",
    "    plt.plot(fpr, tpr, linewidth=2,label=labels[idx] + ' ROC curve (area = %0.2f)' % roc_auc)\n",
    "plt.legend(loc=\"lower right\")"
   ]
  },
  {
   "cell_type": "code",
   "execution_count": 248,
   "metadata": {},
   "outputs": [
    {
     "name": "stdout",
     "output_type": "stream",
     "text": [
      "[[2595  282]\n",
      " [ 523  432]]\n",
      "0.6050420168067226\n",
      "0.4523560209424084\n"
     ]
    }
   ],
   "source": [
    "from sklearn.metrics import confusion_matrix\n",
    "from sklearn.metrics import precision_score, recall_score\n",
    "y_val_pred = model_svc.predict(X_val_trf)\n",
    "cm = confusion_matrix(y_val, y_val_pred)\n",
    "print(cm)\n",
    "print(precision_score(y_val, y_val_pred))\n",
    "print(recall_score(y_val, y_val_pred))"
   ]
  },
  {
   "cell_type": "code",
   "execution_count": 249,
   "metadata": {},
   "outputs": [
    {
     "name": "stdout",
     "output_type": "stream",
     "text": [
      "[[2727  150]\n",
      " [ 748  207]]\n",
      "0.5798319327731093\n",
      "0.21675392670157068\n"
     ]
    }
   ],
   "source": [
    "from sklearn.metrics import confusion_matrix\n",
    "y_val_pred = model_lr.predict(X_val_trf)\n",
    "cm = confusion_matrix(y_val, y_val_pred)\n",
    "print(cm)\n",
    "print(precision_score(y_val, y_val_pred))\n",
    "print(recall_score(y_val, y_val_pred))"
   ]
  },
  {
   "cell_type": "markdown",
   "metadata": {},
   "source": [
    "### Parameter Analysis"
   ]
  },
  {
   "cell_type": "code",
   "execution_count": 250,
   "metadata": {},
   "outputs": [
    {
     "data": {
      "text/plain": [
       "7442"
      ]
     },
     "execution_count": 250,
     "metadata": {},
     "output_type": "execute_result"
    }
   ],
   "source": [
    "len(model_svc.support_vectors_)"
   ]
  },
  {
   "cell_type": "code",
   "execution_count": 251,
   "metadata": {
    "scrolled": false
   },
   "outputs": [
    {
     "data": {
      "text/plain": [
       "array([[ 0.44248564, -1.59255304, -0.78821526],\n",
       "       [ 0.46689203,  0.62792257,  0.40575768],\n",
       "       [-2.27475902, -1.59255304, -0.37364132],\n",
       "       ...,\n",
       "       [-0.74529197,  0.62792257,  0.42234064],\n",
       "       [-1.67273476, -1.59255304,  0.10726445],\n",
       "       [-1.07071049,  0.62792257, -0.37364132]])"
      ]
     },
     "execution_count": 251,
     "metadata": {},
     "output_type": "execute_result"
    }
   ],
   "source": [
    "model_svc.support_vectors_"
   ]
  }
 ],
 "metadata": {
  "kernelspec": {
   "display_name": "Python 3",
   "language": "python",
   "name": "python3"
  },
  "language_info": {
   "codemirror_mode": {
    "name": "ipython",
    "version": 3
   },
   "file_extension": ".py",
   "mimetype": "text/x-python",
   "name": "python",
   "nbconvert_exporter": "python",
   "pygments_lexer": "ipython3",
   "version": "3.8.5"
  }
 },
 "nbformat": 4,
 "nbformat_minor": 4
}
