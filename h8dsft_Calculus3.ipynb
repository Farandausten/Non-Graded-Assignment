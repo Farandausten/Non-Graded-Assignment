{
 "cells": [
  {
   "cell_type": "markdown",
   "id": "fb0eb66e",
   "metadata": {},
   "source": [
    "# HITUNG GRADIENT DARI SEBUAH FUNGSI:\n",
    "    "
   ]
  },
  {
   "cell_type": "markdown",
   "id": "44b5fd1a",
   "metadata": {},
   "source": [
    "# 3X +4Y = 5"
   ]
  },
  {
   "cell_type": "code",
   "execution_count": 1,
   "id": "bb19e7de",
   "metadata": {},
   "outputs": [],
   "source": [
    "import numpy as np\n",
    "import sympy as sy\n",
    "from sympy.tensor.array import derive_by_array \n",
    "from sympy import hessian, symbols\n"
   ]
  },
  {
   "cell_type": "code",
   "execution_count": 4,
   "id": "6080fca2",
   "metadata": {},
   "outputs": [
    {
     "data": {
      "text/latex": [
       "$\\displaystyle \\left[\\begin{matrix}3 & 4\\end{matrix}\\right]$"
      ],
      "text/plain": [
       "[3, 4]"
      ]
     },
     "execution_count": 4,
     "metadata": {},
     "output_type": "execute_result"
    }
   ],
   "source": [
    "x, y, z= sy.symbols('x y z', real= True)\n",
    "c = 3*x+4*y-5\n",
    "derive_by_array(c,(x,y))"
   ]
  },
  {
   "cell_type": "markdown",
   "id": "9a44d7ff",
   "metadata": {},
   "source": [
    "Gradient dari 3x + 4y = 5 adalah (3,4)"
   ]
  }
 ],
 "metadata": {
  "kernelspec": {
   "display_name": "Python 3",
   "language": "python",
   "name": "python3"
  },
  "language_info": {
   "codemirror_mode": {
    "name": "ipython",
    "version": 3
   },
   "file_extension": ".py",
   "mimetype": "text/x-python",
   "name": "python",
   "nbconvert_exporter": "python",
   "pygments_lexer": "ipython3",
   "version": "3.8.8"
  }
 },
 "nbformat": 4,
 "nbformat_minor": 5
}
