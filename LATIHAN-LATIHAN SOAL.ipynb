{
 "cells": [
  {
   "cell_type": "code",
   "execution_count": 3,
   "id": "0d9dff83",
   "metadata": {},
   "outputs": [
    {
     "data": {
      "text/plain": [
       "['foo', 'Joko', 'Dada', 'baz', 'kuz', 'nex']"
      ]
     },
     "execution_count": 3,
     "metadata": {},
     "output_type": "execute_result"
    }
   ],
   "source": [
    "thislist =['foo', 'bar', 'baz','kuz','nex']\n",
    "thislist[1:2]= ['Joko', 'Dada']\n",
    "thislist"
   ]
  },
  {
   "cell_type": "code",
   "execution_count": 10,
   "id": "6d8c719f",
   "metadata": {},
   "outputs": [],
   "source": [
    "def convert_f_to_c(f):\n",
    "    c = float(f-32) *5 /9\n",
    "    return\n",
    "def convert_f_to_k(f):\n",
    "    k = (float(f-32)*5/9)+273\n",
    "    return\n",
    "\n",
    "\n",
    "convert_f_to_c(100)\n",
    "convert_f_to_k(100)\n"
   ]
  },
  {
   "cell_type": "code",
   "execution_count": 42,
   "id": "05fd9602",
   "metadata": {},
   "outputs": [
    {
     "ename": "SyntaxError",
     "evalue": "invalid syntax (<ipython-input-42-0e44894f250c>, line 1)",
     "output_type": "error",
     "traceback": [
      "\u001b[1;36m  File \u001b[1;32m\"<ipython-input-42-0e44894f250c>\"\u001b[1;36m, line \u001b[1;32m1\u001b[0m\n\u001b[1;33m    9Myname=\"Budi\"\u001b[0m\n\u001b[1;37m     ^\u001b[0m\n\u001b[1;31mSyntaxError\u001b[0m\u001b[1;31m:\u001b[0m invalid syntax\n"
     ]
    }
   ],
   "source": [
    "9Myname=\"Budi\"\n",
    "print(9Myname)"
   ]
  },
  {
   "cell_type": "code",
   "execution_count": 20,
   "id": "7ac3475f",
   "metadata": {},
   "outputs": [
    {
     "name": "stdout",
     "output_type": "stream",
     "text": [
      "['aku', 'kamu', 'dia', 'anda']\n"
     ]
    }
   ],
   "source": [
    "thislist=[\"aku\", \"kamu\",\"saya\",\"dia\", \"anda\"]\n",
    "thislist.pop(2)\n",
    "print(thislist)"
   ]
  },
  {
   "cell_type": "code",
   "execution_count": 21,
   "id": "cffb8bd3",
   "metadata": {},
   "outputs": [
    {
     "name": "stdout",
     "output_type": "stream",
     "text": [
      "['aku', 'kamu', 'dia', 'anda']\n"
     ]
    }
   ],
   "source": [
    "y=list(thislist)\n",
    "print(thislist)"
   ]
  },
  {
   "cell_type": "code",
   "execution_count": 23,
   "id": "1c05849e",
   "metadata": {},
   "outputs": [],
   "source": [
    "y.append('Pesawat')\n",
    "thislist= tuple(y)"
   ]
  },
  {
   "cell_type": "code",
   "execution_count": 33,
   "id": "13647b7c",
   "metadata": {},
   "outputs": [
    {
     "name": "stdout",
     "output_type": "stream",
     "text": [
      "['aku', 'kamu', 'saya', 'dia', 'anda']\n",
      "['aku', 'kamu', 'saya', 'dia', 'anda']\n",
      "('aku', 'kamu', 'saya', 'dia', 'anda', 'Pesawat')\n"
     ]
    }
   ],
   "source": [
    "thislist=[\"aku\", \"kamu\",\"saya\",\"dia\", \"anda\"]\n",
    "y=list(thislist)\n",
    "print(thislist)\n",
    "y.append('Pesawat')\n",
    "print(thislist)\n",
    "thislist= tuple(y)\n",
    "print(thislist)"
   ]
  },
  {
   "cell_type": "code",
   "execution_count": 27,
   "id": "74a31ad8",
   "metadata": {},
   "outputs": [
    {
     "name": "stdout",
     "output_type": "stream",
     "text": [
      "('aku', 'kamu', 'saya', 'dia', 'anda', 'P', 'e', 's', 'a', 'w', 'a', 't')\n"
     ]
    }
   ],
   "source": [
    "thislist=[\"aku\", \"kamu\",\"saya\",\"dia\", \"anda\"]\n",
    "y=list(thislist)\n",
    "y.extend('Pesawat')\n",
    "thislist= tuple(y)\n",
    "print(thislist)"
   ]
  },
  {
   "cell_type": "code",
   "execution_count": 31,
   "id": "7343a0c2",
   "metadata": {},
   "outputs": [
    {
     "name": "stdout",
     "output_type": "stream",
     "text": [
      "['aku', 'kamu', 'saya', 'dia', 'anda', ['sepeda', 'mobil']]\n"
     ]
    }
   ],
   "source": [
    "thislist=[\"aku\", \"kamu\",\"saya\",\"dia\", \"anda\"]\n",
    "thislist2=[\"sepeda\", \"mobil\"]\n",
    "thislist.append(thislist2)\n",
    "print(thislist)"
   ]
  },
  {
   "cell_type": "code",
   "execution_count": 34,
   "id": "6f0a0c2e",
   "metadata": {},
   "outputs": [
    {
     "name": "stdout",
     "output_type": "stream",
     "text": [
      "{'model': 'mustang', 'year': 1984}\n"
     ]
    }
   ],
   "source": [
    "thisdict = {\n",
    "    \"brand\" : \"ford\",\n",
    "    \"model\" : \"mustang\",\n",
    "    \"year\" : 1984\n",
    "}\n",
    "\n",
    "thisdict.pop(\"brand\")\n",
    "print(thisdict)"
   ]
  },
  {
   "cell_type": "code",
   "execution_count": 36,
   "id": "a9dfe234",
   "metadata": {},
   "outputs": [
    {
     "ename": "SyntaxError",
     "evalue": "cannot assign to function call (<ipython-input-36-40723a49da49>, line 7)",
     "output_type": "error",
     "traceback": [
      "\u001b[1;36m  File \u001b[1;32m\"<ipython-input-36-40723a49da49>\"\u001b[1;36m, line \u001b[1;32m7\u001b[0m\n\u001b[1;33m    thisdict(\"year\") = 2018\u001b[0m\n\u001b[1;37m    ^\u001b[0m\n\u001b[1;31mSyntaxError\u001b[0m\u001b[1;31m:\u001b[0m cannot assign to function call\n"
     ]
    }
   ],
   "source": [
    "thisdict = {\n",
    "    \"brand\" : \"ford\",\n",
    "    \"model\" : \"mustang\",\n",
    "    \"year\" : 1984\n",
    "}\n",
    "\n",
    "thisdict(\"year\") = 2018"
   ]
  },
  {
   "cell_type": "code",
   "execution_count": 62,
   "id": "d85c2bac",
   "metadata": {},
   "outputs": [
    {
     "name": "stdout",
     "output_type": "stream",
     "text": [
      "['farand', 'austen', 'mahesa']\n"
     ]
    },
    {
     "ename": "TypeError",
     "evalue": "can only concatenate list (not \"str\") to list",
     "output_type": "error",
     "traceback": [
      "\u001b[1;31m---------------------------------------------------------------------------\u001b[0m",
      "\u001b[1;31mTypeError\u001b[0m                                 Traceback (most recent call last)",
      "\u001b[1;32m<ipython-input-62-7a8385d99c21>\u001b[0m in \u001b[0;36m<module>\u001b[1;34m\u001b[0m\n\u001b[0;32m      5\u001b[0m \u001b[1;33m\u001b[0m\u001b[0m\n\u001b[0;32m      6\u001b[0m \u001b[1;32mif\u001b[0m \u001b[0mlen\u001b[0m\u001b[1;33m(\u001b[0m\u001b[0mw\u001b[0m\u001b[1;33m)\u001b[0m \u001b[1;33m%\u001b[0m \u001b[1;36m2\u001b[0m\u001b[1;33m:\u001b[0m\u001b[1;33m\u001b[0m\u001b[1;33m\u001b[0m\u001b[0m\n\u001b[1;32m----> 7\u001b[1;33m     \u001b[0mprint\u001b[0m\u001b[1;33m(\u001b[0m\u001b[0mw\u001b[0m \u001b[1;33m+\u001b[0m \u001b[1;34m\"#\"\u001b[0m\u001b[1;33m)\u001b[0m\u001b[1;33m\u001b[0m\u001b[1;33m\u001b[0m\u001b[0m\n\u001b[0m",
      "\u001b[1;31mTypeError\u001b[0m: can only concatenate list (not \"str\") to list"
     ]
    }
   ],
   "source": [
    "thisdict=\"farand austen mahesa\"\n",
    "\n",
    "w = thisdict.split()\n",
    "print(w)\n",
    "\n",
    "if len(w) % 2:\n",
    "    print(w + \"#\")"
   ]
  },
  {
   "cell_type": "code",
   "execution_count": 69,
   "id": "8ad25546",
   "metadata": {},
   "outputs": [
    {
     "name": "stdout",
     "output_type": "stream",
     "text": [
      "1\n",
      "2\n",
      "3\n"
     ]
    }
   ],
   "source": [
    "i =1\n",
    "while i < 6:\n",
    "    print(i)\n",
    "    if i == 3:\n",
    "        break\n",
    "    i+=1"
   ]
  },
  {
   "cell_type": "code",
   "execution_count": 76,
   "id": "f541ab7b",
   "metadata": {},
   "outputs": [
    {
     "name": "stdout",
     "output_type": "stream",
     "text": [
      "1\n",
      "2\n",
      "4\n",
      "5\n",
      "6\n"
     ]
    }
   ],
   "source": [
    "i = 0\n",
    "while i < 6:\n",
    "    i+=1\n",
    "    if i == 3:\n",
    "        continue\n",
    "    print(i)"
   ]
  },
  {
   "cell_type": "code",
   "execution_count": 86,
   "id": "0ef213af",
   "metadata": {},
   "outputs": [
    {
     "name": "stdout",
     "output_type": "stream",
     "text": [
      "dict_keys(['brand', 'model', 'year'])\n"
     ]
    }
   ],
   "source": [
    "thisdict = {\n",
    "    \"brand\" : \"ford\",\n",
    "    \"model\" : \"mustang\",\n",
    "    \"year\" : 1984\n",
    "}\n",
    "\n",
    "x = thisdict.keys()\n",
    "print(x)"
   ]
  },
  {
   "cell_type": "code",
   "execution_count": 94,
   "id": "083e54e7",
   "metadata": {},
   "outputs": [
    {
     "name": "stdout",
     "output_type": "stream",
     "text": [
      "('year', 1984)\n"
     ]
    }
   ],
   "source": [
    "thisdict = {\n",
    "    \"brand\" : \"ford\",\n",
    "    \"model\" : \"mustang\",\n",
    "    \"year\" : 1984\n",
    "}\n",
    "\n",
    "x = thisdict.popitem()\n",
    "print(x)"
   ]
  },
  {
   "cell_type": "code",
   "execution_count": 102,
   "id": "4e39c752",
   "metadata": {},
   "outputs": [
    {
     "name": "stdout",
     "output_type": "stream",
     "text": [
      "{'model': 'mustang', 'year': 1984}\n"
     ]
    }
   ],
   "source": [
    "thisdict = {\n",
    "    \"brand\" : \"ford\",\n",
    "    \"model\" : \"mustang\",\n",
    "    \"year\" : 1984\n",
    "}\n",
    "\n",
    "del thisdict[\"brand\"]\n",
    "print(thisdict)"
   ]
  },
  {
   "cell_type": "code",
   "execution_count": 99,
   "id": "569f6852",
   "metadata": {},
   "outputs": [
    {
     "name": "stdout",
     "output_type": "stream",
     "text": [
      "{}\n"
     ]
    }
   ],
   "source": [
    "thisdict = {\n",
    "    \"brand\" : \"ford\",\n",
    "    \"model\" : \"mustang\",\n",
    "    \"year\" : 1984\n",
    "}\n",
    "\n",
    "thisdict.clear()\n",
    "print(thisdict)"
   ]
  },
  {
   "cell_type": "code",
   "execution_count": 104,
   "id": "c6fa4d4b",
   "metadata": {},
   "outputs": [
    {
     "name": "stdout",
     "output_type": "stream",
     "text": [
      "ford\n",
      "['mustang', '2']\n",
      "1984\n"
     ]
    }
   ],
   "source": [
    "thisdict = {\n",
    "    \"brand\" : \"ford\",\n",
    "    \"model\" : [\"mustang\", \"2\"],\n",
    "    \"year\" : 1984\n",
    "}\n",
    "\n",
    "for i in thisdict:\n",
    "    print(thisdict[i])"
   ]
  },
  {
   "cell_type": "code",
   "execution_count": 1,
   "id": "98a2b83e",
   "metadata": {},
   "outputs": [
    {
     "name": "stdout",
     "output_type": "stream",
     "text": [
      "5 is in the range \n"
     ]
    }
   ],
   "source": [
    "def test(n):\n",
    "    if n in range(3,9):\n",
    "        print(\"%s is in the range \"%str(n))\n",
    "    else:\n",
    "        print(\"The number.\")\n",
    "test(5)"
   ]
  },
  {
   "cell_type": "code",
   "execution_count": 2,
   "id": "5432a97c",
   "metadata": {},
   "outputs": [
    {
     "name": "stdout",
     "output_type": "stream",
     "text": [
      "False\n",
      "False\n"
     ]
    }
   ],
   "source": [
    "def near(n):\n",
    "    return ((abs(abs(1000-n) <= 100) and (abs(2000-n)<=100)))\n",
    "print(near(1000))\n",
    "print(near(900))  "
   ]
  },
  {
   "cell_type": "code",
   "execution_count": 3,
   "id": "0a90a7f9",
   "metadata": {},
   "outputs": [
    {
     "name": "stdout",
     "output_type": "stream",
     "text": [
      "50.0\n"
     ]
    }
   ],
   "source": [
    "def convert(fahr,kelv):\n",
    "    cels = fahr *1.8 +32.0\n",
    "    cels2 = kelv-273,15\n",
    "    return cels\n",
    "print(convert(10,32))"
   ]
  },
  {
   "cell_type": "code",
   "execution_count": 4,
   "id": "615a131c",
   "metadata": {},
   "outputs": [
    {
     "name": "stdout",
     "output_type": "stream",
     "text": [
      "[1, 8, 27, 64, 125, 216, 343, 512, 729, 1000, 1331, 1728, 2197, 2744, 3375, 4096, 4913, 5832, 6859, 8000]\n"
     ]
    }
   ],
   "source": [
    "def printV():\n",
    "    l = list()\n",
    "    for i in range(1,21):\n",
    "            l.append(i**3)\n",
    "    print(l)\n",
    "                   \n",
    "printV()"
   ]
  },
  {
   "cell_type": "code",
   "execution_count": 5,
   "id": "7fb93d27",
   "metadata": {},
   "outputs": [
    {
     "name": "stdout",
     "output_type": "stream",
     "text": [
      "Original list:\n",
      "[1, 2, 3]\n",
      "[4, 5, 6]\n",
      "\n",
      "Result: after adding two half\n",
      "[5, 7, 9]\n"
     ]
    }
   ],
   "source": [
    "nums1 = [1,2,3]\n",
    "nums2 = [4,5,6]\n",
    "print(\"Original list:\")\n",
    "print(nums1)\n",
    "print(nums2)\n",
    "result = map(lambda x,y : x+y, nums1, nums2)\n",
    "print(\"\\nResult: after adding two half\")\n",
    "print(list(result))"
   ]
  },
  {
   "cell_type": "code",
   "execution_count": 6,
   "id": "61dd402d",
   "metadata": {},
   "outputs": [
    {
     "name": "stdout",
     "output_type": "stream",
     "text": [
      "25\n",
      "48\n"
     ]
    }
   ],
   "source": [
    "r = lambda a :a +15\n",
    "print (r(10))\n",
    "r=lambda x,y :x*y\n",
    "print(r(12,4))"
   ]
  },
  {
   "cell_type": "code",
   "execution_count": 7,
   "id": "4f5412f1",
   "metadata": {},
   "outputs": [
    {
     "name": "stdout",
     "output_type": "stream",
     "text": [
      "-8\n"
     ]
    }
   ],
   "source": [
    "def smallest(list):\n",
    "    min = list[ 0 ]\n",
    "    for a in list:\n",
    "        if a < min:\n",
    "            min = a\n",
    "    return min\n",
    "print(smallest((1,2,-8,0)))"
   ]
  },
  {
   "cell_type": "code",
   "execution_count": 8,
   "id": "b2889368",
   "metadata": {},
   "outputs": [
    {
     "name": "stdout",
     "output_type": "stream",
     "text": [
      "-5\n"
     ]
    }
   ],
   "source": [
    "def sum_list(items):\n",
    "    sum_numbers = 0\n",
    "    for x in items:\n",
    "        sum_numbers += x\n",
    "    return sum_numbers\n",
    "print(sum_list((1,2,-8)))"
   ]
  },
  {
   "cell_type": "code",
   "execution_count": 9,
   "id": "bbe3ed6c",
   "metadata": {},
   "outputs": [
    {
     "name": "stdout",
     "output_type": "stream",
     "text": [
      "Python Path:  None\n"
     ]
    }
   ],
   "source": [
    "import os\n",
    "#host_name=os.environ['HOSTNAME']\n",
    "#print(\"HOSTNAME:\",host_name)\n",
    "python_path = os.environ.get('PYTHONPATH')\n",
    "print(\"Python Path: \", python_path)"
   ]
  },
  {
   "cell_type": "code",
   "execution_count": 10,
   "id": "575fb499",
   "metadata": {},
   "outputs": [
    {
     "name": "stdout",
     "output_type": "stream",
     "text": [
      "False\n",
      "True\n"
     ]
    }
   ],
   "source": [
    "def is_vowel(char):\n",
    "    all_vowels ='aiueo'\n",
    "    return  char in all_vowels\n",
    "print(is_vowel('c'))\n",
    "print(is_vowel('e'))"
   ]
  },
  {
   "cell_type": "code",
   "execution_count": 2,
   "id": "01ed496b",
   "metadata": {},
   "outputs": [
    {
     "name": "stdout",
     "output_type": "stream",
     "text": [
      "89.6\n"
     ]
    }
   ],
   "source": [
    "def convert1(fahr):\n",
    "    cels = fahr * 1.8 + 32.0\n",
    "    return cels\n",
    "print(convert1(32))"
   ]
  },
  {
   "cell_type": "code",
   "execution_count": null,
   "id": "ce0e5542",
   "metadata": {},
   "outputs": [],
   "source": [
    "import calendar\n",
    "\n",
    "year1 = int(input(\"input the year: \"))\n",
    "month1 = int(input(\"input the month: \"))\n",
    "print(calendar.month(year1,month1))"
   ]
  },
  {
   "cell_type": "code",
   "execution_count": 10,
   "id": "0c2e8bd4",
   "metadata": {},
   "outputs": [
    {
     "name": "stdout",
     "output_type": "stream",
     "text": [
      "dcba4321\n"
     ]
    }
   ],
   "source": [
    "def string_r(str1):\n",
    "    rstr=''\n",
    "    index = len(str1)\n",
    "    while index >0:\n",
    "        rstr +=str1[index-1]\n",
    "        index = index - 1\n",
    "    return rstr\n",
    "print(string_r('1234abcd'))"
   ]
  },
  {
   "cell_type": "code",
   "execution_count": 11,
   "id": "fb7fd67f",
   "metadata": {},
   "outputs": [
    {
     "name": "stdout",
     "output_type": "stream",
     "text": [
      "22.22222222222222\n"
     ]
    }
   ],
   "source": [
    "def fahr_to_c(temp):\n",
    "    return (temp -32) * (5/9)\n",
    "print(fahr_to_c(72))"
   ]
  },
  {
   "cell_type": "code",
   "execution_count": 12,
   "id": "e22afb00",
   "metadata": {},
   "outputs": [
    {
     "name": "stdout",
     "output_type": "stream",
     "text": [
      "89.6\n"
     ]
    }
   ],
   "source": [
    "def convert(fahr,kelv):\n",
    "    cels = fahr *1.8 +32.0\n",
    "    cels2 = kelv-273,15\n",
    "    return cels\n",
    "print(convert(32,20))"
   ]
  },
  {
   "cell_type": "code",
   "execution_count": 13,
   "id": "5d6bb701",
   "metadata": {},
   "outputs": [
    {
     "name": "stdout",
     "output_type": "stream",
     "text": [
      "20\n"
     ]
    }
   ],
   "source": [
    "def sum(numbers):\n",
    "    total =0\n",
    "    for x in numbers:\n",
    "        total += x\n",
    "    return total\n",
    "print(sum((8,2,3,0,7)))"
   ]
  },
  {
   "cell_type": "code",
   "execution_count": 1,
   "id": "76ea3011",
   "metadata": {},
   "outputs": [
    {
     "name": "stdout",
     "output_type": "stream",
     "text": [
      "[[[0 2 3 0]\n",
      "  [1 4 3 0]\n",
      "  [2 3 4 5]\n",
      "  [2 1 2 3]\n",
      "  [2 1 2 3]]\n",
      "\n",
      " [[1 2 3 4]\n",
      "  [1 2 3 4]\n",
      "  [1 2 3 4]\n",
      "  [1 2 3 4]\n",
      "  [2 1 2 3]]]\n"
     ]
    },
    {
     "data": {
      "text/plain": [
       "(2, 5, 4)"
      ]
     },
     "execution_count": 1,
     "metadata": {},
     "output_type": "execute_result"
    }
   ],
   "source": [
    "import numpy as np\n",
    "array_example = np.array([[[0,2,3,0],[1,4,3,0], [2,3,4,5],[2,1,2,3],[2,1,2,3]],\n",
    "                           [[1,2,3,4], [1,2,3,4], [1,2,3,4], [1,2,3,4],[2,1,2,3]]])\n",
    "\n",
    "print(array_example)\n",
    "array_example.shape"
   ]
  },
  {
   "cell_type": "code",
   "execution_count": 2,
   "id": "3aa93a14",
   "metadata": {},
   "outputs": [
    {
     "name": "stdout",
     "output_type": "stream",
     "text": [
      "[1 2 3 4 5 6]\n"
     ]
    },
    {
     "data": {
      "text/plain": [
       "(6,)"
      ]
     },
     "execution_count": 2,
     "metadata": {},
     "output_type": "execute_result"
    }
   ],
   "source": [
    "import numpy as np\n",
    "\n",
    "a = np.array([1,2,3,4,5,6])\n",
    "\n",
    "print(a)\n",
    "a.shape"
   ]
  },
  {
   "cell_type": "code",
   "execution_count": 2,
   "id": "28973554",
   "metadata": {},
   "outputs": [
    {
     "name": "stdout",
     "output_type": "stream",
     "text": [
      "Masukkan definisi: kamuapa\n",
      "Anda terkoneksi\n",
      "Masukkan angka: 23\n",
      "Masukkan angka: 43\n",
      "Nilainya  989\n"
     ]
    }
   ],
   "source": [
    "a = str(input(\"Masukkan definisi: \" )).upper()\n",
    "\n",
    "if a == \"KAMUAPA\":\n",
    "    print(\"Anda terkoneksi\")\n",
    "    b = int(input(\"Masukkan angka: \" ))\n",
    "    r = int(input(\"Masukkan angka: \" ))\n",
    "    i = b*r\n",
    "    print(\"Nilainya \", i)"
   ]
  },
  {
   "cell_type": "code",
   "execution_count": 5,
   "id": "d417a346",
   "metadata": {},
   "outputs": [],
   "source": [
    "import numpy as np\n"
   ]
  },
  {
   "cell_type": "code",
   "execution_count": 6,
   "id": "801160a5",
   "metadata": {},
   "outputs": [
    {
     "name": "stdout",
     "output_type": "stream",
     "text": [
      "[[ 6  7  8  9 10]\n",
      " [ 1  2  3  4  5]]\n",
      "2\n"
     ]
    }
   ],
   "source": [
    "arr = np.array([[6,7,8,9,10],[1,2,3,4,5]])\n",
    "print(arr)\n",
    "print(arr[1,1])"
   ]
  },
  {
   "cell_type": "code",
   "execution_count": 7,
   "id": "15d6d441",
   "metadata": {},
   "outputs": [
    {
     "name": "stdout",
     "output_type": "stream",
     "text": [
      "[[[ 1  2  3]\n",
      "  [ 4  5  6]]\n",
      "\n",
      " [[ 7  8  9]\n",
      "  [10 11 12]]]\n",
      "3\n"
     ]
    }
   ],
   "source": [
    "arr = np.array([[[1,2,3], [4,5,6]], [[7,8,9], [10,11,12]]])\n",
    "print(arr)\n",
    "print(arr[0,0,2])"
   ]
  },
  {
   "cell_type": "code",
   "execution_count": 8,
   "id": "51ef2687",
   "metadata": {},
   "outputs": [
    {
     "name": "stdout",
     "output_type": "stream",
     "text": [
      "[[[[ 3  7 10  2]]]]\n",
      "number of dimension : 4\n"
     ]
    }
   ],
   "source": [
    "array_tes = np.array([3,7,10,2], ndmin=4)\n",
    "print(array_tes)\n",
    "print(\"number of dimension :\", array_tes.ndim)"
   ]
  },
  {
   "cell_type": "code",
   "execution_count": 9,
   "id": "b62a2c8b",
   "metadata": {},
   "outputs": [
    {
     "name": "stdout",
     "output_type": "stream",
     "text": [
      "5\n"
     ]
    }
   ],
   "source": [
    "arr = np.array([[6,7,8,9,10],[1,2,3,4,5]])\n",
    "print(arr[1,-1])"
   ]
  },
  {
   "cell_type": "code",
   "execution_count": 10,
   "id": "3b0c0480",
   "metadata": {},
   "outputs": [
    {
     "name": "stdout",
     "output_type": "stream",
     "text": [
      "[5]\n"
     ]
    }
   ],
   "source": [
    "arr = np.array([4,5,6,7,1,2,3])\n",
    "print(arr[1:5:4])"
   ]
  },
  {
   "cell_type": "code",
   "execution_count": 11,
   "id": "c7333f9b",
   "metadata": {},
   "outputs": [
    {
     "name": "stdout",
     "output_type": "stream",
     "text": [
      "[1 2]\n"
     ]
    }
   ],
   "source": [
    "arr = np.array([4,5,6,7,1,2,3])\n",
    "print(arr[-3:-1])"
   ]
  },
  {
   "cell_type": "code",
   "execution_count": 12,
   "id": "12cc248e",
   "metadata": {},
   "outputs": [
    {
     "name": "stdout",
     "output_type": "stream",
     "text": [
      "[6 1 3]\n",
      "[4 7 3]\n"
     ]
    }
   ],
   "source": [
    "arr = np.array([4,5,6,7,1,2,3])\n",
    "print(arr[2::2])\n",
    "print(arr[::3])"
   ]
  },
  {
   "cell_type": "code",
   "execution_count": 13,
   "id": "24df4f6f",
   "metadata": {},
   "outputs": [
    {
     "name": "stdout",
     "output_type": "stream",
     "text": [
      "[[ 3  4  5]\n",
      " [ 8  9 10]]\n"
     ]
    }
   ],
   "source": [
    "arr = np.array([[1,2,3,4,5], [6,7,8,9,10]])\n",
    "print(arr[0:12,2:])"
   ]
  },
  {
   "cell_type": "code",
   "execution_count": 14,
   "id": "f2dd0b72",
   "metadata": {},
   "outputs": [
    {
     "name": "stdout",
     "output_type": "stream",
     "text": [
      "[1 2 3]\n",
      "int32\n"
     ]
    }
   ],
   "source": [
    "arr = np.array([1.1, 2.1, 3.1])\n",
    "newarr = arr.astype('i')\n",
    "print(newarr)\n",
    "print(newarr.dtype)"
   ]
  },
  {
   "cell_type": "code",
   "execution_count": 15,
   "id": "deb28694",
   "metadata": {},
   "outputs": [
    {
     "name": "stdout",
     "output_type": "stream",
     "text": [
      "<U7\n"
     ]
    }
   ],
   "source": [
    "arr = np.array(['Kenshin', 'Himura','Tono'])\n",
    "print(arr.dtype)"
   ]
  },
  {
   "cell_type": "code",
   "execution_count": 16,
   "id": "9b1b31f2",
   "metadata": {},
   "outputs": [
    {
     "name": "stdout",
     "output_type": "stream",
     "text": [
      "[[2 3 4]\n",
      " [7 8 9]]\n"
     ]
    }
   ],
   "source": [
    "arr = np.array([[1,2,3,4,5], [6,7,8,9,10]])\n",
    "print(arr[0:9, 1:4])"
   ]
  },
  {
   "cell_type": "code",
   "execution_count": 17,
   "id": "ec58579a",
   "metadata": {},
   "outputs": [
    {
     "name": "stdout",
     "output_type": "stream",
     "text": [
      "|S1\n"
     ]
    }
   ],
   "source": [
    "arr =np.array(['a','2','3'], dtype='S')\n",
    "print(arr.dtype)"
   ]
  },
  {
   "cell_type": "code",
   "execution_count": 18,
   "id": "cae92561",
   "metadata": {},
   "outputs": [
    {
     "name": "stdout",
     "output_type": "stream",
     "text": [
      "210\n"
     ]
    }
   ],
   "source": [
    "a = 210\n",
    "b = 30\n",
    "if a >b: print(a)"
   ]
  },
  {
   "cell_type": "code",
   "execution_count": 19,
   "id": "c989e300",
   "metadata": {},
   "outputs": [
    {
     "name": "stdout",
     "output_type": "stream",
     "text": [
      "A\n"
     ]
    }
   ],
   "source": [
    "a = 210\n",
    "b = 30\n",
    "print(\"A\") if a > b else print(\"=\") if a == b else print(\"b\")"
   ]
  },
  {
   "cell_type": "code",
   "execution_count": 21,
   "id": "5f776125",
   "metadata": {},
   "outputs": [
    {
     "name": "stdout",
     "output_type": "stream",
     "text": [
      "Both conditions true\n"
     ]
    }
   ],
   "source": [
    "a = 210\n",
    "b = 30\n",
    "c = 500\n",
    "if a >b and c > a:\n",
    "    print(\"Both conditions true\")"
   ]
  },
  {
   "cell_type": "code",
   "execution_count": 1,
   "id": "e435525c",
   "metadata": {},
   "outputs": [
    {
     "name": "stdout",
     "output_type": "stream",
     "text": [
      "1\n",
      "2\n",
      "3\n"
     ]
    }
   ],
   "source": [
    "i = 1\n",
    "while i <6:\n",
    "    print(i)\n",
    "    if i == 3:\n",
    "        break\n",
    "    i += 1   \n",
    "        \n",
    "        "
   ]
  },
  {
   "cell_type": "code",
   "execution_count": 2,
   "id": "590bb6b7",
   "metadata": {},
   "outputs": [
    {
     "name": "stdout",
     "output_type": "stream",
     "text": [
      "1\n",
      "2\n",
      "4\n",
      "5\n",
      "6\n"
     ]
    }
   ],
   "source": [
    "i = 0\n",
    "while i < 6:\n",
    "    i += 1\n",
    "    if i == 3:\n",
    "        continue\n",
    "    print(i)    "
   ]
  },
  {
   "cell_type": "code",
   "execution_count": 10,
   "id": "e4fd0472",
   "metadata": {},
   "outputs": [
    {
     "name": "stdout",
     "output_type": "stream",
     "text": [
      "Apple\n",
      "Apple\n",
      "Banana\n",
      "Banana\n",
      "Kita\n",
      "Kita\n"
     ]
    }
   ],
   "source": [
    "#SAMA AJA ATAS BAWAH\n",
    "\n",
    "fruits = [\"Apple\", \"Banana\", \"Kita\"]\n",
    "for x in fruits:\n",
    "    print(x)\n",
    "    if x == \"banana\":\n",
    "        break\n",
    "    print(x)        "
   ]
  },
  {
   "cell_type": "code",
   "execution_count": 11,
   "id": "0e541f32",
   "metadata": {},
   "outputs": [
    {
     "name": "stdout",
     "output_type": "stream",
     "text": [
      "ford\n",
      "mustang\n",
      "1984\n"
     ]
    }
   ],
   "source": [
    "thisdict = {\n",
    "    \"brand\" : \"ford\",\n",
    "    \"model\" : \"mustang\",\n",
    "    \"year\" : 1984\n",
    "}\n",
    "\n",
    "for i in thisdict:\n",
    "    print(thisdict[i])"
   ]
  },
  {
   "cell_type": "code",
   "execution_count": 18,
   "id": "d3cee230",
   "metadata": {},
   "outputs": [
    {
     "name": "stdout",
     "output_type": "stream",
     "text": [
      "3\n",
      "dict_items([('brand', 'ford'), ('model', 'mustang'), ('year', 2000)])\n"
     ]
    }
   ],
   "source": [
    "thisdict = {\n",
    "    \"brand\" : \"ford\",\n",
    "    \"model\" : \"mustang\",\n",
    "    \"year\" : 1984\n",
    "}\n",
    "\n",
    "x = thisdict.items()\n",
    "print(len(x))\n",
    "\n",
    "thisdict[\"year\"] = 2000\n",
    "print(x)"
   ]
  },
  {
   "cell_type": "code",
   "execution_count": null,
   "id": "e2fa5cda",
   "metadata": {},
   "outputs": [],
   "source": []
  }
 ],
 "metadata": {
  "kernelspec": {
   "display_name": "Python 3",
   "language": "python",
   "name": "python3"
  },
  "language_info": {
   "codemirror_mode": {
    "name": "ipython",
    "version": 3
   },
   "file_extension": ".py",
   "mimetype": "text/x-python",
   "name": "python",
   "nbconvert_exporter": "python",
   "pygments_lexer": "ipython3",
   "version": "3.8.8"
  }
 },
 "nbformat": 4,
 "nbformat_minor": 5
}
