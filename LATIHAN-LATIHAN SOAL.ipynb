{
 "cells": [
  {
   "cell_type": "code",
   "execution_count": 3,
   "id": "0d9dff83",
   "metadata": {},
   "outputs": [
    {
     "data": {
      "text/plain": [
       "['foo', 'Joko', 'Dada', 'baz', 'kuz', 'nex']"
      ]
     },
     "execution_count": 3,
     "metadata": {},
     "output_type": "execute_result"
    }
   ],
   "source": [
    "thislist =['foo', 'bar', 'baz','kuz','nex']\n",
    "thislist[1:2]= ['Joko', 'Dada']\n",
    "thislist"
   ]
  },
  {
   "cell_type": "code",
   "execution_count": 10,
   "id": "6d8c719f",
   "metadata": {},
   "outputs": [],
   "source": [
    "def convert_f_to_c(f):\n",
    "    c = float(f-32) *5 /9\n",
    "    return\n",
    "def convert_f_to_k(f):\n",
    "    k = (float(f-32)*5/9)+273\n",
    "    return\n",
    "\n",
    "\n",
    "convert_f_to_c(100)\n",
    "convert_f_to_k(100)\n"
   ]
  },
  {
   "cell_type": "code",
   "execution_count": 42,
   "id": "05fd9602",
   "metadata": {},
   "outputs": [
    {
     "ename": "SyntaxError",
     "evalue": "invalid syntax (<ipython-input-42-0e44894f250c>, line 1)",
     "output_type": "error",
     "traceback": [
      "\u001b[1;36m  File \u001b[1;32m\"<ipython-input-42-0e44894f250c>\"\u001b[1;36m, line \u001b[1;32m1\u001b[0m\n\u001b[1;33m    9Myname=\"Budi\"\u001b[0m\n\u001b[1;37m     ^\u001b[0m\n\u001b[1;31mSyntaxError\u001b[0m\u001b[1;31m:\u001b[0m invalid syntax\n"
     ]
    }
   ],
   "source": [
    "9Myname=\"Budi\"\n",
    "print(9Myname)"
   ]
  },
  {
   "cell_type": "code",
   "execution_count": 20,
   "id": "7ac3475f",
   "metadata": {},
   "outputs": [
    {
     "name": "stdout",
     "output_type": "stream",
     "text": [
      "['aku', 'kamu', 'dia', 'anda']\n"
     ]
    }
   ],
   "source": [
    "thislist=[\"aku\", \"kamu\",\"saya\",\"dia\", \"anda\"]\n",
    "thislist.pop(2)\n",
    "print(thislist)"
   ]
  },
  {
   "cell_type": "code",
   "execution_count": 21,
   "id": "cffb8bd3",
   "metadata": {},
   "outputs": [
    {
     "name": "stdout",
     "output_type": "stream",
     "text": [
      "['aku', 'kamu', 'dia', 'anda']\n"
     ]
    }
   ],
   "source": [
    "y=list(thislist)\n",
    "print(thislist)"
   ]
  },
  {
   "cell_type": "code",
   "execution_count": 23,
   "id": "1c05849e",
   "metadata": {},
   "outputs": [],
   "source": [
    "y.append('Pesawat')\n",
    "thislist= tuple(y)"
   ]
  },
  {
   "cell_type": "code",
   "execution_count": 33,
   "id": "13647b7c",
   "metadata": {},
   "outputs": [
    {
     "name": "stdout",
     "output_type": "stream",
     "text": [
      "['aku', 'kamu', 'saya', 'dia', 'anda']\n",
      "['aku', 'kamu', 'saya', 'dia', 'anda']\n",
      "('aku', 'kamu', 'saya', 'dia', 'anda', 'Pesawat')\n"
     ]
    }
   ],
   "source": [
    "thislist=[\"aku\", \"kamu\",\"saya\",\"dia\", \"anda\"]\n",
    "y=list(thislist)\n",
    "print(thislist)\n",
    "y.append('Pesawat')\n",
    "print(thislist)\n",
    "thislist= tuple(y)\n",
    "print(thislist)"
   ]
  },
  {
   "cell_type": "code",
   "execution_count": 27,
   "id": "74a31ad8",
   "metadata": {},
   "outputs": [
    {
     "name": "stdout",
     "output_type": "stream",
     "text": [
      "('aku', 'kamu', 'saya', 'dia', 'anda', 'P', 'e', 's', 'a', 'w', 'a', 't')\n"
     ]
    }
   ],
   "source": [
    "thislist=[\"aku\", \"kamu\",\"saya\",\"dia\", \"anda\"]\n",
    "y=list(thislist)\n",
    "y.extend('Pesawat')\n",
    "thislist= tuple(y)\n",
    "print(thislist)"
   ]
  },
  {
   "cell_type": "code",
   "execution_count": 31,
   "id": "7343a0c2",
   "metadata": {},
   "outputs": [
    {
     "name": "stdout",
     "output_type": "stream",
     "text": [
      "['aku', 'kamu', 'saya', 'dia', 'anda', ['sepeda', 'mobil']]\n"
     ]
    }
   ],
   "source": [
    "thislist=[\"aku\", \"kamu\",\"saya\",\"dia\", \"anda\"]\n",
    "thislist2=[\"sepeda\", \"mobil\"]\n",
    "thislist.append(thislist2)\n",
    "print(thislist)"
   ]
  },
  {
   "cell_type": "code",
   "execution_count": 34,
   "id": "6f0a0c2e",
   "metadata": {},
   "outputs": [
    {
     "name": "stdout",
     "output_type": "stream",
     "text": [
      "{'model': 'mustang', 'year': 1984}\n"
     ]
    }
   ],
   "source": [
    "thisdict = {\n",
    "    \"brand\" : \"ford\",\n",
    "    \"model\" : \"mustang\",\n",
    "    \"year\" : 1984\n",
    "}\n",
    "\n",
    "thisdict.pop(\"brand\")\n",
    "print(thisdict)"
   ]
  },
  {
   "cell_type": "code",
   "execution_count": 36,
   "id": "a9dfe234",
   "metadata": {},
   "outputs": [
    {
     "ename": "SyntaxError",
     "evalue": "cannot assign to function call (<ipython-input-36-40723a49da49>, line 7)",
     "output_type": "error",
     "traceback": [
      "\u001b[1;36m  File \u001b[1;32m\"<ipython-input-36-40723a49da49>\"\u001b[1;36m, line \u001b[1;32m7\u001b[0m\n\u001b[1;33m    thisdict(\"year\") = 2018\u001b[0m\n\u001b[1;37m    ^\u001b[0m\n\u001b[1;31mSyntaxError\u001b[0m\u001b[1;31m:\u001b[0m cannot assign to function call\n"
     ]
    }
   ],
   "source": [
    "thisdict = {\n",
    "    \"brand\" : \"ford\",\n",
    "    \"model\" : \"mustang\",\n",
    "    \"year\" : 1984\n",
    "}\n",
    "\n",
    "thisdict(\"year\") = 2018"
   ]
  },
  {
   "cell_type": "code",
   "execution_count": 62,
   "id": "d85c2bac",
   "metadata": {},
   "outputs": [
    {
     "name": "stdout",
     "output_type": "stream",
     "text": [
      "['farand', 'austen', 'mahesa']\n"
     ]
    },
    {
     "ename": "TypeError",
     "evalue": "can only concatenate list (not \"str\") to list",
     "output_type": "error",
     "traceback": [
      "\u001b[1;31m---------------------------------------------------------------------------\u001b[0m",
      "\u001b[1;31mTypeError\u001b[0m                                 Traceback (most recent call last)",
      "\u001b[1;32m<ipython-input-62-7a8385d99c21>\u001b[0m in \u001b[0;36m<module>\u001b[1;34m\u001b[0m\n\u001b[0;32m      5\u001b[0m \u001b[1;33m\u001b[0m\u001b[0m\n\u001b[0;32m      6\u001b[0m \u001b[1;32mif\u001b[0m \u001b[0mlen\u001b[0m\u001b[1;33m(\u001b[0m\u001b[0mw\u001b[0m\u001b[1;33m)\u001b[0m \u001b[1;33m%\u001b[0m \u001b[1;36m2\u001b[0m\u001b[1;33m:\u001b[0m\u001b[1;33m\u001b[0m\u001b[1;33m\u001b[0m\u001b[0m\n\u001b[1;32m----> 7\u001b[1;33m     \u001b[0mprint\u001b[0m\u001b[1;33m(\u001b[0m\u001b[0mw\u001b[0m \u001b[1;33m+\u001b[0m \u001b[1;34m\"#\"\u001b[0m\u001b[1;33m)\u001b[0m\u001b[1;33m\u001b[0m\u001b[1;33m\u001b[0m\u001b[0m\n\u001b[0m",
      "\u001b[1;31mTypeError\u001b[0m: can only concatenate list (not \"str\") to list"
     ]
    }
   ],
   "source": [
    "thisdict=\"farand austen mahesa\"\n",
    "\n",
    "w = thisdict.split()\n",
    "print(w)\n",
    "\n",
    "if len(w) % 2:\n",
    "    print(w + \"#\")"
   ]
  },
  {
   "cell_type": "code",
   "execution_count": 69,
   "id": "8ad25546",
   "metadata": {},
   "outputs": [
    {
     "name": "stdout",
     "output_type": "stream",
     "text": [
      "1\n",
      "2\n",
      "3\n"
     ]
    }
   ],
   "source": [
    "i =1\n",
    "while i < 6:\n",
    "    print(i)\n",
    "    if i == 3:\n",
    "        break\n",
    "    i+=1"
   ]
  },
  {
   "cell_type": "code",
   "execution_count": 76,
   "id": "f541ab7b",
   "metadata": {},
   "outputs": [
    {
     "name": "stdout",
     "output_type": "stream",
     "text": [
      "1\n",
      "2\n",
      "4\n",
      "5\n",
      "6\n"
     ]
    }
   ],
   "source": [
    "i = 0\n",
    "while i < 6:\n",
    "    i+=1\n",
    "    if i == 3:\n",
    "        continue\n",
    "    print(i)"
   ]
  },
  {
   "cell_type": "code",
   "execution_count": 86,
   "id": "0ef213af",
   "metadata": {},
   "outputs": [
    {
     "name": "stdout",
     "output_type": "stream",
     "text": [
      "dict_keys(['brand', 'model', 'year'])\n"
     ]
    }
   ],
   "source": [
    "thisdict = {\n",
    "    \"brand\" : \"ford\",\n",
    "    \"model\" : \"mustang\",\n",
    "    \"year\" : 1984\n",
    "}\n",
    "\n",
    "x = thisdict.keys()\n",
    "print(x)"
   ]
  },
  {
   "cell_type": "code",
   "execution_count": 94,
   "id": "083e54e7",
   "metadata": {},
   "outputs": [
    {
     "name": "stdout",
     "output_type": "stream",
     "text": [
      "('year', 1984)\n"
     ]
    }
   ],
   "source": [
    "thisdict = {\n",
    "    \"brand\" : \"ford\",\n",
    "    \"model\" : \"mustang\",\n",
    "    \"year\" : 1984\n",
    "}\n",
    "\n",
    "x = thisdict.popitem()\n",
    "print(x)"
   ]
  },
  {
   "cell_type": "code",
   "execution_count": 102,
   "id": "4e39c752",
   "metadata": {},
   "outputs": [
    {
     "name": "stdout",
     "output_type": "stream",
     "text": [
      "{'model': 'mustang', 'year': 1984}\n"
     ]
    }
   ],
   "source": [
    "thisdict = {\n",
    "    \"brand\" : \"ford\",\n",
    "    \"model\" : \"mustang\",\n",
    "    \"year\" : 1984\n",
    "}\n",
    "\n",
    "del thisdict[\"brand\"]\n",
    "print(thisdict)"
   ]
  },
  {
   "cell_type": "code",
   "execution_count": 99,
   "id": "569f6852",
   "metadata": {},
   "outputs": [
    {
     "name": "stdout",
     "output_type": "stream",
     "text": [
      "{}\n"
     ]
    }
   ],
   "source": [
    "thisdict = {\n",
    "    \"brand\" : \"ford\",\n",
    "    \"model\" : \"mustang\",\n",
    "    \"year\" : 1984\n",
    "}\n",
    "\n",
    "thisdict.clear()\n",
    "print(thisdict)"
   ]
  },
  {
   "cell_type": "code",
   "execution_count": 104,
   "id": "c6fa4d4b",
   "metadata": {},
   "outputs": [
    {
     "name": "stdout",
     "output_type": "stream",
     "text": [
      "ford\n",
      "['mustang', '2']\n",
      "1984\n"
     ]
    }
   ],
   "source": [
    "thisdict = {\n",
    "    \"brand\" : \"ford\",\n",
    "    \"model\" : [\"mustang\", \"2\"],\n",
    "    \"year\" : 1984\n",
    "}\n",
    "\n",
    "for i in thisdict:\n",
    "    print(thisdict[i])"
   ]
  },
  {
   "cell_type": "code",
   "execution_count": null,
   "id": "98a2b83e",
   "metadata": {},
   "outputs": [],
   "source": []
  }
 ],
 "metadata": {
  "kernelspec": {
   "display_name": "Python 3",
   "language": "python",
   "name": "python3"
  },
  "language_info": {
   "codemirror_mode": {
    "name": "ipython",
    "version": 3
   },
   "file_extension": ".py",
   "mimetype": "text/x-python",
   "name": "python",
   "nbconvert_exporter": "python",
   "pygments_lexer": "ipython3",
   "version": "3.8.8"
  }
 },
 "nbformat": 4,
 "nbformat_minor": 5
}
