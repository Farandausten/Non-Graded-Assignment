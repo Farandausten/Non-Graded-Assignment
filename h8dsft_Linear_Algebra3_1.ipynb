{
 "cells": [
  {
   "cell_type": "code",
   "execution_count": 74,
   "id": "63b09b91",
   "metadata": {},
   "outputs": [],
   "source": [
    "import numpy as np\n",
    "import sympy as sy\n",
    "import matplotlib.pyplot as plt\n",
    "%matplotlib inline\n"
   ]
  },
  {
   "cell_type": "markdown",
   "id": "bd8f651b",
   "metadata": {},
   "source": [
    "APAKAH [1, 3] ADALAH BAGIAN DARI [1, -1],[6,-4]"
   ]
  },
  {
   "cell_type": "code",
   "execution_count": 75,
   "id": "18d1f7f3",
   "metadata": {},
   "outputs": [],
   "source": [
    "def plotVectors(vecs, cols, alpha=1):\n",
    "    plt.axvline(x=0, color='#A9A9A9', zorder=0)\n",
    "    plt.axhline(y=0, color='#A9A9A9', zorder=0)\n",
    "\n",
    "    for i in range(len(vecs)):\n",
    "        if (isinstance(alpha, list)):\n",
    "            alpha_i = alpha[i]\n",
    "        else:\n",
    "            alpha_i = alpha\n",
    "        x = np.concatenate([[0,0],vecs[i]])\n",
    "        plt.quiver([x[0]],\n",
    "                   [x[1]],\n",
    "                   [x[2]],\n",
    "                   [x[3]],\n",
    "                   angles='xy', scale_units='xy', scale=1, color=cols[i],\n",
    "                  alpha=alpha_i)"
   ]
  },
  {
   "cell_type": "code",
   "execution_count": 78,
   "id": "fc3b82d5",
   "metadata": {},
   "outputs": [],
   "source": [
    "a = np.array([[1, -1], [6,4]]) "
   ]
  },
  {
   "cell_type": "code",
   "execution_count": 79,
   "id": "fa49de77",
   "metadata": {},
   "outputs": [],
   "source": [
    "b = np.array([1,3])"
   ]
  },
  {
   "cell_type": "code",
   "execution_count": 80,
   "id": "be1869a4",
   "metadata": {},
   "outputs": [
    {
     "data": {
      "text/plain": [
       "array([[ 1, -1],\n",
       "       [ 6,  4]])"
      ]
     },
     "execution_count": 80,
     "metadata": {},
     "output_type": "execute_result"
    }
   ],
   "source": [
    "a"
   ]
  },
  {
   "cell_type": "code",
   "execution_count": 81,
   "id": "3e77be9f",
   "metadata": {},
   "outputs": [
    {
     "data": {
      "text/plain": [
       "array([1, 3])"
      ]
     },
     "execution_count": 81,
     "metadata": {},
     "output_type": "execute_result"
    }
   ],
   "source": [
    "b"
   ]
  },
  {
   "cell_type": "code",
   "execution_count": 82,
   "id": "c9e1587b",
   "metadata": {},
   "outputs": [],
   "source": [
    "c = a.dot(b)"
   ]
  },
  {
   "cell_type": "code",
   "execution_count": 83,
   "id": "78c55f2c",
   "metadata": {},
   "outputs": [
    {
     "data": {
      "text/plain": [
       "array([-2, 18])"
      ]
     },
     "execution_count": 83,
     "metadata": {},
     "output_type": "execute_result"
    }
   ],
   "source": [
    "c"
   ]
  },
  {
   "cell_type": "code",
   "execution_count": 84,
   "id": "7c9f92e8",
   "metadata": {},
   "outputs": [],
   "source": [
    "c = a.dot(b)"
   ]
  },
  {
   "cell_type": "code",
   "execution_count": 88,
   "id": "25d67d2e",
   "metadata": {},
   "outputs": [
    {
     "name": "stdout",
     "output_type": "stream",
     "text": [
      "[[ 1 -1]\n",
      " [ 6  4]]\n"
     ]
    },
    {
     "data": {
      "text/plain": [
       "(-1.0, 4.0)"
      ]
     },
     "execution_count": 88,
     "metadata": {},
     "output_type": "execute_result"
    },
    {
     "data": {
      "image/png": "[encoded data removed]",
      "text/plain": [
       "<Figure size 432x288 with 1 Axes>"
      ]
     },
     "metadata": {
      "needs_background": "light"
     },
     "output_type": "display_data"
    }
   ],
   "source": [
    "c = a.dot(b)\n",
    "print(a)\n",
    "plotVectors([b.flatten(), c.flatten()], cols=['#1190FF', '#FF9A13'])\n",
    "plt.ylim(-1, 4)\n",
    "plt.xlim(-1, 4)"
   ]
  },
  {
   "cell_type": "code",
   "execution_count": 89,
   "id": "2e2ecfe8",
   "metadata": {},
   "outputs": [
    {
     "data": {
      "text/plain": [
       "(-1.0, 7.0)"
      ]
     },
     "execution_count": 89,
     "metadata": {},
     "output_type": "execute_result"
    },
    {
     "data": {
      "image/png": "[encoded data removed]",
      "text/plain": [
       "<Figure size 432x288 with 1 Axes>"
      ]
     },
     "metadata": {
      "needs_background": "light"
     },
     "output_type": "display_data"
    }
   ],
   "source": [
    "c = a.dot(b)\n",
    "\n",
    "orange = '#FF9A13'\n",
    "blue = '#1190FF'\n",
    "\n",
    "plotVectors([c.flatten(), b.flatten()], cols=[blue, orange])\n",
    "plt.ylim(-1, 7)\n",
    "plt.xlim(-1, 7)"
   ]
  },
  {
   "cell_type": "code",
   "execution_count": 22,
   "id": "14d15563",
   "metadata": {},
   "outputs": [],
   "source": [
    "Eigenn, lambdaa = np.linalg.eig(a) "
   ]
  },
  {
   "cell_type": "code",
   "execution_count": 23,
   "id": "85627ace",
   "metadata": {},
   "outputs": [
    {
     "data": {
      "text/plain": [
       "array([2.5+1.93649167j, 2.5-1.93649167j])"
      ]
     },
     "execution_count": 23,
     "metadata": {},
     "output_type": "execute_result"
    }
   ],
   "source": [
    "Eigenn"
   ]
  },
  {
   "cell_type": "code",
   "execution_count": 65,
   "id": "20fbf248",
   "metadata": {},
   "outputs": [
    {
     "data": {
      "text/plain": [
       "array([[-0.23145502+0.29880715j, -0.23145502-0.29880715j],\n",
       "       [ 0.9258201 +0.j        ,  0.9258201 -0.j        ]])"
      ]
     },
     "execution_count": 65,
     "metadata": {},
     "output_type": "execute_result"
    }
   ],
   "source": [
    "lambdaa"
   ]
  },
  {
   "cell_type": "markdown",
   "id": "ff7963fd",
   "metadata": {},
   "source": [
    "# JADI [1, 3] TIDAK TERMASUK DARI EIGENVECTOR DARI ARRAY"
   ]
  },
  {
   "cell_type": "markdown",
   "id": "3547985f",
   "metadata": {},
   "source": [
    "Eigen valuesnya adalah [-0.2 , -0.2, 0.9, 0.9)"
   ]
  },
  {
   "cell_type": "code",
   "execution_count": null,
   "id": "e6c501df",
   "metadata": {},
   "outputs": [],
   "source": [
    "."
   ]
  },
  {
   "cell_type": "code",
   "execution_count": null,
   "id": "2eb6f5e8",
   "metadata": {},
   "outputs": [],
   "source": [
    "."
   ]
  },
  {
   "cell_type": "markdown",
   "id": "6a31a59a",
   "metadata": {},
   "source": [
    "# MENGGABUNGKAN VEKTOR EIGEN DAN LAMDA(NILAI EIGEN)"
   ]
  },
  {
   "cell_type": "code",
   "execution_count": 57,
   "id": "dceca1cd",
   "metadata": {},
   "outputs": [],
   "source": [
    "diagonal = np.diag(Eigenn)"
   ]
  },
  {
   "cell_type": "code",
   "execution_count": 58,
   "id": "e41cc024",
   "metadata": {},
   "outputs": [
    {
     "data": {
      "text/plain": [
       "array([[2.5+1.93649167j, 0. +0.j        ],\n",
       "       [0. +0.j        , 2.5-1.93649167j]])"
      ]
     },
     "execution_count": 58,
     "metadata": {},
     "output_type": "execute_result"
    }
   ],
   "source": [
    "diagonal"
   ]
  },
  {
   "cell_type": "code",
   "execution_count": 59,
   "id": "b0d86cc7",
   "metadata": {},
   "outputs": [],
   "source": [
    "A_inv = np.linalg.inv(a)"
   ]
  },
  {
   "cell_type": "code",
   "execution_count": 60,
   "id": "f275c3e9",
   "metadata": {},
   "outputs": [
    {
     "data": {
      "text/plain": [
       "array([[ 0.4,  0.1],\n",
       "       [-0.6,  0.1]])"
      ]
     },
     "execution_count": 60,
     "metadata": {},
     "output_type": "execute_result"
    }
   ],
   "source": [
    "A_inv"
   ]
  },
  {
   "cell_type": "code",
   "execution_count": 63,
   "id": "0b2372f0",
   "metadata": {},
   "outputs": [],
   "source": [
    "Rescaling = a.dot(diagonal).dot(A_inv)"
   ]
  },
  {
   "cell_type": "code",
   "execution_count": 64,
   "id": "c9106205",
   "metadata": {},
   "outputs": [
    {
     "data": {
      "text/plain": [
       "array([[ 2.50000000e+00-0.38729833j, -2.49800181e-17+0.38729833j],\n",
       "       [ 1.77635684e-16+9.29516003j,  2.50000000e+00+0.38729833j]])"
      ]
     },
     "execution_count": 64,
     "metadata": {},
     "output_type": "execute_result"
    }
   ],
   "source": [
    "Rescaling"
   ]
  },
  {
   "cell_type": "code",
   "execution_count": null,
   "id": "c289de07",
   "metadata": {},
   "outputs": [],
   "source": []
  }
 ],
 "metadata": {
  "kernelspec": {
   "display_name": "Python 3",
   "language": "python",
   "name": "python3"
  },
  "language_info": {
   "codemirror_mode": {
    "name": "ipython",
    "version": 3
   },
   "file_extension": ".py",
   "mimetype": "text/x-python",
   "name": "python",
   "nbconvert_exporter": "python",
   "pygments_lexer": "ipython3",
   "version": "3.8.8"
  }
 },
 "nbformat": 4,
 "nbformat_minor": 5
}
