{
 "cells": [
  {
   "cell_type": "code",
   "execution_count": 23,
   "id": "38b93852",
   "metadata": {},
   "outputs": [
    {
     "name": "stdout",
     "output_type": "stream",
     "text": [
      "0.0\n",
      "310.77777777777777\n",
      "212.0\n",
      "373.0\n",
      "-279.4\n",
      "-173.0\n"
     ]
    }
   ],
   "source": [
    "def convert_f_to_c(f):\n",
    "    c = float(f-32) *5 /9\n",
    "    print(c)\n",
    "    return\n",
    "\n",
    "def convert_f_to_k(f):\n",
    "    k = (float(f-32)*5/9)+273\n",
    "    print(k)\n",
    "    return\n",
    "\n",
    "def convert_c_to_f(c):\n",
    "    f = (float(c)*9/5 +32)\n",
    "    print(f)\n",
    "    return\n",
    "\n",
    "def convert_c_to_k(c):\n",
    "    k = float(c+273)\n",
    "    print(k)\n",
    "    return\n",
    "\n",
    "def convert_k_to_f(k):\n",
    "    f = (float(k-273)*9/5)+32\n",
    "    print(f)\n",
    "    return\n",
    "\n",
    "def convert_k_to_c(k):\n",
    "    c = float(k-273)\n",
    "    print(c)\n",
    "    return\n",
    "\n",
    "convert_f_to_c(32);\n",
    "convert_f_to_k(100);\n",
    "convert_c_to_f(100);\n",
    "convert_c_to_k(100);\n",
    "convert_k_to_f(100);\n",
    "convert_k_to_c(100);"
   ]
  },
  {
   "cell_type": "code",
   "execution_count": 24,
   "id": "ae5adb0e",
   "metadata": {},
   "outputs": [
    {
     "name": "stdout",
     "output_type": "stream",
     "text": [
      "0.0 273.0\n",
      "212.0 373.0\n",
      "-279.4 -173.0\n"
     ]
    }
   ],
   "source": [
    "#Untuk mengubah konversi dari fahrenheit ke celsius dan kelvin\n",
    "def convert_f_to_c(f):\n",
    "    c = float(f-32) *5 /9\n",
    "    k = (float(f-32)*5/9)+273\n",
    "    print(c, k)\n",
    "    return\n",
    "\n",
    "#Untuk mengubah konversi dari celsius ke kelvin dan fahrenheit\n",
    "def convert_c_to_f(c):\n",
    "    f = (float(c)*9/5 +32)\n",
    "    k = float(c+273)\n",
    "    print(f, k)\n",
    "    return\n",
    "\n",
    "#Untuk mengubah konversi dari kelvin ke celsius dan fahrenheit\n",
    "def convert_k_to_f(k):\n",
    "    f = (float(k-273)*9/5)+32\n",
    "    c = float(k-273)\n",
    "    print(f, c)\n",
    "    return\n",
    "\n",
    "#mencetak hasil\n",
    "convert_f_to_c(32);\n",
    "convert_c_to_f(100);\n",
    "convert_k_to_f(100);\n"
   ]
  },
  {
   "cell_type": "code",
   "execution_count": null,
   "id": "4dcc9612",
   "metadata": {},
   "outputs": [],
   "source": []
  },
  {
   "cell_type": "code",
   "execution_count": null,
   "id": "8de982b9",
   "metadata": {},
   "outputs": [],
   "source": []
  }
 ],
 "metadata": {
  "kernelspec": {
   "display_name": "Python 3",
   "language": "python",
   "name": "python3"
  },
  "language_info": {
   "codemirror_mode": {
    "name": "ipython",
    "version": 3
   },
   "file_extension": ".py",
   "mimetype": "text/x-python",
   "name": "python",
   "nbconvert_exporter": "python",
   "pygments_lexer": "ipython3",
   "version": "3.8.8"
  }
 },
 "nbformat": 4,
 "nbformat_minor": 5
}
