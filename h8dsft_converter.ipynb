{
 "cells": [
  {
   "cell_type": "markdown",
   "id": "b25f9f0d",
   "metadata": {},
   "source": [
    "KONVERSI FAHRENHEIT, CELSIUS, DAN KELVIN"
   ]
  },
  {
   "cell_type": "code",
   "execution_count": 24,
   "id": "ae5adb0e",
   "metadata": {},
   "outputs": [
    {
     "name": "stdout",
     "output_type": "stream",
     "text": [
      "0.0 273.0\n",
      "212.0 373.0\n",
      "-279.4 -173.0\n"
     ]
    }
   ],
   "source": [
    "#Untuk mengubah konversi dari fahrenheit ke celsius dan kelvin\n",
    "\n",
    "if degree\n",
    "\n",
    "def convert_f_to_c(f):\n",
    "    c = float(f-32) *5 /9\n",
    "    k = (float(f-32)*5/9)+273\n",
    "    print(c, k)\n",
    "    return\n",
    "\n",
    "#Untuk mengubah konversi dari celsius ke kelvin dan fahrenheit\n",
    "def convert_c_to_f(c):\n",
    "    f = (float(c)*9/5 +32)\n",
    "    k = float(c+273)\n",
    "    print(f, k)\n",
    "    return\n",
    "\n",
    "#Untuk mengubah konversi dari kelvin ke celsius dan fahrenheit\n",
    "def convert_k_to_f(k):\n",
    "    f = (float(k-273)*9/5)+32\n",
    "    c = float(k-273)\n",
    "    print(f, c)\n",
    "    return\n",
    "\n",
    "#mencetak hasil\n",
    "convert_f_to_c(32);\n",
    "convert_c_to_f(100);\n",
    "convert_k_to_f(100);\n"
   ]
  },
  {
   "cell_type": "code",
   "execution_count": null,
   "id": "4dcc9612",
   "metadata": {},
   "outputs": [
    {
     "name": "stdout",
     "output_type": "stream",
     "text": [
      "FAHRENHEIT || CELSIUS || KELVIN\n",
      "Masukkan yang mau dikonversi: 23\n",
      "Masukkan angka 34\n",
      "Anda salah input \n",
      "\n",
      "Masukkan yang mau dikonversi: FAHRENHEIT\n",
      "Masukkan angka 34\n",
      "Mau konversi kemana: [C/K]C\n",
      "1.1111111111111112\n",
      "None\n",
      "Masukkan yang mau dikonversi: KELVIN\n",
      "Masukkan angka 65\n",
      "Mau konversi kemana: [F/C]F\n",
      "-342.4\n",
      "None\n",
      "Masukkan yang mau dikonversi: CELSIUS\n",
      "Masukkan angka 35\n",
      "Mau konversi kemana: [F/K]K\n",
      "308.0\n",
      "None\n",
      "Masukkan yang mau dikonversi: FAHRENHEIT\n",
      "Masukkan angka 32\n",
      "Mau konversi kemana: [C/K]K\n",
      "273.0\n",
      "None\n"
     ]
    }
   ],
   "source": [
    "#Untuk mengubah konversi dari fahrenheit ke celsius dan kelvin\n",
    "def convert_f_to_ck(data):\n",
    "    convert1 = str(input(\"Mau konversi kemana: [C/K]\")).lower()\n",
    "    if convert1 == 'c':\n",
    "        c = float(data-32) *5 /9\n",
    "        print(c)\n",
    "    elif convert1 == \"k\":    \n",
    "        k = (float(data-32)*5/9)+273\n",
    "        print(k)\n",
    "    else:\n",
    "        print(\"error\")\n",
    "\n",
    "#Untuk mengubah konversi dari celsius ke kelvin dan fahrenheit\n",
    "def convert_c_to_fk(data):\n",
    "    convert1 = str(input(\"Mau konversi kemana: [F/K]\")).lower()\n",
    "    if convert1 == 'f':\n",
    "        f = (float(data)*9/5 +32)\n",
    "        print(f)\n",
    "    elif convert1 == 'k':\n",
    "        k = float(data+273)\n",
    "        print(k)\n",
    "    else:\n",
    "        print(\"error\")\n",
    "\n",
    "#Untuk mengubah konversi dari kelvin ke celsius dan fahrenheit\n",
    "def convert_k_to_fc(data):\n",
    "    convert1 = str(input(\"Mau konversi kemana: [F/C]\")).lower()\n",
    "    if convert1 == 'f':\n",
    "        f = (float(data-273)*9/5)+32\n",
    "        print(f)\n",
    "    elif convert1 == 'c':\n",
    "        c = float(data-273)\n",
    "        print(c)\n",
    "    else:\n",
    "        print(\"error\")\n",
    "        \n",
    "\n",
    "#mencetak hasil\n",
    "print(\"FAHRENHEIT || CELSIUS || KELVIN\")\n",
    "\n",
    "i = 0\n",
    "while i == 0:\n",
    "    convert = str(input(\"Masukkan yang mau dikonversi: \")).upper()\n",
    "    data = int(input(\"Masukkan angka \"))\n",
    "    if convert == \"FAHRENHEIT\":\n",
    "        print(convert_f_to_ck(data))\n",
    "    elif convert == \"CELSIUS\":\n",
    "        print(convert_c_to_fk(data))\n",
    "    elif convert == \"KELVIN\":\n",
    "        print(convert_k_to_fc(data))\n",
    "    else:\n",
    "        print(\"Anda salah input \\n\")\n",
    "    \n",
    "    "
   ]
  },
  {
   "cell_type": "code",
   "execution_count": null,
   "id": "8de982b9",
   "metadata": {},
   "outputs": [],
   "source": []
  },
  {
   "cell_type": "code",
   "execution_count": null,
   "id": "fc80ec8e",
   "metadata": {},
   "outputs": [],
   "source": []
  },
  {
   "cell_type": "code",
   "execution_count": null,
   "id": "d1e0b403",
   "metadata": {},
   "outputs": [],
   "source": []
  }
 ],
 "metadata": {
  "kernelspec": {
   "display_name": "Python 3",
   "language": "python",
   "name": "python3"
  },
  "language_info": {
   "codemirror_mode": {
    "name": "ipython",
    "version": 3
   },
   "file_extension": ".py",
   "mimetype": "text/x-python",
   "name": "python",
   "nbconvert_exporter": "python",
   "pygments_lexer": "ipython3",
   "version": "3.8.8"
  }
 },
 "nbformat": 4,
 "nbformat_minor": 5
}
