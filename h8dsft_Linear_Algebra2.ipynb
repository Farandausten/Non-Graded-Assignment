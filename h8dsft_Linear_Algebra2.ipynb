{
 "cells": [
  {
   "cell_type": "code",
   "execution_count": 2,
   "id": "ccaaba40",
   "metadata": {},
   "outputs": [],
   "source": [
    "import numpy as np\n",
    "import sympy as sy"
   ]
  },
  {
   "cell_type": "markdown",
   "id": "067b35d4",
   "metadata": {},
   "source": [
    "# PERIKSA APAKAH W ADALAH KOMBINASI LINEAR DARI V1 DAN V2"
   ]
  },
  {
   "cell_type": "code",
   "execution_count": 90,
   "id": "e546d63d",
   "metadata": {},
   "outputs": [],
   "source": [
    "w = np.array([-4,5,4])"
   ]
  },
  {
   "cell_type": "code",
   "execution_count": 91,
   "id": "225275ae",
   "metadata": {},
   "outputs": [],
   "source": [
    "v1 = np.array([2,1,0])\n",
    "v2 = np.array([1,3,2])"
   ]
  },
  {
   "cell_type": "code",
   "execution_count": 95,
   "id": "1818e223",
   "metadata": {},
   "outputs": [],
   "source": [
    "B = sy.Matrix([[2,1,-4],[1,3,5],[0,2,4]])"
   ]
  },
  {
   "cell_type": "code",
   "execution_count": 98,
   "id": "5a969bcd",
   "metadata": {},
   "outputs": [
    {
     "data": {
      "text/plain": [
       "(Matrix([\n",
       " [1, 0, 0],\n",
       " [0, 1, 0],\n",
       " [0, 0, 1]]),\n",
       " (0, 1, 2))"
      ]
     },
     "execution_count": 98,
     "metadata": {},
     "output_type": "execute_result"
    }
   ],
   "source": [
    "B.rref()"
   ]
  },
  {
   "cell_type": "markdown",
   "id": "f55d00e6",
   "metadata": {},
   "source": [
    "# JIKA T : V --> W, MAKA BUKTIKAN BAHWA T(-U) = -T(U)"
   ]
  },
  {
   "cell_type": "code",
   "execution_count": null,
   "id": "12284598",
   "metadata": {},
   "outputs": [],
   "source": []
  }
 ],
 "metadata": {
  "kernelspec": {
   "display_name": "Python 3",
   "language": "python",
   "name": "python3"
  },
  "language_info": {
   "codemirror_mode": {
    "name": "ipython",
    "version": 3
   },
   "file_extension": ".py",
   "mimetype": "text/x-python",
   "name": "python",
   "nbconvert_exporter": "python",
   "pygments_lexer": "ipython3",
   "version": "3.8.8"
  }
 },
 "nbformat": 4,
 "nbformat_minor": 5
}
