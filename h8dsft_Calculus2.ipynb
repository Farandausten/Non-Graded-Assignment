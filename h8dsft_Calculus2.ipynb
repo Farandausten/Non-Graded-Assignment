{
 "cells": [
  {
   "cell_type": "code",
   "execution_count": 1,
   "id": "f4f18422",
   "metadata": {},
   "outputs": [],
   "source": [
    "import numpy as np\n",
    "import sympy as sy"
   ]
  },
  {
   "cell_type": "markdown",
   "id": "27f3f655",
   "metadata": {},
   "source": [
    "- 3x2 - 6x + 3dx\n",
    "- 8x3 - x2 + 5x -1"
   ]
  },
  {
   "cell_type": "code",
   "execution_count": 2,
   "id": "1cb59c52",
   "metadata": {},
   "outputs": [
    {
     "data": {
      "text/latex": [
       "$\\displaystyle x^{3} - 3 x^{2} + 3 x$"
      ],
      "text/plain": [
       "x**3 - 3*x**2 + 3*x"
      ]
     },
     "execution_count": 2,
     "metadata": {},
     "output_type": "execute_result"
    }
   ],
   "source": [
    "x = sy.Symbol(\"x\")\n",
    "sy.integrate(3*x**2-6*x+3)"
   ]
  },
  {
   "cell_type": "code",
   "execution_count": null,
   "id": "1ddd9cca",
   "metadata": {},
   "outputs": [],
   "source": [
    "sy.integrate(8*x**3 - x**2 + 5)"
   ]
  }
 ],
 "metadata": {
  "kernelspec": {
   "display_name": "Python 3",
   "language": "python",
   "name": "python3"
  },
  "language_info": {
   "codemirror_mode": {
    "name": "ipython",
    "version": 3
   },
   "file_extension": ".py",
   "mimetype": "text/x-python",
   "name": "python",
   "nbconvert_exporter": "python",
   "pygments_lexer": "ipython3",
   "version": "3.8.8"
  }
 },
 "nbformat": 4,
 "nbformat_minor": 5
}
