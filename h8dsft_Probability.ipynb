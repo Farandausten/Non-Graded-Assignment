{
 "cells": [
  {
   "cell_type": "markdown",
   "id": "3f6d7cfd",
   "metadata": {},
   "source": [
    "# Buatlah sebuah kode untuk mensimulasikan melempar koin sebanyak 50.000 kali dengan assign value random berupa 0 dan 1 untuk kepala atau ekor. Setiap kali koin dilempar, peluang untuk mendapatkan kepala atau ekor adalah 50%"
   ]
  },
  {
   "cell_type": "code",
   "execution_count": 1,
   "id": "1bd3feaf",
   "metadata": {},
   "outputs": [
    {
     "name": "stdout",
     "output_type": "stream",
     "text": [
      "[25326, 24674]\n"
     ]
    },
    {
     "data": {
      "image/png": "[encoded data removed]",
      "text/plain": [
       "<Figure size 360x360 with 1 Axes>"
      ]
     },
     "metadata": {},
     "output_type": "display_data"
    }
   ],
   "source": [
    "%matplotlib inline\n",
    "import random\n",
    "\n",
    "# Create a list with 2 element (for heads and tails)\n",
    "heads_tails = [0,0]\n",
    "\n",
    "# loop through 10000 trials\n",
    "trials = 50000\n",
    "trial = 0\n",
    "while trial < trials:\n",
    "    trial = trial + 1\n",
    "    # Get a random 0 or 1\n",
    "    toss = random.randint(0,1)\n",
    "    # Increment the list element corresponding to the toss result\n",
    "    heads_tails[toss] = heads_tails[toss] + 1\n",
    "\n",
    "print (heads_tails)\n",
    "\n",
    "# Show a pie chart of the results\n",
    "from matplotlib import pyplot as plt\n",
    "plt.figure(figsize=(5,5))\n",
    "plt.pie(heads_tails, labels=['heads', 'tails'])\n",
    "plt.legend()\n",
    "plt.show()"
   ]
  },
  {
   "cell_type": "code",
   "execution_count": null,
   "id": "eab0924d",
   "metadata": {},
   "outputs": [],
   "source": []
  }
 ],
 "metadata": {
  "kernelspec": {
   "display_name": "Python 3",
   "language": "python",
   "name": "python3"
  },
  "language_info": {
   "codemirror_mode": {
    "name": "ipython",
    "version": 3
   },
   "file_extension": ".py",
   "mimetype": "text/x-python",
   "name": "python",
   "nbconvert_exporter": "python",
   "pygments_lexer": "ipython3",
   "version": "3.8.8"
  }
 },
 "nbformat": 4,
 "nbformat_minor": 5
}
