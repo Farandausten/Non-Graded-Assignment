{
 "cells": [
  {
   "cell_type": "code",
   "execution_count": 3,
   "id": "175b5cab",
   "metadata": {},
   "outputs": [],
   "source": [
    "import sqlite3\n",
    "import pandas as pd"
   ]
  },
  {
   "cell_type": "code",
   "execution_count": 4,
   "id": "afd58c17",
   "metadata": {},
   "outputs": [],
   "source": [
    "df = pd.read_csv(\"courses.csv\")\n",
    "dg = pd.read_csv(\"assessments.csv\", sep=\";\")\n",
    "dh = pd.read_csv(\"studentInfo.csv\", sep=\",\")\n",
    "di = pd.read_csv(\"studentAssessment.csv\", sep=\",\")\n",
    "dj = pd.read_csv(\"studentRegistration.csv\", sep=\",\")\n",
    "dk = pd.read_csv(\"vle.csv\", sep=\",\")"
   ]
  },
  {
   "cell_type": "code",
   "execution_count": 5,
   "id": "ecf1cfdf",
   "metadata": {},
   "outputs": [],
   "source": [
    "def create_connection(path):\n",
    "    connection=sqlite3.connect(path)\n",
    "    return(connection)\n",
    "\n",
    "connection = create_connection(\"farand.sqlite\")"
   ]
  },
  {
   "cell_type": "code",
   "execution_count": 6,
   "id": "fb97bb14",
   "metadata": {},
   "outputs": [],
   "source": [
    "#Query No select\n",
    "def execute_command(conn,query):\n",
    "    cur = conn.cursor()\n",
    "    cur.execute(query)\n",
    "    conn.commit()"
   ]
  },
  {
   "cell_type": "code",
   "execution_count": 1,
   "id": "bb5087fc",
   "metadata": {},
   "outputs": [],
   "source": [
    "#Query select\n",
    "def select_query(conn,query):\n",
    "    cur = conn.cursor()\n",
    "    cur.execute(query)\n",
    "    rows = cur.fetchall()\n",
    "    \n",
    "    for row in rows:\n",
    "        print(row)"
   ]
  },
  {
   "cell_type": "markdown",
   "id": "2cfe8b69",
   "metadata": {},
   "source": [
    "# CEK INFO TIPE DATA"
   ]
  },
  {
   "cell_type": "code",
   "execution_count": 31,
   "id": "ea231302",
   "metadata": {},
   "outputs": [
    {
     "name": "stdout",
     "output_type": "stream",
     "text": [
      "<class 'pandas.core.frame.DataFrame'>\n",
      "RangeIndex: 22 entries, 0 to 21\n",
      "Data columns (total 3 columns):\n",
      " #   Column                      Non-Null Count  Dtype \n",
      "---  ------                      --------------  ----- \n",
      " 0   code_module                 22 non-null     object\n",
      " 1   code_presentation           22 non-null     object\n",
      " 2   module_presentation_length  22 non-null     int64 \n",
      "dtypes: int64(1), object(2)\n",
      "memory usage: 656.0+ bytes\n"
     ]
    }
   ],
   "source": [
    "df.info()"
   ]
  },
  {
   "cell_type": "code",
   "execution_count": 32,
   "id": "8ec8f8b9",
   "metadata": {},
   "outputs": [
    {
     "name": "stdout",
     "output_type": "stream",
     "text": [
      "<class 'pandas.core.frame.DataFrame'>\n",
      "RangeIndex: 206 entries, 0 to 205\n",
      "Data columns (total 6 columns):\n",
      " #   Column             Non-Null Count  Dtype  \n",
      "---  ------             --------------  -----  \n",
      " 0   code_module        206 non-null    object \n",
      " 1   code_presentation  206 non-null    object \n",
      " 2   id_assessment      206 non-null    int64  \n",
      " 3   assessment_type    206 non-null    object \n",
      " 4   date               195 non-null    float64\n",
      " 5   weight             206 non-null    float64\n",
      "dtypes: float64(2), int64(1), object(3)\n",
      "memory usage: 9.8+ KB\n"
     ]
    }
   ],
   "source": [
    "dg.info()"
   ]
  },
  {
   "cell_type": "code",
   "execution_count": 33,
   "id": "c51fab5b",
   "metadata": {},
   "outputs": [
    {
     "name": "stdout",
     "output_type": "stream",
     "text": [
      "<class 'pandas.core.frame.DataFrame'>\n",
      "RangeIndex: 32593 entries, 0 to 32592\n",
      "Data columns (total 12 columns):\n",
      " #   Column                Non-Null Count  Dtype \n",
      "---  ------                --------------  ----- \n",
      " 0   code_module           32593 non-null  object\n",
      " 1   code_presentation     32593 non-null  object\n",
      " 2   id_student            32593 non-null  int64 \n",
      " 3   gender                32593 non-null  object\n",
      " 4   region                32593 non-null  object\n",
      " 5   highest_education     32593 non-null  object\n",
      " 6   imd_band              31482 non-null  object\n",
      " 7   age_band              32593 non-null  object\n",
      " 8   num_of_prev_attempts  32593 non-null  int64 \n",
      " 9   studied_credits       32593 non-null  int64 \n",
      " 10  disability            32593 non-null  object\n",
      " 11  final_result          32593 non-null  object\n",
      "dtypes: int64(3), object(9)\n",
      "memory usage: 3.0+ MB\n"
     ]
    }
   ],
   "source": [
    "dh.info()"
   ]
  },
  {
   "cell_type": "code",
   "execution_count": 34,
   "id": "2e75e206",
   "metadata": {},
   "outputs": [
    {
     "name": "stdout",
     "output_type": "stream",
     "text": [
      "<class 'pandas.core.frame.DataFrame'>\n",
      "RangeIndex: 173912 entries, 0 to 173911\n",
      "Data columns (total 5 columns):\n",
      " #   Column          Non-Null Count   Dtype  \n",
      "---  ------          --------------   -----  \n",
      " 0   id_assessment   173912 non-null  int64  \n",
      " 1   id_student      173912 non-null  int64  \n",
      " 2   date_submitted  173912 non-null  int64  \n",
      " 3   is_banked       173912 non-null  int64  \n",
      " 4   score           173739 non-null  float64\n",
      "dtypes: float64(1), int64(4)\n",
      "memory usage: 6.6 MB\n"
     ]
    }
   ],
   "source": [
    "di.info()"
   ]
  },
  {
   "cell_type": "code",
   "execution_count": 35,
   "id": "14e03858",
   "metadata": {},
   "outputs": [
    {
     "name": "stdout",
     "output_type": "stream",
     "text": [
      "<class 'pandas.core.frame.DataFrame'>\n",
      "RangeIndex: 32593 entries, 0 to 32592\n",
      "Data columns (total 5 columns):\n",
      " #   Column               Non-Null Count  Dtype  \n",
      "---  ------               --------------  -----  \n",
      " 0   code_module          32593 non-null  object \n",
      " 1   code_presentation    32593 non-null  object \n",
      " 2   id_student           32593 non-null  int64  \n",
      " 3   date_registration    32548 non-null  float64\n",
      " 4   date_unregistration  10072 non-null  float64\n",
      "dtypes: float64(2), int64(1), object(2)\n",
      "memory usage: 1.2+ MB\n"
     ]
    }
   ],
   "source": [
    "dj.info()"
   ]
  },
  {
   "cell_type": "code",
   "execution_count": 36,
   "id": "bd749ade",
   "metadata": {},
   "outputs": [
    {
     "name": "stdout",
     "output_type": "stream",
     "text": [
      "<class 'pandas.core.frame.DataFrame'>\n",
      "RangeIndex: 6364 entries, 0 to 6363\n",
      "Data columns (total 6 columns):\n",
      " #   Column             Non-Null Count  Dtype  \n",
      "---  ------             --------------  -----  \n",
      " 0   id_site            6364 non-null   int64  \n",
      " 1   code_module        6364 non-null   object \n",
      " 2   code_presentation  6364 non-null   object \n",
      " 3   activity_type      6364 non-null   object \n",
      " 4   week_from          1121 non-null   float64\n",
      " 5   week_to            1121 non-null   float64\n",
      "dtypes: float64(2), int64(1), object(3)\n",
      "memory usage: 298.4+ KB\n"
     ]
    }
   ],
   "source": [
    "dk.info()"
   ]
  },
  {
   "cell_type": "markdown",
   "id": "348292ae",
   "metadata": {},
   "source": [
    "# CEK ADA YANG NULL ATAU TIDAK"
   ]
  },
  {
   "cell_type": "code",
   "execution_count": 37,
   "id": "0723f4a6",
   "metadata": {},
   "outputs": [
    {
     "data": {
      "text/plain": [
       "code_module                   0\n",
       "code_presentation             0\n",
       "module_presentation_length    0\n",
       "dtype: int64"
      ]
     },
     "execution_count": 37,
     "metadata": {},
     "output_type": "execute_result"
    }
   ],
   "source": [
    "df.isnull().sum()"
   ]
  },
  {
   "cell_type": "code",
   "execution_count": 38,
   "id": "3937135c",
   "metadata": {},
   "outputs": [
    {
     "data": {
      "text/plain": [
       "code_module           0\n",
       "code_presentation     0\n",
       "id_assessment         0\n",
       "assessment_type       0\n",
       "date                 11\n",
       "weight                0\n",
       "dtype: int64"
      ]
     },
     "execution_count": 38,
     "metadata": {},
     "output_type": "execute_result"
    }
   ],
   "source": [
    "dg.isnull().sum()"
   ]
  },
  {
   "cell_type": "code",
   "execution_count": 39,
   "id": "6968f7ba",
   "metadata": {},
   "outputs": [
    {
     "data": {
      "text/plain": [
       "code_module                0\n",
       "code_presentation          0\n",
       "id_student                 0\n",
       "gender                     0\n",
       "region                     0\n",
       "highest_education          0\n",
       "imd_band                1111\n",
       "age_band                   0\n",
       "num_of_prev_attempts       0\n",
       "studied_credits            0\n",
       "disability                 0\n",
       "final_result               0\n",
       "dtype: int64"
      ]
     },
     "execution_count": 39,
     "metadata": {},
     "output_type": "execute_result"
    }
   ],
   "source": [
    "dh.isnull().sum()"
   ]
  },
  {
   "cell_type": "code",
   "execution_count": 40,
   "id": "0374352a",
   "metadata": {},
   "outputs": [
    {
     "data": {
      "text/plain": [
       "id_assessment       0\n",
       "id_student          0\n",
       "date_submitted      0\n",
       "is_banked           0\n",
       "score             173\n",
       "dtype: int64"
      ]
     },
     "execution_count": 40,
     "metadata": {},
     "output_type": "execute_result"
    }
   ],
   "source": [
    "di.isnull().sum()"
   ]
  },
  {
   "cell_type": "code",
   "execution_count": 41,
   "id": "fad44184",
   "metadata": {},
   "outputs": [
    {
     "data": {
      "text/plain": [
       "code_module                0\n",
       "code_presentation          0\n",
       "id_student                 0\n",
       "date_registration         45\n",
       "date_unregistration    22521\n",
       "dtype: int64"
      ]
     },
     "execution_count": 41,
     "metadata": {},
     "output_type": "execute_result"
    }
   ],
   "source": [
    "dj.isnull().sum()"
   ]
  },
  {
   "cell_type": "code",
   "execution_count": 42,
   "id": "f6172c61",
   "metadata": {},
   "outputs": [
    {
     "data": {
      "text/plain": [
       "id_site                 0\n",
       "code_module             0\n",
       "code_presentation       0\n",
       "activity_type           0\n",
       "week_from            5243\n",
       "week_to              5243\n",
       "dtype: int64"
      ]
     },
     "execution_count": 42,
     "metadata": {},
     "output_type": "execute_result"
    }
   ],
   "source": [
    "dk.isnull().sum()"
   ]
  },
  {
   "cell_type": "markdown",
   "id": "04bd7e15",
   "metadata": {},
   "source": [
    "# MENGHAPUS BARIS YANG KOSONG"
   ]
  },
  {
   "cell_type": "code",
   "execution_count": 43,
   "id": "d1a1dd0d",
   "metadata": {},
   "outputs": [],
   "source": [
    "dg = dg.dropna(subset = ['date'])"
   ]
  },
  {
   "cell_type": "code",
   "execution_count": 44,
   "id": "7799508d",
   "metadata": {},
   "outputs": [],
   "source": [
    "dh = dh.dropna(subset = ['imd_band'])"
   ]
  },
  {
   "cell_type": "code",
   "execution_count": 45,
   "id": "3d00aef7",
   "metadata": {},
   "outputs": [],
   "source": [
    "di = di.dropna(subset = ['score'])"
   ]
  },
  {
   "cell_type": "code",
   "execution_count": 46,
   "id": "0a271ecc",
   "metadata": {},
   "outputs": [],
   "source": [
    "dj = dj.dropna(subset = ['date_registration'])\n",
    "dj = dj.dropna(subset = ['date_unregistration'])"
   ]
  },
  {
   "cell_type": "code",
   "execution_count": 47,
   "id": "31052c4d",
   "metadata": {},
   "outputs": [],
   "source": [
    "dk = dk.dropna(subset = ['week_from'])\n",
    "dk = dk.dropna(subset = ['week_to'])"
   ]
  },
  {
   "cell_type": "code",
   "execution_count": 48,
   "id": "76720edb",
   "metadata": {},
   "outputs": [],
   "source": [
    "df = df.reset_index()\n",
    "dg = dg.reset_index()\n",
    "dh = dh.reset_index()\n",
    "di = di.reset_index()\n",
    "dj = dj.reset_index()\n",
    "dk = dk.reset_index()"
   ]
  },
  {
   "cell_type": "markdown",
   "id": "a61f9375",
   "metadata": {},
   "source": [
    "# CREATE AND INSERT"
   ]
  },
  {
   "cell_type": "code",
   "execution_count": 49,
   "id": "9e085351",
   "metadata": {},
   "outputs": [],
   "source": [
    "Q ='''\n",
    "Create Table courses(\n",
    "    code_module varchar(10),\n",
    "    code_presentation varchar(15),\n",
    "    module_presentation_length integer(10)\n",
    "    );\n",
    "'''\n",
    "\n",
    "execute_command(connection,Q)"
   ]
  },
  {
   "cell_type": "code",
   "execution_count": 50,
   "id": "b9bb445a",
   "metadata": {},
   "outputs": [],
   "source": [
    "for i in range(len(df)): #EXECUTE HARUS DIDALAM KARENA AKAN DIEXECUTE SECARA BERULANG\n",
    "    inputt1 = '''\n",
    "    INSERT INTO courses\n",
    "    (code_module, code_presentation, module_presentation_length)\n",
    "    VALUES ('{}','{}',{})\n",
    "'''.format(df['code_module'][i], df['code_presentation'][i] , df['module_presentation_length'][i])\n",
    "    execute_command(connection,inputt1)"
   ]
  },
  {
   "cell_type": "code",
   "execution_count": 51,
   "id": "750d6ccc",
   "metadata": {},
   "outputs": [],
   "source": [
    "Q ='''\n",
    "Create Table assessments(\n",
    "    code_module varchar(10),\n",
    "    code_presentation varchar(15),\n",
    "    id_assessment integer(10),\n",
    "    assessment_type varchar(10),\n",
    "    date float(7,1),\n",
    "    weight float(7,1)\n",
    "    );\n",
    "\n",
    "'''   \n",
    "execute_command(connection,Q)"
   ]
  },
  {
   "cell_type": "code",
   "execution_count": 52,
   "id": "1c9571cd",
   "metadata": {},
   "outputs": [],
   "source": [
    "for i in range(len(dg)):\n",
    "    inputt2 = '''\n",
    "        INSERT INTO assessments \n",
    "        (code_module, code_presentation, id_assessment, assessment_type, date, weight)\n",
    "        VALUES ('{}','{}',{},'{}', {}, {})\n",
    "'''.format(dg['code_module'][i], dg['code_presentation'][i], dg['id_assessment'][i], dg['assessment_type'][i] , dg['date'][i], dg['weight'][i])\n",
    "    execute_command(connection,inputt2)"
   ]
  },
  {
   "cell_type": "code",
   "execution_count": 53,
   "id": "0e850617",
   "metadata": {},
   "outputs": [],
   "source": [
    "Q ='''\n",
    "Create Table studentInfo(\n",
    "    code_module varchar(10),\n",
    "    code_presentation varchar(15),\n",
    "    id_student integer(10),\n",
    "    gender varchar(2),\n",
    "    region varchar(50),\n",
    "    highest_education varchar(50),\n",
    "    imd_band varchar(30),\n",
    "    age_band varchar(50),\n",
    "    num_of_prev_attempts integer(10),\n",
    "    studied_credits integer(10),\n",
    "    disability varchar(20),\n",
    "    final_result varchar(20)\n",
    "    );\n",
    "'''   \n",
    "execute_command(connection,Q)"
   ]
  },
  {
   "cell_type": "code",
   "execution_count": 54,
   "id": "6f243368",
   "metadata": {},
   "outputs": [],
   "source": [
    "for i in range(len(dh)):\n",
    "    inputt3 = '''\n",
    "        INSERT INTO studentInfo\n",
    "        (code_module, code_presentation, id_student, gender, region, highest_education, imd_band, age_band, num_of_prev_attempts, studied_credits, disability, final_result)\n",
    "        VALUES ('{}','{}', {}, '{}', '{}', '{}', '{}', '{}', {} ,{}, '{}','{}')\n",
    "'''.format(dh['code_module'][i], dh['code_presentation'][i] , dh['id_student'][i],dh['gender'][i], dh['region'][i] , dh['highest_education'][i],dh['imd_band'][i], dh['age_band'][i] , dh['num_of_prev_attempts'][i],dh['studied_credits'][i], dh['disability'][i], dh['final_result'][i])\n",
    "    execute_command(connection,inputt3)"
   ]
  },
  {
   "cell_type": "code",
   "execution_count": 55,
   "id": "c116a3e6",
   "metadata": {},
   "outputs": [],
   "source": [
    "Q ='''\n",
    "Create Table studentAssessment(\n",
    "    id_assessment integer(10),\n",
    "    id_student integer(10),\n",
    "    date_submitted integer(10),\n",
    "    is_banked float(7,1),\n",
    "    score integer(10)\n",
    "    );\n",
    "'''   \n",
    "execute_command(connection,Q)"
   ]
  },
  {
   "cell_type": "code",
   "execution_count": 56,
   "id": "8339ec5b",
   "metadata": {},
   "outputs": [],
   "source": [
    "for i in range(len(di)):\n",
    "    inputt4 = '''\n",
    "        INSERT INTO studentAssessment\n",
    "        (id_assessment, id_student, date_submitted, is_banked, score)\n",
    "        VALUES ({},{},{},{},{})\n",
    "'''.format(di['id_assessment'][i], di['id_student'][i] , di['date_submitted'][i],di['is_banked'][i], di['score'][i])\n",
    "    execute_command(connection,inputt4)"
   ]
  },
  {
   "cell_type": "code",
   "execution_count": 57,
   "id": "d59ab657",
   "metadata": {},
   "outputs": [],
   "source": [
    "Q ='''\n",
    "Create Table studentRegistration(\n",
    "    code_module varchar(10),\n",
    "    code_presentation varchar(10),\n",
    "    id_student integer(10),\n",
    "    date_registration float(7,1),\n",
    "    date_unregistration float(7,1)\n",
    "    );\n",
    "\n",
    "'''   \n",
    "execute_command(connection,Q)"
   ]
  },
  {
   "cell_type": "code",
   "execution_count": 58,
   "id": "fb4346c5",
   "metadata": {},
   "outputs": [],
   "source": [
    "for i in range(len(dj)):\n",
    "    inputt5 ='''\n",
    "        INSERT INTO studentRegistration\n",
    "        (code_module, code_presentation, id_student, date_registration, date_unregistration)   \n",
    "        VALUES('{}','{}', {}, {}, {})\n",
    "'''.format(dj['code_module'][i], dj['code_presentation'][i] , dj['id_student'][i], dj['date_registration'][i], dj['date_unregistration'][i])\n",
    "    execute_command(connection,inputt5)"
   ]
  },
  {
   "cell_type": "code",
   "execution_count": 59,
   "id": "98c75f42",
   "metadata": {},
   "outputs": [],
   "source": [
    "Q ='''\n",
    "Create Table vle(\n",
    "    id_site integer(20),\n",
    "    code_module varchar(10),\n",
    "    code_presentation varchar(10),\n",
    "    activity_type varchar(20),\n",
    "    week_from float(7,1),\n",
    "    week_to float(7,1)\n",
    "    );  \n",
    "\n",
    "'''   \n",
    "execute_command(connection,Q)"
   ]
  },
  {
   "cell_type": "code",
   "execution_count": 60,
   "id": "66afe28a",
   "metadata": {},
   "outputs": [],
   "source": [
    "for i in range(len(dk)):\n",
    "    inputt6 ='''\n",
    "    INSERT INTO vle\n",
    "    (id_site, code_module, code_presentation, activity_type, week_from, week_to)   \n",
    "    VALUES ({},'{}','{}', '{}', {},{})\n",
    "'''.format(dk['id_site'][i], dk['code_module'][i], dk['code_presentation'][i], dk['activity_type'][i], dk['week_from'][i], dk['week_to'][i])\n",
    "    execute_command(connection,inputt6)"
   ]
  },
  {
   "cell_type": "code",
   "execution_count": null,
   "id": "597af503",
   "metadata": {},
   "outputs": [],
   "source": [
    "kamu ='''\n",
    "    SELECT studentAssessment.id_student, studentInfo.region, courses.code_module, assessments.assessment_type, studentAssessment.score \n",
    "    FROM studentAssessment \n",
    "    LEFT JOIN studentRegistration ON studentRegistration.id_student = studentAssessment.id_student \n",
    "    LEFT JOIN studentInfo ON studentRegistration.id_student = studentInfo.id_student \n",
    "    LEFT JOIN assessments ON assessments.id_assessment = studentAssessment.id_assessment\n",
    "    LEFT JOIN vle ON vle.code_module = assessments.code_module\n",
    "    LEFT JOIN courses ON courses.code_module = vle.code_module\n",
    "    WHERE assessments.code_presentation = '2014B';\n",
    "'''\n",
    "\n",
    "select_query(connection, kamu)"
   ]
  },
  {
   "cell_type": "code",
   "execution_count": 11,
   "id": "20144daf",
   "metadata": {},
   "outputs": [
    {
     "ename": "MemoryError",
     "evalue": "",
     "output_type": "error",
     "traceback": [
      "\u001b[1;31m---------------------------------------------------------------------------\u001b[0m",
      "\u001b[1;31mMemoryError\u001b[0m                               Traceback (most recent call last)",
      "\u001b[1;32m<ipython-input-11-725376f728e1>\u001b[0m in \u001b[0;36m<module>\u001b[1;34m\u001b[0m\n\u001b[1;32m----> 1\u001b[1;33m \u001b[0mrows\u001b[0m \u001b[1;33m=\u001b[0m \u001b[0mselect_query\u001b[0m\u001b[1;33m(\u001b[0m\u001b[0mconnection\u001b[0m\u001b[1;33m,\u001b[0m\u001b[0mquery\u001b[0m\u001b[1;33m)\u001b[0m\u001b[1;33m\u001b[0m\u001b[1;33m\u001b[0m\u001b[0m\n\u001b[0m\u001b[0;32m      2\u001b[0m \u001b[0mprint\u001b[0m\u001b[1;33m(\u001b[0m\u001b[0mlen\u001b[0m\u001b[1;33m(\u001b[0m\u001b[0mrows\u001b[0m\u001b[1;33m)\u001b[0m\u001b[1;33m)\u001b[0m\u001b[1;33m\u001b[0m\u001b[1;33m\u001b[0m\u001b[0m\n",
      "\u001b[1;32m<ipython-input-9-4d4d7dd5b0f0>\u001b[0m in \u001b[0;36mselect_query\u001b[1;34m(conn, query)\u001b[0m\n\u001b[0;32m      3\u001b[0m     \u001b[0mcur\u001b[0m \u001b[1;33m=\u001b[0m \u001b[0mconn\u001b[0m\u001b[1;33m.\u001b[0m\u001b[0mcursor\u001b[0m\u001b[1;33m(\u001b[0m\u001b[1;33m)\u001b[0m\u001b[1;33m\u001b[0m\u001b[1;33m\u001b[0m\u001b[0m\n\u001b[0;32m      4\u001b[0m     \u001b[0mcur\u001b[0m\u001b[1;33m.\u001b[0m\u001b[0mexecute\u001b[0m\u001b[1;33m(\u001b[0m\u001b[0mquery\u001b[0m\u001b[1;33m)\u001b[0m\u001b[1;33m\u001b[0m\u001b[1;33m\u001b[0m\u001b[0m\n\u001b[1;32m----> 5\u001b[1;33m     \u001b[0mrows\u001b[0m \u001b[1;33m=\u001b[0m \u001b[0mcur\u001b[0m\u001b[1;33m.\u001b[0m\u001b[0mfetchall\u001b[0m\u001b[1;33m(\u001b[0m\u001b[1;33m)\u001b[0m\u001b[1;33m\u001b[0m\u001b[1;33m\u001b[0m\u001b[0m\n\u001b[0m\u001b[0;32m      6\u001b[0m \u001b[1;33m\u001b[0m\u001b[0m\n\u001b[0;32m      7\u001b[0m     \u001b[1;32mfor\u001b[0m \u001b[0mrow\u001b[0m \u001b[1;32min\u001b[0m \u001b[0mrows\u001b[0m\u001b[1;33m:\u001b[0m\u001b[1;33m\u001b[0m\u001b[1;33m\u001b[0m\u001b[0m\n",
      "\u001b[1;31mMemoryError\u001b[0m: "
     ]
    }
   ],
   "source": []
  },
  {
   "cell_type": "code",
   "execution_count": null,
   "id": "71b9bfc5",
   "metadata": {},
   "outputs": [],
   "source": [
    "pd.read_sql_query(query, connection)"
   ]
  },
  {
   "cell_type": "code",
   "execution_count": null,
   "id": "63c1c518",
   "metadata": {},
   "outputs": [],
   "source": []
  }
 ],
 "metadata": {
  "kernelspec": {
   "display_name": "Python 3",
   "language": "python",
   "name": "python3"
  },
  "language_info": {
   "codemirror_mode": {
    "name": "ipython",
    "version": 3
   },
   "file_extension": ".py",
   "mimetype": "text/x-python",
   "name": "python",
   "nbconvert_exporter": "python",
   "pygments_lexer": "ipython3",
   "version": "3.8.8"
  }
 },
 "nbformat": 4,
 "nbformat_minor": 5
}
