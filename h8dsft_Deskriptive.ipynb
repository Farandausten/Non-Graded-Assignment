{
 "cells": [
  {
   "cell_type": "code",
   "execution_count": 82,
   "id": "7c56d5c2",
   "metadata": {},
   "outputs": [],
   "source": [
    "import pandas as pd\n",
    "import itertools\n",
    "from scipy import stats"
   ]
  },
  {
   "cell_type": "markdown",
   "id": "ed09a020",
   "metadata": {},
   "source": [
    "# 1. Measures With Central Tedencies \n",
    "- Mode\n",
    "- Mean\n",
    "- Median"
   ]
  },
  {
   "cell_type": "code",
   "execution_count": 41,
   "id": "1bd3feaf",
   "metadata": {},
   "outputs": [],
   "source": [
    "df = pd.read_csv(\"covid_19_indonesia_time_series_all.csv\")"
   ]
  },
  {
   "cell_type": "code",
   "execution_count": 42,
   "id": "a00b1281",
   "metadata": {},
   "outputs": [
    {
     "data": {
      "text/html": [
       "<div>\n",
       "<style scoped>\n",
       "    .dataframe tbody tr th:only-of-type {\n",
       "        vertical-align: middle;\n",
       "    }\n",
       "\n",
       "    .dataframe tbody tr th {\n",
       "        vertical-align: top;\n",
       "    }\n",
       "\n",
       "    .dataframe thead th {\n",
       "        text-align: right;\n",
       "    }\n",
       "</style>\n",
       "<table border=\"1\" class=\"dataframe\">\n",
       "  <thead>\n",
       "    <tr style=\"text-align: right;\">\n",
       "      <th></th>\n",
       "      <th>Date</th>\n",
       "      <th>Location ISO Code</th>\n",
       "      <th>Location</th>\n",
       "      <th>New Cases</th>\n",
       "      <th>New Deaths</th>\n",
       "      <th>New Recovered</th>\n",
       "      <th>New Active Cases</th>\n",
       "      <th>Total Cases</th>\n",
       "      <th>Total Deaths</th>\n",
       "      <th>Total Recovered</th>\n",
       "      <th>...</th>\n",
       "      <th>New Deaths per Million</th>\n",
       "      <th>Total Deaths per Million</th>\n",
       "      <th>Case Fatality Rate</th>\n",
       "      <th>Case Recovered Rate</th>\n",
       "      <th>Growth Factor of New Cases</th>\n",
       "      <th>Growth Factor of New Deaths</th>\n",
       "      <th>Name</th>\n",
       "      <th>Item</th>\n",
       "      <th>Kind</th>\n",
       "      <th>Hidden</th>\n",
       "    </tr>\n",
       "  </thead>\n",
       "  <tbody>\n",
       "    <tr>\n",
       "      <th>0</th>\n",
       "      <td>1/8/2020</td>\n",
       "      <td>ID-JI</td>\n",
       "      <td>Jawa Timur</td>\n",
       "      <td>9</td>\n",
       "      <td>3</td>\n",
       "      <td>1</td>\n",
       "      <td>5</td>\n",
       "      <td>9</td>\n",
       "      <td>5</td>\n",
       "      <td>10</td>\n",
       "      <td>...</td>\n",
       "      <td>0.07</td>\n",
       "      <td>0.12</td>\n",
       "      <td>55.56%</td>\n",
       "      <td>111.11%</td>\n",
       "      <td>NaN</td>\n",
       "      <td>NaN</td>\n",
       "      <td>NaN</td>\n",
       "      <td>NaN</td>\n",
       "      <td>NaN</td>\n",
       "      <td>NaN</td>\n",
       "    </tr>\n",
       "    <tr>\n",
       "      <th>1</th>\n",
       "      <td>1/9/2020</td>\n",
       "      <td>ID-JI</td>\n",
       "      <td>Jawa Timur</td>\n",
       "      <td>0</td>\n",
       "      <td>1</td>\n",
       "      <td>23</td>\n",
       "      <td>-24</td>\n",
       "      <td>9</td>\n",
       "      <td>6</td>\n",
       "      <td>33</td>\n",
       "      <td>...</td>\n",
       "      <td>0.02</td>\n",
       "      <td>0.15</td>\n",
       "      <td>66.67%</td>\n",
       "      <td>366.67%</td>\n",
       "      <td>0.00</td>\n",
       "      <td>0.33</td>\n",
       "      <td>NaN</td>\n",
       "      <td>NaN</td>\n",
       "      <td>NaN</td>\n",
       "      <td>NaN</td>\n",
       "    </tr>\n",
       "    <tr>\n",
       "      <th>2</th>\n",
       "      <td>1/10/2020</td>\n",
       "      <td>ID-JI</td>\n",
       "      <td>Jawa Timur</td>\n",
       "      <td>0</td>\n",
       "      <td>1</td>\n",
       "      <td>14</td>\n",
       "      <td>-15</td>\n",
       "      <td>9</td>\n",
       "      <td>7</td>\n",
       "      <td>47</td>\n",
       "      <td>...</td>\n",
       "      <td>0.02</td>\n",
       "      <td>0.17</td>\n",
       "      <td>77.78%</td>\n",
       "      <td>522.22%</td>\n",
       "      <td>1.00</td>\n",
       "      <td>1.00</td>\n",
       "      <td>NaN</td>\n",
       "      <td>NaN</td>\n",
       "      <td>NaN</td>\n",
       "      <td>NaN</td>\n",
       "    </tr>\n",
       "    <tr>\n",
       "      <th>3</th>\n",
       "      <td>1/11/2020</td>\n",
       "      <td>ID-JI</td>\n",
       "      <td>Jawa Timur</td>\n",
       "      <td>0</td>\n",
       "      <td>3</td>\n",
       "      <td>8</td>\n",
       "      <td>-11</td>\n",
       "      <td>9</td>\n",
       "      <td>10</td>\n",
       "      <td>55</td>\n",
       "      <td>...</td>\n",
       "      <td>0.07</td>\n",
       "      <td>0.25</td>\n",
       "      <td>111.11%</td>\n",
       "      <td>611.11%</td>\n",
       "      <td>1.00</td>\n",
       "      <td>3.00</td>\n",
       "      <td>NaN</td>\n",
       "      <td>NaN</td>\n",
       "      <td>NaN</td>\n",
       "      <td>NaN</td>\n",
       "    </tr>\n",
       "    <tr>\n",
       "      <th>4</th>\n",
       "      <td>1/12/2020</td>\n",
       "      <td>ID-JI</td>\n",
       "      <td>Jawa Timur</td>\n",
       "      <td>0</td>\n",
       "      <td>3</td>\n",
       "      <td>1</td>\n",
       "      <td>-4</td>\n",
       "      <td>9</td>\n",
       "      <td>13</td>\n",
       "      <td>56</td>\n",
       "      <td>...</td>\n",
       "      <td>0.07</td>\n",
       "      <td>0.32</td>\n",
       "      <td>144.44%</td>\n",
       "      <td>622.22%</td>\n",
       "      <td>1.00</td>\n",
       "      <td>1.00</td>\n",
       "      <td>NaN</td>\n",
       "      <td>NaN</td>\n",
       "      <td>NaN</td>\n",
       "      <td>NaN</td>\n",
       "    </tr>\n",
       "    <tr>\n",
       "      <th>...</th>\n",
       "      <td>...</td>\n",
       "      <td>...</td>\n",
       "      <td>...</td>\n",
       "      <td>...</td>\n",
       "      <td>...</td>\n",
       "      <td>...</td>\n",
       "      <td>...</td>\n",
       "      <td>...</td>\n",
       "      <td>...</td>\n",
       "      <td>...</td>\n",
       "      <td>...</td>\n",
       "      <td>...</td>\n",
       "      <td>...</td>\n",
       "      <td>...</td>\n",
       "      <td>...</td>\n",
       "      <td>...</td>\n",
       "      <td>...</td>\n",
       "      <td>...</td>\n",
       "      <td>...</td>\n",
       "      <td>...</td>\n",
       "      <td>...</td>\n",
       "    </tr>\n",
       "    <tr>\n",
       "      <th>16278</th>\n",
       "      <td>7/9/2021</td>\n",
       "      <td>ID-SG</td>\n",
       "      <td>Sulawesi Tenggara</td>\n",
       "      <td>124</td>\n",
       "      <td>1</td>\n",
       "      <td>3</td>\n",
       "      <td>120</td>\n",
       "      <td>12447</td>\n",
       "      <td>252</td>\n",
       "      <td>10412</td>\n",
       "      <td>...</td>\n",
       "      <td>0.38</td>\n",
       "      <td>95.62</td>\n",
       "      <td>2.02%</td>\n",
       "      <td>83.65%</td>\n",
       "      <td>0.92</td>\n",
       "      <td>0.50</td>\n",
       "      <td>NaN</td>\n",
       "      <td>NaN</td>\n",
       "      <td>NaN</td>\n",
       "      <td>NaN</td>\n",
       "    </tr>\n",
       "    <tr>\n",
       "      <th>16279</th>\n",
       "      <td>7/9/2021</td>\n",
       "      <td>ID-SA</td>\n",
       "      <td>Sulawesi Utara</td>\n",
       "      <td>278</td>\n",
       "      <td>9</td>\n",
       "      <td>9</td>\n",
       "      <td>260</td>\n",
       "      <td>17424</td>\n",
       "      <td>572</td>\n",
       "      <td>15525</td>\n",
       "      <td>...</td>\n",
       "      <td>3.41</td>\n",
       "      <td>216.51</td>\n",
       "      <td>3.28%</td>\n",
       "      <td>89.10%</td>\n",
       "      <td>1.24</td>\n",
       "      <td>9.00</td>\n",
       "      <td>NaN</td>\n",
       "      <td>NaN</td>\n",
       "      <td>NaN</td>\n",
       "      <td>NaN</td>\n",
       "    </tr>\n",
       "    <tr>\n",
       "      <th>16280</th>\n",
       "      <td>7/9/2021</td>\n",
       "      <td>ID-SB</td>\n",
       "      <td>Sumatera Barat</td>\n",
       "      <td>718</td>\n",
       "      <td>10</td>\n",
       "      <td>275</td>\n",
       "      <td>433</td>\n",
       "      <td>55675</td>\n",
       "      <td>1259</td>\n",
       "      <td>48840</td>\n",
       "      <td>...</td>\n",
       "      <td>1.81</td>\n",
       "      <td>228.11</td>\n",
       "      <td>2.26%</td>\n",
       "      <td>87.72%</td>\n",
       "      <td>0.93</td>\n",
       "      <td>1.00</td>\n",
       "      <td>NaN</td>\n",
       "      <td>NaN</td>\n",
       "      <td>NaN</td>\n",
       "      <td>NaN</td>\n",
       "    </tr>\n",
       "    <tr>\n",
       "      <th>16281</th>\n",
       "      <td>7/9/2021</td>\n",
       "      <td>ID-SS</td>\n",
       "      <td>Sumatera Selatan</td>\n",
       "      <td>341</td>\n",
       "      <td>6</td>\n",
       "      <td>221</td>\n",
       "      <td>114</td>\n",
       "      <td>31147</td>\n",
       "      <td>1569</td>\n",
       "      <td>27088</td>\n",
       "      <td>...</td>\n",
       "      <td>0.73</td>\n",
       "      <td>190.93</td>\n",
       "      <td>5.04%</td>\n",
       "      <td>86.97%</td>\n",
       "      <td>1.15</td>\n",
       "      <td>0.38</td>\n",
       "      <td>NaN</td>\n",
       "      <td>NaN</td>\n",
       "      <td>NaN</td>\n",
       "      <td>NaN</td>\n",
       "    </tr>\n",
       "    <tr>\n",
       "      <th>16282</th>\n",
       "      <td>7/9/2021</td>\n",
       "      <td>ID-SU</td>\n",
       "      <td>Sumatera Utara</td>\n",
       "      <td>336</td>\n",
       "      <td>5</td>\n",
       "      <td>241</td>\n",
       "      <td>90</td>\n",
       "      <td>38040</td>\n",
       "      <td>1232</td>\n",
       "      <td>33773</td>\n",
       "      <td>...</td>\n",
       "      <td>0.34</td>\n",
       "      <td>82.82</td>\n",
       "      <td>3.24%</td>\n",
       "      <td>88.78%</td>\n",
       "      <td>1.22</td>\n",
       "      <td>0.83</td>\n",
       "      <td>NaN</td>\n",
       "      <td>NaN</td>\n",
       "      <td>NaN</td>\n",
       "      <td>NaN</td>\n",
       "    </tr>\n",
       "  </tbody>\n",
       "</table>\n",
       "<p>16283 rows × 41 columns</p>\n",
       "</div>"
      ],
      "text/plain": [
       "            Date Location ISO Code           Location  New Cases  New Deaths  \\\n",
       "0       1/8/2020             ID-JI         Jawa Timur          9           3   \n",
       "1       1/9/2020             ID-JI         Jawa Timur          0           1   \n",
       "2      1/10/2020             ID-JI         Jawa Timur          0           1   \n",
       "3      1/11/2020             ID-JI         Jawa Timur          0           3   \n",
       "4      1/12/2020             ID-JI         Jawa Timur          0           3   \n",
       "...          ...               ...                ...        ...         ...   \n",
       "16278   7/9/2021             ID-SG  Sulawesi Tenggara        124           1   \n",
       "16279   7/9/2021             ID-SA     Sulawesi Utara        278           9   \n",
       "16280   7/9/2021             ID-SB     Sumatera Barat        718          10   \n",
       "16281   7/9/2021             ID-SS   Sumatera Selatan        341           6   \n",
       "16282   7/9/2021             ID-SU     Sumatera Utara        336           5   \n",
       "\n",
       "       New Recovered  New Active Cases  Total Cases  Total Deaths  \\\n",
       "0                  1                 5            9             5   \n",
       "1                 23               -24            9             6   \n",
       "2                 14               -15            9             7   \n",
       "3                  8               -11            9            10   \n",
       "4                  1                -4            9            13   \n",
       "...              ...               ...          ...           ...   \n",
       "16278              3               120        12447           252   \n",
       "16279              9               260        17424           572   \n",
       "16280            275               433        55675          1259   \n",
       "16281            221               114        31147          1569   \n",
       "16282            241                90        38040          1232   \n",
       "\n",
       "       Total Recovered  ...  New Deaths per Million Total Deaths per Million  \\\n",
       "0                   10  ...                    0.07                     0.12   \n",
       "1                   33  ...                    0.02                     0.15   \n",
       "2                   47  ...                    0.02                     0.17   \n",
       "3                   55  ...                    0.07                     0.25   \n",
       "4                   56  ...                    0.07                     0.32   \n",
       "...                ...  ...                     ...                      ...   \n",
       "16278            10412  ...                    0.38                    95.62   \n",
       "16279            15525  ...                    3.41                   216.51   \n",
       "16280            48840  ...                    1.81                   228.11   \n",
       "16281            27088  ...                    0.73                   190.93   \n",
       "16282            33773  ...                    0.34                    82.82   \n",
       "\n",
       "       Case Fatality Rate Case Recovered Rate Growth Factor of New Cases  \\\n",
       "0                  55.56%             111.11%                        NaN   \n",
       "1                  66.67%             366.67%                       0.00   \n",
       "2                  77.78%             522.22%                       1.00   \n",
       "3                 111.11%             611.11%                       1.00   \n",
       "4                 144.44%             622.22%                       1.00   \n",
       "...                   ...                 ...                        ...   \n",
       "16278               2.02%              83.65%                       0.92   \n",
       "16279               3.28%              89.10%                       1.24   \n",
       "16280               2.26%              87.72%                       0.93   \n",
       "16281               5.04%              86.97%                       1.15   \n",
       "16282               3.24%              88.78%                       1.22   \n",
       "\n",
       "      Growth Factor of New Deaths Name Item Kind  Hidden  \n",
       "0                             NaN  NaN  NaN  NaN     NaN  \n",
       "1                            0.33  NaN  NaN  NaN     NaN  \n",
       "2                            1.00  NaN  NaN  NaN     NaN  \n",
       "3                            3.00  NaN  NaN  NaN     NaN  \n",
       "4                            1.00  NaN  NaN  NaN     NaN  \n",
       "...                           ...  ...  ...  ...     ...  \n",
       "16278                        0.50  NaN  NaN  NaN     NaN  \n",
       "16279                        9.00  NaN  NaN  NaN     NaN  \n",
       "16280                        1.00  NaN  NaN  NaN     NaN  \n",
       "16281                        0.38  NaN  NaN  NaN     NaN  \n",
       "16282                        0.83  NaN  NaN  NaN     NaN  \n",
       "\n",
       "[16283 rows x 41 columns]"
      ]
     },
     "execution_count": 42,
     "metadata": {},
     "output_type": "execute_result"
    }
   ],
   "source": [
    "df"
   ]
  },
  {
   "cell_type": "code",
   "execution_count": 20,
   "id": "e1b53f11",
   "metadata": {},
   "outputs": [
    {
     "data": {
      "text/html": [
       "<div>\n",
       "<style scoped>\n",
       "    .dataframe tbody tr th:only-of-type {\n",
       "        vertical-align: middle;\n",
       "    }\n",
       "\n",
       "    .dataframe tbody tr th {\n",
       "        vertical-align: top;\n",
       "    }\n",
       "\n",
       "    .dataframe thead th {\n",
       "        text-align: right;\n",
       "    }\n",
       "</style>\n",
       "<table border=\"1\" class=\"dataframe\">\n",
       "  <thead>\n",
       "    <tr style=\"text-align: right;\">\n",
       "      <th></th>\n",
       "      <th>New Cases</th>\n",
       "      <th>New Deaths</th>\n",
       "      <th>New Recovered</th>\n",
       "      <th>New Active Cases</th>\n",
       "      <th>Total Cases</th>\n",
       "      <th>Total Deaths</th>\n",
       "      <th>Total Recovered</th>\n",
       "      <th>Total Active Cases</th>\n",
       "      <th>City or Regency</th>\n",
       "      <th>Total Regencies</th>\n",
       "      <th>...</th>\n",
       "      <th>New Cases per Million</th>\n",
       "      <th>Total Cases per Million</th>\n",
       "      <th>New Deaths per Million</th>\n",
       "      <th>Total Deaths per Million</th>\n",
       "      <th>Growth Factor of New Cases</th>\n",
       "      <th>Growth Factor of New Deaths</th>\n",
       "      <th>Name</th>\n",
       "      <th>Item</th>\n",
       "      <th>Kind</th>\n",
       "      <th>Hidden</th>\n",
       "    </tr>\n",
       "  </thead>\n",
       "  <tbody>\n",
       "    <tr>\n",
       "      <th>count</th>\n",
       "      <td>16283.000000</td>\n",
       "      <td>16283.000000</td>\n",
       "      <td>16283.000000</td>\n",
       "      <td>16283.000000</td>\n",
       "      <td>1.628300e+04</td>\n",
       "      <td>16283.000000</td>\n",
       "      <td>1.628300e+04</td>\n",
       "      <td>16283.000000</td>\n",
       "      <td>0.0</td>\n",
       "      <td>16283.000000</td>\n",
       "      <td>...</td>\n",
       "      <td>16283.000000</td>\n",
       "      <td>16283.000000</td>\n",
       "      <td>16283.000000</td>\n",
       "      <td>16283.000000</td>\n",
       "      <td>15298.000000</td>\n",
       "      <td>14344.000000</td>\n",
       "      <td>0.0</td>\n",
       "      <td>0.0</td>\n",
       "      <td>0.0</td>\n",
       "      <td>0.0</td>\n",
       "    </tr>\n",
       "    <tr>\n",
       "      <th>mean</th>\n",
       "      <td>301.271879</td>\n",
       "      <td>7.919364</td>\n",
       "      <td>248.015783</td>\n",
       "      <td>45.336732</td>\n",
       "      <td>4.274674e+04</td>\n",
       "      <td>1243.917644</td>\n",
       "      <td>3.689427e+04</td>\n",
       "      <td>4608.549714</td>\n",
       "      <td>NaN</td>\n",
       "      <td>24.792913</td>\n",
       "      <td>...</td>\n",
       "      <td>20.673622</td>\n",
       "      <td>2977.160052</td>\n",
       "      <td>0.463346</td>\n",
       "      <td>72.462398</td>\n",
       "      <td>1.437652</td>\n",
       "      <td>1.084872</td>\n",
       "      <td>NaN</td>\n",
       "      <td>NaN</td>\n",
       "      <td>NaN</td>\n",
       "      <td>NaN</td>\n",
       "    </tr>\n",
       "    <tr>\n",
       "      <th>std</th>\n",
       "      <td>1330.028199</td>\n",
       "      <td>32.171434</td>\n",
       "      <td>997.784905</td>\n",
       "      <td>550.203700</td>\n",
       "      <td>1.784936e+05</td>\n",
       "      <td>4944.634529</td>\n",
       "      <td>1.580017e+05</td>\n",
       "      <td>17670.075450</td>\n",
       "      <td>NaN</td>\n",
       "      <td>69.658831</td>\n",
       "      <td>...</td>\n",
       "      <td>45.319811</td>\n",
       "      <td>4987.373956</td>\n",
       "      <td>1.096785</td>\n",
       "      <td>99.203343</td>\n",
       "      <td>3.388187</td>\n",
       "      <td>1.949005</td>\n",
       "      <td>NaN</td>\n",
       "      <td>NaN</td>\n",
       "      <td>NaN</td>\n",
       "      <td>NaN</td>\n",
       "    </tr>\n",
       "    <tr>\n",
       "      <th>min</th>\n",
       "      <td>0.000000</td>\n",
       "      <td>0.000000</td>\n",
       "      <td>0.000000</td>\n",
       "      <td>-8381.000000</td>\n",
       "      <td>1.000000e+00</td>\n",
       "      <td>0.000000</td>\n",
       "      <td>0.000000e+00</td>\n",
       "      <td>-2395.000000</td>\n",
       "      <td>NaN</td>\n",
       "      <td>1.000000</td>\n",
       "      <td>...</td>\n",
       "      <td>0.000000</td>\n",
       "      <td>0.010000</td>\n",
       "      <td>0.000000</td>\n",
       "      <td>0.000000</td>\n",
       "      <td>0.000000</td>\n",
       "      <td>0.000000</td>\n",
       "      <td>NaN</td>\n",
       "      <td>NaN</td>\n",
       "      <td>NaN</td>\n",
       "      <td>NaN</td>\n",
       "    </tr>\n",
       "    <tr>\n",
       "      <th>25%</th>\n",
       "      <td>6.000000</td>\n",
       "      <td>0.000000</td>\n",
       "      <td>2.000000</td>\n",
       "      <td>-7.000000</td>\n",
       "      <td>7.265000e+02</td>\n",
       "      <td>23.000000</td>\n",
       "      <td>3.860000e+02</td>\n",
       "      <td>162.500000</td>\n",
       "      <td>NaN</td>\n",
       "      <td>8.000000</td>\n",
       "      <td>...</td>\n",
       "      <td>1.645000</td>\n",
       "      <td>166.695000</td>\n",
       "      <td>0.000000</td>\n",
       "      <td>4.980000</td>\n",
       "      <td>0.640000</td>\n",
       "      <td>0.670000</td>\n",
       "      <td>NaN</td>\n",
       "      <td>NaN</td>\n",
       "      <td>NaN</td>\n",
       "      <td>NaN</td>\n",
       "    </tr>\n",
       "    <tr>\n",
       "      <th>50%</th>\n",
       "      <td>39.000000</td>\n",
       "      <td>1.000000</td>\n",
       "      <td>24.000000</td>\n",
       "      <td>2.000000</td>\n",
       "      <td>5.941000e+03</td>\n",
       "      <td>149.000000</td>\n",
       "      <td>4.484000e+03</td>\n",
       "      <td>851.000000</td>\n",
       "      <td>NaN</td>\n",
       "      <td>12.000000</td>\n",
       "      <td>...</td>\n",
       "      <td>7.670000</td>\n",
       "      <td>1398.640000</td>\n",
       "      <td>0.110000</td>\n",
       "      <td>41.380000</td>\n",
       "      <td>1.000000</td>\n",
       "      <td>1.000000</td>\n",
       "      <td>NaN</td>\n",
       "      <td>NaN</td>\n",
       "      <td>NaN</td>\n",
       "      <td>NaN</td>\n",
       "    </tr>\n",
       "    <tr>\n",
       "      <th>75%</th>\n",
       "      <td>127.000000</td>\n",
       "      <td>4.000000</td>\n",
       "      <td>106.000000</td>\n",
       "      <td>32.000000</td>\n",
       "      <td>1.777450e+04</td>\n",
       "      <td>556.000000</td>\n",
       "      <td>1.430450e+04</td>\n",
       "      <td>2271.000000</td>\n",
       "      <td>NaN</td>\n",
       "      <td>18.000000</td>\n",
       "      <td>...</td>\n",
       "      <td>21.870000</td>\n",
       "      <td>3817.535000</td>\n",
       "      <td>0.550000</td>\n",
       "      <td>93.520000</td>\n",
       "      <td>1.330000</td>\n",
       "      <td>1.000000</td>\n",
       "      <td>NaN</td>\n",
       "      <td>NaN</td>\n",
       "      <td>NaN</td>\n",
       "      <td>NaN</td>\n",
       "    </tr>\n",
       "    <tr>\n",
       "      <th>max</th>\n",
       "      <td>38391.000000</td>\n",
       "      <td>1040.000000</td>\n",
       "      <td>28975.000000</td>\n",
       "      <td>18504.000000</td>\n",
       "      <td>2.455912e+06</td>\n",
       "      <td>64631.000000</td>\n",
       "      <td>2.023548e+06</td>\n",
       "      <td>367733.000000</td>\n",
       "      <td>NaN</td>\n",
       "      <td>416.000000</td>\n",
       "      <td>...</td>\n",
       "      <td>1208.910000</td>\n",
       "      <td>58673.660000</td>\n",
       "      <td>63.800000</td>\n",
       "      <td>854.680000</td>\n",
       "      <td>175.000000</td>\n",
       "      <td>134.500000</td>\n",
       "      <td>NaN</td>\n",
       "      <td>NaN</td>\n",
       "      <td>NaN</td>\n",
       "      <td>NaN</td>\n",
       "    </tr>\n",
       "  </tbody>\n",
       "</table>\n",
       "<p>8 rows × 29 columns</p>\n",
       "</div>"
      ],
      "text/plain": [
       "          New Cases    New Deaths  New Recovered  New Active Cases  \\\n",
       "count  16283.000000  16283.000000   16283.000000      16283.000000   \n",
       "mean     301.271879      7.919364     248.015783         45.336732   \n",
       "std     1330.028199     32.171434     997.784905        550.203700   \n",
       "min        0.000000      0.000000       0.000000      -8381.000000   \n",
       "25%        6.000000      0.000000       2.000000         -7.000000   \n",
       "50%       39.000000      1.000000      24.000000          2.000000   \n",
       "75%      127.000000      4.000000     106.000000         32.000000   \n",
       "max    38391.000000   1040.000000   28975.000000      18504.000000   \n",
       "\n",
       "        Total Cases  Total Deaths  Total Recovered  Total Active Cases  \\\n",
       "count  1.628300e+04  16283.000000     1.628300e+04        16283.000000   \n",
       "mean   4.274674e+04   1243.917644     3.689427e+04         4608.549714   \n",
       "std    1.784936e+05   4944.634529     1.580017e+05        17670.075450   \n",
       "min    1.000000e+00      0.000000     0.000000e+00        -2395.000000   \n",
       "25%    7.265000e+02     23.000000     3.860000e+02          162.500000   \n",
       "50%    5.941000e+03    149.000000     4.484000e+03          851.000000   \n",
       "75%    1.777450e+04    556.000000     1.430450e+04         2271.000000   \n",
       "max    2.455912e+06  64631.000000     2.023548e+06       367733.000000   \n",
       "\n",
       "       City or Regency  Total Regencies  ...  New Cases per Million  \\\n",
       "count              0.0     16283.000000  ...           16283.000000   \n",
       "mean               NaN        24.792913  ...              20.673622   \n",
       "std                NaN        69.658831  ...              45.319811   \n",
       "min                NaN         1.000000  ...               0.000000   \n",
       "25%                NaN         8.000000  ...               1.645000   \n",
       "50%                NaN        12.000000  ...               7.670000   \n",
       "75%                NaN        18.000000  ...              21.870000   \n",
       "max                NaN       416.000000  ...            1208.910000   \n",
       "\n",
       "       Total Cases per Million  New Deaths per Million  \\\n",
       "count             16283.000000            16283.000000   \n",
       "mean               2977.160052                0.463346   \n",
       "std                4987.373956                1.096785   \n",
       "min                   0.010000                0.000000   \n",
       "25%                 166.695000                0.000000   \n",
       "50%                1398.640000                0.110000   \n",
       "75%                3817.535000                0.550000   \n",
       "max               58673.660000               63.800000   \n",
       "\n",
       "       Total Deaths per Million  Growth Factor of New Cases  \\\n",
       "count              16283.000000                15298.000000   \n",
       "mean                  72.462398                    1.437652   \n",
       "std                   99.203343                    3.388187   \n",
       "min                    0.000000                    0.000000   \n",
       "25%                    4.980000                    0.640000   \n",
       "50%                   41.380000                    1.000000   \n",
       "75%                   93.520000                    1.330000   \n",
       "max                  854.680000                  175.000000   \n",
       "\n",
       "       Growth Factor of New Deaths  Name  Item  Kind  Hidden  \n",
       "count                 14344.000000   0.0   0.0   0.0     0.0  \n",
       "mean                      1.084872   NaN   NaN   NaN     NaN  \n",
       "std                       1.949005   NaN   NaN   NaN     NaN  \n",
       "min                       0.000000   NaN   NaN   NaN     NaN  \n",
       "25%                       0.670000   NaN   NaN   NaN     NaN  \n",
       "50%                       1.000000   NaN   NaN   NaN     NaN  \n",
       "75%                       1.000000   NaN   NaN   NaN     NaN  \n",
       "max                     134.500000   NaN   NaN   NaN     NaN  \n",
       "\n",
       "[8 rows x 29 columns]"
      ]
     },
     "execution_count": 20,
     "metadata": {},
     "output_type": "execute_result"
    }
   ],
   "source": [
    "df.describe()"
   ]
  },
  {
   "cell_type": "code",
   "execution_count": 5,
   "id": "2a91935c",
   "metadata": {},
   "outputs": [
    {
     "data": {
      "text/plain": [
       "New Cases                      3.900000e+01\n",
       "New Deaths                     1.000000e+00\n",
       "New Recovered                  2.400000e+01\n",
       "New Active Cases               2.000000e+00\n",
       "Total Cases                    5.941000e+03\n",
       "Total Deaths                   1.490000e+02\n",
       "Total Recovered                4.484000e+03\n",
       "Total Active Cases             8.510000e+02\n",
       "City or Regency                         NaN\n",
       "Total Regencies                1.200000e+01\n",
       "Total Cities                   2.000000e+00\n",
       "Total Districts                1.710000e+02\n",
       "Total Urban Villages           1.750000e+02\n",
       "Total Rural Villages           1.591000e+03\n",
       "Area (km2)                     4.671700e+04\n",
       "Population                     4.340348e+06\n",
       "Population Density             1.038400e+02\n",
       "Longitude                      1.127329e+02\n",
       "Latitude                      -2.993595e+00\n",
       "New Cases per Million          7.670000e+00\n",
       "Total Cases per Million        1.398640e+03\n",
       "New Deaths per Million         1.100000e-01\n",
       "Total Deaths per Million       4.138000e+01\n",
       "Growth Factor of New Cases     1.000000e+00\n",
       "Growth Factor of New Deaths    1.000000e+00\n",
       "Name                                    NaN\n",
       "Item                                    NaN\n",
       "Kind                                    NaN\n",
       "Hidden                                  NaN\n",
       "dtype: float64"
      ]
     },
     "execution_count": 5,
     "metadata": {},
     "output_type": "execute_result"
    }
   ],
   "source": [
    "df.median()"
   ]
  },
  {
   "cell_type": "code",
   "execution_count": 18,
   "id": "6c372a6e",
   "metadata": {
    "scrolled": true
   },
   "outputs": [
    {
     "data": {
      "text/plain": [
       "New Cases                      3.012719e+02\n",
       "New Deaths                     7.919364e+00\n",
       "New Recovered                  2.480158e+02\n",
       "New Active Cases               4.533673e+01\n",
       "Total Cases                    4.274674e+04\n",
       "Total Deaths                   1.243918e+03\n",
       "Total Recovered                3.689427e+04\n",
       "Total Active Cases             4.608550e+03\n",
       "City or Regency                         NaN\n",
       "Total Regencies                2.479291e+01\n",
       "Total Cities                   6.049576e+00\n",
       "Total Districts                4.325953e+02\n",
       "Total Urban Villages           5.244581e+02\n",
       "Total Rural Villages           4.631860e+03\n",
       "Area (km2)                     1.140775e+05\n",
       "Population                     1.605704e+07\n",
       "Population Density             7.683087e+02\n",
       "Longitude                      1.134275e+02\n",
       "Latitude                      -2.850093e+00\n",
       "New Cases per Million          2.067362e+01\n",
       "Total Cases per Million        2.977160e+03\n",
       "New Deaths per Million         4.633464e-01\n",
       "Total Deaths per Million       7.246240e+01\n",
       "Growth Factor of New Cases     1.437652e+00\n",
       "Growth Factor of New Deaths    1.084872e+00\n",
       "Name                                    NaN\n",
       "Item                                    NaN\n",
       "Kind                                    NaN\n",
       "Hidden                                  NaN\n",
       "dtype: float64"
      ]
     },
     "execution_count": 18,
     "metadata": {},
     "output_type": "execute_result"
    }
   ],
   "source": [
    "df.mean()"
   ]
  },
  {
   "cell_type": "code",
   "execution_count": 58,
   "id": "9a439072",
   "metadata": {},
   "outputs": [
    {
     "data": {
      "text/plain": [
       "0    846.78\n",
       "dtype: float64"
      ]
     },
     "execution_count": 58,
     "metadata": {},
     "output_type": "execute_result"
    }
   ],
   "source": [
    "df[\"New Cases\"].mode()\n",
    "df[\"New Deaths\"].mode()\n",
    "df[\"New Recovered\"].mode()\n",
    "df[\"New Active Cases\"].mode()\n",
    "df[\"Total Cases\"].mode()\n",
    "df[\"Total Deaths\"].mode()\n",
    "df[\"Total Recovered\"].mode()\n",
    "df[\"Total Active Cases\"].mode()\n",
    "df[\"Total Regencies\"].mode()\n",
    "df[\"Total Cities\"].mode()\n",
    "df[\"Total Districts\"].mode()\n",
    "df[\"Total Urban Villages\"].mode()\n",
    "df[\"Total Rural Villages\"].mode()\n",
    "df[\"Population Density\"].mode()"
   ]
  },
  {
   "cell_type": "code",
   "execution_count": 52,
   "id": "6fe9006e",
   "metadata": {},
   "outputs": [
    {
     "data": {
      "text/plain": [
       "0    0\n",
       "dtype: int64"
      ]
     },
     "execution_count": 52,
     "metadata": {},
     "output_type": "execute_result"
    }
   ],
   "source": [
    "df[\"New Recovered\"].mode()"
   ]
  },
  {
   "cell_type": "code",
   "execution_count": 53,
   "id": "b72f9402",
   "metadata": {},
   "outputs": [
    {
     "data": {
      "text/plain": [
       "0    0\n",
       "dtype: int64"
      ]
     },
     "execution_count": 53,
     "metadata": {},
     "output_type": "execute_result"
    }
   ],
   "source": [
    "df[\"New Active Cases\"].mode()"
   ]
  },
  {
   "cell_type": "code",
   "execution_count": 55,
   "id": "0653305b",
   "metadata": {},
   "outputs": [
    {
     "data": {
      "text/plain": [
       "0    1\n",
       "dtype: int64"
      ]
     },
     "execution_count": 55,
     "metadata": {},
     "output_type": "execute_result"
    }
   ],
   "source": [
    "df[\"Total Cases\"].mode()"
   ]
  },
  {
   "cell_type": "code",
   "execution_count": 56,
   "id": "802d5de8",
   "metadata": {},
   "outputs": [
    {
     "data": {
      "text/plain": [
       "0    2\n",
       "dtype: int64"
      ]
     },
     "execution_count": 56,
     "metadata": {},
     "output_type": "execute_result"
    }
   ],
   "source": [
    "df[\"Total Deaths\"].mode()"
   ]
  },
  {
   "cell_type": "code",
   "execution_count": 57,
   "id": "da8dd930",
   "metadata": {},
   "outputs": [
    {
     "data": {
      "text/plain": [
       "0    0\n",
       "dtype: int64"
      ]
     },
     "execution_count": 57,
     "metadata": {},
     "output_type": "execute_result"
    }
   ],
   "source": [
    "df[\"Total Recovered\"].mode()"
   ]
  },
  {
   "cell_type": "code",
   "execution_count": 76,
   "id": "1e655ee5",
   "metadata": {},
   "outputs": [
    {
     "data": {
      "text/plain": [
       "0    0\n",
       "dtype: int64"
      ]
     },
     "execution_count": 76,
     "metadata": {},
     "output_type": "execute_result"
    }
   ],
   "source": [
    "df[\"New Cases\"].mode()"
   ]
  },
  {
   "cell_type": "markdown",
   "id": "7ad61ae5",
   "metadata": {},
   "source": [
    "# 2. Measures with Variances\n",
    "- Range\n",
    "- Percentiles\n",
    "- Quartiles \n",
    "- Outliers\n",
    "- Variance and Standart Deviation\n",
    "- Standart Deviation in Normal Distribution\n",
    "- Z Score "
   ]
  },
  {
   "cell_type": "code",
   "execution_count": 80,
   "id": "3f8c09c7",
   "metadata": {},
   "outputs": [
    {
     "name": "stdout",
     "output_type": "stream",
     "text": [
      "New Cases Range 38391\n",
      "New Deaths Range 1040\n",
      "New Recovered Range 28975\n",
      "New Active Cases Range 26885\n"
     ]
    }
   ],
   "source": [
    "#Range\n",
    "rangecol = [\"New Cases\", \"New Deaths\", \"New Recovered\", \"New Active Cases\"]\n",
    "for col in rangecol:\n",
    "    print(df[col].name + \" Range \" + str(df[col].max() - df[col].min()))"
   ]
  },
  {
   "cell_type": "code",
   "execution_count": 84,
   "id": "7a215714",
   "metadata": {},
   "outputs": [
    {
     "name": "stdout",
     "output_type": "stream",
     "text": [
      "23.5460296014248\n",
      "32.303629552293806\n",
      "27.9279002640791\n"
     ]
    }
   ],
   "source": [
    "#Pencentiles\n",
    "print(stats.percentileofscore(df['Total Regencies'], 8, 'strict'))\n",
    "print(stats.percentileofscore(df['Total Regencies'], 8, 'weak'))\n",
    "print(stats.percentileofscore(df['Total Regencies'], 8, 'rank'))"
   ]
  },
  {
   "cell_type": "code",
   "execution_count": 90,
   "id": "4afca01e",
   "metadata": {},
   "outputs": [
    {
     "name": "stdout",
     "output_type": "stream",
     "text": [
      "0.25     8.0\n",
      "0.50    12.0\n",
      "0.75    18.0\n",
      "Name: Total Regencies, dtype: float64\n"
     ]
    }
   ],
   "source": [
    "#Quartiles\n",
    "print(df['Total Regencies'].quantile([0.25, 0.5, 0.75]))"
   ]
  },
  {
   "cell_type": "code",
   "execution_count": 119,
   "id": "32aada27",
   "metadata": {},
   "outputs": [
    {
     "data": {
      "image/png": "[encoded data removed]",
      "text/plain": [
       "<Figure size 720x576 with 1 Axes>"
      ]
     },
     "metadata": {
      "needs_background": "light"
     },
     "output_type": "display_data"
    }
   ],
   "source": [
    "#Outliers\n",
    "df['Total Regencies'].plot(kind='box', title='Salary Distribution', figsize=(10,8), showfliers=False)\n",
    "plt.show()"
   ]
  },
  {
   "cell_type": "code",
   "execution_count": 94,
   "id": "dd319fd4",
   "metadata": {},
   "outputs": [
    {
     "name": "stdout",
     "output_type": "stream",
     "text": [
      "4852.352763919315\n"
     ]
    }
   ],
   "source": [
    "#Variance\n",
    "print(df['Total Regencies'].var())"
   ]
  },
  {
   "cell_type": "code",
   "execution_count": 95,
   "id": "44157384",
   "metadata": {},
   "outputs": [
    {
     "name": "stdout",
     "output_type": "stream",
     "text": [
      "69.6588311983435\n"
     ]
    }
   ],
   "source": [
    "#Standart Deviation\n",
    "print(df['Total Regencies'].std())"
   ]
  },
  {
   "cell_type": "code",
   "execution_count": 97,
   "id": "b866cfd7",
   "metadata": {},
   "outputs": [],
   "source": [
    "#Z Score\n",
    "Zscore =(df['Total Regencies'] - df['Total Regencies'].mean()) / df['Total Regencies'].std()"
   ]
  },
  {
   "cell_type": "code",
   "execution_count": 98,
   "id": "09fcd8d1",
   "metadata": {},
   "outputs": [
    {
     "data": {
      "text/plain": [
       "0        0.060396\n",
       "1        0.060396\n",
       "2        0.060396\n",
       "3        0.060396\n",
       "4        0.060396\n",
       "           ...   \n",
       "16278   -0.140584\n",
       "16279   -0.198007\n",
       "16280   -0.183651\n",
       "16281   -0.169295\n",
       "16282    0.002973\n",
       "Name: Total Regencies, Length: 16283, dtype: float64"
      ]
     },
     "execution_count": 98,
     "metadata": {},
     "output_type": "execute_result"
    }
   ],
   "source": [
    "Zscore"
   ]
  },
  {
   "cell_type": "code",
   "execution_count": 118,
   "id": "7e2ff907",
   "metadata": {},
   "outputs": [
    {
     "name": "stdout",
     "output_type": "stream",
     "text": [
      "Total yang lebih dari mean: 2488\n",
      "Total yang tidak lebih dari mean: 13795\n"
     ]
    }
   ],
   "source": [
    "mines = []\n",
    "maka = []\n",
    "for zero in Zscore:\n",
    "    if zero > 0:\n",
    "        maka.append(zero)\n",
    "    elif zero < 0:\n",
    "        mines.append(zero)\n",
    "print(\"Total yang lebih dari mean: \" + str(len(maka)))  \n",
    "print(\"Total yang tidak lebih dari mean: \" + str(len(mines)))"
   ]
  }
 ],
 "metadata": {
  "kernelspec": {
   "display_name": "Python 3",
   "language": "python",
   "name": "python3"
  },
  "language_info": {
   "codemirror_mode": {
    "name": "ipython",
    "version": 3
   },
   "file_extension": ".py",
   "mimetype": "text/x-python",
   "name": "python",
   "nbconvert_exporter": "python",
   "pygments_lexer": "ipython3",
   "version": "3.8.8"
  }
 },
 "nbformat": 4,
 "nbformat_minor": 5
}
